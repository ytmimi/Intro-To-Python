{
 "cells": [
  {
   "cell_type": "markdown",
   "metadata": {},
   "source": [
    "# Recap Last Week\n",
    "\n",
    "**we covered:**\n",
    "* Lists\n",
    "* Dictionaries\n",
    "* Sets\n",
    "* Tuples\n",
    "* For loops\n",
    "* While loops"
   ]
  },
  {
   "cell_type": "markdown",
   "metadata": {},
   "source": [
    "# What we'll cover this week\n",
    "\n",
    "* Comprehensions\n",
    "* Functions\n",
    "* Reading and Writing to (text) files\n",
    "* Error Handling"
   ]
  },
  {
   "cell_type": "markdown",
   "metadata": {},
   "source": [
    "## Comprehensions\n",
    "\n",
    "Comprehensions provide a consise syntax for evaluating expressions over collections of objects. Comprehensions can be used to filter sets of items, and always return a new data structure containing the new items."
   ]
  },
  {
   "cell_type": "markdown",
   "metadata": {},
   "source": [
    "### List Comprehensions\n",
    "\n",
    "A list comprehension can be used to create a list from any iterable in Python. Remember that iterables are objects that can be looped over using Python's **for** keyword. The syntax for a list comprehension is as follows:\n",
    "    \n",
    "    [ expression for item in list (optional -- if conditional)]\n",
    "   \n",
    "list comprehensions are wrapped in \\[\\] to indicate that they will return a list"
   ]
  },
  {
   "cell_type": "code",
   "execution_count": 1,
   "metadata": {},
   "outputs": [
    {
     "name": "stdout",
     "output_type": "stream",
     "text": [
      "[0, 1, 4, 9, 16, 25, 36, 49, 64, 81]\n"
     ]
    }
   ],
   "source": [
    "# Lets say you wanted to create a list contianing the square of every number from 0 - 9, Here's one way you could do it\n",
    "\n",
    "# start with an empty list \n",
    "squares = []\n",
    "\n",
    "# loop through the numbers 0 -9\n",
    "for num in range(10):\n",
    "    # append num ** 2 to the squares list\n",
    "    squares.append(num ** 2)\n",
    "\n",
    "print(squares)"
   ]
  },
  {
   "cell_type": "markdown",
   "metadata": {},
   "source": [
    "Any time you find yourslef writing code like this: \n",
    "\n",
    "    some_list = []\n",
    "    for item in collection:\n",
    "        some_list.append(item)\n",
    "        \n",
    "chances are you can rewrite the code to utilise a list comprehension, which will often times more clearly and conscisly convey what you're trying to do"
   ]
  },
  {
   "cell_type": "code",
   "execution_count": 70,
   "metadata": {},
   "outputs": [
    {
     "name": "stdout",
     "output_type": "stream",
     "text": [
      "[0, 1, 4, 9, 16, 25, 36, 49, 64, 81]\n"
     ]
    }
   ],
   "source": [
    "# we can achevie the result as above in a single line of code using a comprehension\n",
    "comp_squares = [x**2 for x in range(10)]\n",
    "print(comp_squares)\n",
    "\n",
    "# Note that the comprehension is more consice, quicker to understand, and easier to read and write"
   ]
  },
  {
   "cell_type": "code",
   "execution_count": 71,
   "metadata": {},
   "outputs": [
    {
     "name": "stdout",
     "output_type": "stream",
     "text": [
      "['SARAH', 'BOB', 'JOEY', 'TIM', 'JOSH']\n"
     ]
    }
   ],
   "source": [
    "# really any expression can be evaluated in the comprehension\n",
    "names = ['Sarah', 'Bob', 'Joey', 'Tim', 'Josh']\n",
    "\n",
    "upper_names = [name.upper() for name in names]\n",
    "print(upper_names)"
   ]
  },
  {
   "cell_type": "code",
   "execution_count": 5,
   "metadata": {},
   "outputs": [
    {
     "name": "stdout",
     "output_type": "stream",
     "text": [
      "[(0, 0), (2, 4), (4, 16), (6, 36), (8, 64), (10, 100), (12, 144), (14, 196), (16, 256), (18, 324), (20, 400), (22, 484), (24, 576)]\n"
     ]
    }
   ],
   "source": [
    "# you can also conditionally filter the result set of a comprehension\n",
    "\n",
    "# all even squares from 0 - 25\n",
    "even_squares = [(x, x**2) for x in range(26) if x**2 % 2 == 0]\n",
    "print(even_squares)"
   ]
  },
  {
   "cell_type": "markdown",
   "metadata": {},
   "source": [
    "### Dictionary Comprehensions\n",
    "\n",
    "Dictionary comprehensions are very similar to list comprehensions, execpt the syntax is slightly differnt. They use {}, so its very similar to a dictionary literal, but for each value of the collection you have to specify a key and value, seperated by a colon. The syntax is as follows:\n",
    "    \n",
    "    {key:value for some_item in collection}\n",
    "\n",
    "**Note: it's possible that Both the key and the value can be calucalted from some expression.**"
   ]
  },
  {
   "cell_type": "code",
   "execution_count": 72,
   "metadata": {},
   "outputs": [
    {
     "name": "stdout",
     "output_type": "stream",
     "text": [
      "{'Sarah': 5, 'Bob': 3, 'Joey': 4, 'Tim': 3, 'Josh': 4}\n"
     ]
    }
   ],
   "source": [
    "# using the same names list from before we can constuct a dictionary mapping names to their length\n",
    "names = ['Sarah', 'Bob', 'Joey', 'Tim', 'Josh']\n",
    "\n",
    "name_dict = {name:len(name) for name in names}\n",
    "print(name_dict)"
   ]
  },
  {
   "cell_type": "code",
   "execution_count": 13,
   "metadata": {},
   "outputs": [
    {
     "name": "stdout",
     "output_type": "stream",
     "text": [
      "{'JOEY': 4, 'JOSH': 4}\n"
     ]
    }
   ],
   "source": [
    "# you can also use if statements to fileter the resulting dictionary\n",
    "\n",
    "\n",
    "filtered_name_dict = {name.upper():len(name) for name in names if len(name) == 4}\n",
    "print(filtered_name_dict)"
   ]
  },
  {
   "cell_type": "markdown",
   "metadata": {},
   "source": [
    "## Functions\n",
    "\n",
    "conseptually, a function is a means to encapsulate logic so it can be reused throughout your program."
   ]
  },
  {
   "cell_type": "markdown",
   "metadata": {},
   "source": [
    "### Defining functions\n",
    "In Python, a function definition starts with the keyword **def** followed by the name of the function. After the name, you define any **parameters** the function might take in **()**, and finally you end the funcion defintion with a **:**. The body of the function can contain any code you want and is indented one level further than the function definition. Here's what the syntax looks like:\n",
    "\n",
    "    def name_of_function(arg1, arg2, arg3...):   <--- function definition\n",
    "        some code in the body...    <--- function body\n",
    "\n",
    "\n",
    "**NOTE: Function parameters are optional. It's totaly valid to define a function that doesn't take any arguments when called. However, when you're deciding how to define your function you should try and think of what the function is going to do, and what data it might need. As the author of the function you get to decide what variable names you'd like to use when referencing parameters in the function defintion. Those paramerts can then be referenced in the function body.**"
   ]
  },
  {
   "cell_type": "code",
   "execution_count": 14,
   "metadata": {},
   "outputs": [],
   "source": [
    "# Lets define a simple function that doesn't take any arguments and just prints \"hello world\" to the screen\n",
    "def hello_world():\n",
    "    print(\"hello world\")"
   ]
  },
  {
   "cell_type": "markdown",
   "metadata": {},
   "source": [
    "### Errors when defining functions\n",
    "\n",
    "Typically Errors encountered when defining functions are all SyntaxErrors. A few examples are listed below"
   ]
  },
  {
   "cell_type": "code",
   "execution_count": 19,
   "metadata": {},
   "outputs": [
    {
     "ename": "SyntaxError",
     "evalue": "unexpected EOF while parsing (<ipython-input-19-b5cd7b96f321>, line 2)",
     "output_type": "error",
     "traceback": [
      "\u001b[1;36m  File \u001b[1;32m\"<ipython-input-19-b5cd7b96f321>\"\u001b[1;36m, line \u001b[1;32m2\u001b[0m\n\u001b[1;33m    def missing_body():\u001b[0m\n\u001b[1;37m                       ^\u001b[0m\n\u001b[1;31mSyntaxError\u001b[0m\u001b[1;31m:\u001b[0m unexpected EOF while parsing\n"
     ]
    }
   ],
   "source": [
    "# All functions must define a body\n",
    "def missing_body():"
   ]
  },
  {
   "cell_type": "markdown",
   "metadata": {},
   "source": [
    "If you want to define an empty function you can create the function definition and then use **pass** in the body"
   ]
  },
  {
   "cell_type": "code",
   "execution_count": 73,
   "metadata": {},
   "outputs": [],
   "source": [
    "def empty():\n",
    "    pass"
   ]
  },
  {
   "cell_type": "code",
   "execution_count": 21,
   "metadata": {},
   "outputs": [
    {
     "ename": "SyntaxError",
     "evalue": "invalid syntax (<ipython-input-21-f1b7d48a0846>, line 2)",
     "output_type": "error",
     "traceback": [
      "\u001b[1;36m  File \u001b[1;32m\"<ipython-input-21-f1b7d48a0846>\"\u001b[1;36m, line \u001b[1;32m2\u001b[0m\n\u001b[1;33m    def missing_colon()\u001b[0m\n\u001b[1;37m                       ^\u001b[0m\n\u001b[1;31mSyntaxError\u001b[0m\u001b[1;31m:\u001b[0m invalid syntax\n"
     ]
    }
   ],
   "source": [
    "# All function definitions must end with :\n",
    "def missing_colon()\n",
    "    pass"
   ]
  },
  {
   "cell_type": "code",
   "execution_count": 74,
   "metadata": {},
   "outputs": [
    {
     "ename": "SyntaxError",
     "evalue": "invalid syntax (<ipython-input-74-ef5d713100f9>, line 2)",
     "output_type": "error",
     "traceback": [
      "\u001b[1;36m  File \u001b[1;32m\"<ipython-input-74-ef5d713100f9>\"\u001b[1;36m, line \u001b[1;32m2\u001b[0m\n\u001b[1;33m    def missing_parentheses:\u001b[0m\n\u001b[1;37m                           ^\u001b[0m\n\u001b[1;31mSyntaxError\u001b[0m\u001b[1;31m:\u001b[0m invalid syntax\n"
     ]
    }
   ],
   "source": [
    "# All functions must have () to define parameters, even when none are required\n",
    "def missing_parentheses:\n",
    "    pass"
   ]
  },
  {
   "cell_type": "markdown",
   "metadata": {},
   "source": [
    "### Calling a function\n",
    "\n",
    "Once a function has been defined you can call the function. What that means is you can run the code defined inside the body of the function. To **call** a function you reference its name and pass in any required arguments inside **()**. Even if the function doesn't take arguments you still use **()** after the function name to indicate that you want to call the function.\n",
    "\n",
    "    name_of_defined_function(arg1, arg2, arg3...)\n",
    "\n",
    "**NOTE: You can ONLY call functions that have already been defined, and you must pass in all required arguments otherwise you will get an error**"
   ]
  },
  {
   "cell_type": "code",
   "execution_count": 24,
   "metadata": {},
   "outputs": [
    {
     "name": "stdout",
     "output_type": "stream",
     "text": [
      "hello world\n",
      "hello world\n",
      "hello world\n",
      "hello world\n",
      "hello world\n",
      "hello world\n",
      "hello world\n",
      "hello world\n",
      "hello world\n",
      "hello world\n"
     ]
    }
   ],
   "source": [
    "# Lets call the hello_world function from before\n",
    "for _ in range(10):\n",
    "    hello_world()"
   ]
  },
  {
   "cell_type": "markdown",
   "metadata": {},
   "source": [
    "**Note that \"hello world\" prints out as many times as we call the function. We define the function once, and can reuse it whenever and wherever we want in our code**"
   ]
  },
  {
   "cell_type": "markdown",
   "metadata": {},
   "source": [
    "### Common Errors when calling Functions\n",
    "We'll illustrate some errors when calling functions using the following even_or_odd function"
   ]
  },
  {
   "cell_type": "code",
   "execution_count": 75,
   "metadata": {},
   "outputs": [],
   "source": [
    "# we'll define a function that takes an integer as an input and tells us if that integer is even or odd\n",
    "\n",
    "# Note: the argument \"num\" in this example is completely arbitrary. you can call it whatever you want. \n",
    "# If you change it, make sure you rename \"num\" in the function body\n",
    "def even_or_odd(num):\n",
    "    if num % 2 == 0:\n",
    "        print(f'{num} is even')\n",
    "    else:\n",
    "        print(f'{num} is odd')"
   ]
  },
  {
   "cell_type": "code",
   "execution_count": 26,
   "metadata": {},
   "outputs": [
    {
     "name": "stdout",
     "output_type": "stream",
     "text": [
      "8 is even\n",
      "77 is odd\n",
      "1823678 is even\n",
      "100000000005 is odd\n"
     ]
    }
   ],
   "source": [
    "# Lets call the funtion with 8, 77, 1823678, 100000000005\n",
    "even_or_odd(8)\n",
    "even_or_odd(77)\n",
    "even_or_odd(1823678)\n",
    "even_or_odd(100000000005)"
   ]
  },
  {
   "cell_type": "markdown",
   "metadata": {},
   "source": [
    "**Passing fewer arguments then what a function expects will throw an error**"
   ]
  },
  {
   "cell_type": "code",
   "execution_count": 27,
   "metadata": {},
   "outputs": [
    {
     "ename": "TypeError",
     "evalue": "even_or_odd() missing 1 required positional argument: 'num'",
     "output_type": "error",
     "traceback": [
      "\u001b[1;31m---------------------------------------------------------------------------\u001b[0m",
      "\u001b[1;31mTypeError\u001b[0m                                 Traceback (most recent call last)",
      "\u001b[1;32m<ipython-input-27-25801a81f3cb>\u001b[0m in \u001b[0;36m<module>\u001b[1;34m\u001b[0m\n\u001b[0;32m      1\u001b[0m \u001b[1;31m# Becuase even_or_odd takes an argument, calling the function and forgetting to provide the argument will throw an error\u001b[0m\u001b[1;33m\u001b[0m\u001b[1;33m\u001b[0m\u001b[1;33m\u001b[0m\u001b[0m\n\u001b[1;32m----> 2\u001b[1;33m \u001b[0meven_or_odd\u001b[0m\u001b[1;33m(\u001b[0m\u001b[1;33m)\u001b[0m\u001b[1;33m\u001b[0m\u001b[1;33m\u001b[0m\u001b[0m\n\u001b[0m\u001b[0;32m      3\u001b[0m \u001b[1;33m\u001b[0m\u001b[0m\n\u001b[0;32m      4\u001b[0m \u001b[1;31m# The error message is pretty helpful, and lets us know that we forgot to pass a required argument to this function\u001b[0m\u001b[1;33m\u001b[0m\u001b[1;33m\u001b[0m\u001b[1;33m\u001b[0m\u001b[0m\n",
      "\u001b[1;31mTypeError\u001b[0m: even_or_odd() missing 1 required positional argument: 'num'"
     ]
    }
   ],
   "source": [
    "# Becuase even_or_odd takes an argument, calling the function and forgetting to provide the argument will throw an error\n",
    "even_or_odd()\n",
    "\n",
    "# The error message is pretty helpful, and lets us know that we forgot to pass a required argument to this function"
   ]
  },
  {
   "cell_type": "markdown",
   "metadata": {},
   "source": [
    "**Passing more arguments than what a function expects will also cause an error**"
   ]
  },
  {
   "cell_type": "code",
   "execution_count": 28,
   "metadata": {},
   "outputs": [
    {
     "ename": "TypeError",
     "evalue": "even_or_odd() takes 1 positional argument but 2 were given",
     "output_type": "error",
     "traceback": [
      "\u001b[1;31m---------------------------------------------------------------------------\u001b[0m",
      "\u001b[1;31mTypeError\u001b[0m                                 Traceback (most recent call last)",
      "\u001b[1;32m<ipython-input-28-860fff3abf55>\u001b[0m in \u001b[0;36m<module>\u001b[1;34m\u001b[0m\n\u001b[0;32m      1\u001b[0m \u001b[1;31m# Because even_or_odd is defined to take a single argument, passing in two throws an error\u001b[0m\u001b[1;33m\u001b[0m\u001b[1;33m\u001b[0m\u001b[1;33m\u001b[0m\u001b[0m\n\u001b[1;32m----> 2\u001b[1;33m \u001b[0meven_or_odd\u001b[0m\u001b[1;33m(\u001b[0m\u001b[1;36m6\u001b[0m\u001b[1;33m,\u001b[0m \u001b[1;36m6\u001b[0m\u001b[1;33m)\u001b[0m\u001b[1;33m\u001b[0m\u001b[1;33m\u001b[0m\u001b[0m\n\u001b[0m\u001b[0;32m      3\u001b[0m \u001b[1;33m\u001b[0m\u001b[0m\n\u001b[0;32m      4\u001b[0m \u001b[1;31m# Again, the error message here is pretty helpful and explains that we passed in an extra argument when we shouldnt have\u001b[0m\u001b[1;33m\u001b[0m\u001b[1;33m\u001b[0m\u001b[1;33m\u001b[0m\u001b[0m\n",
      "\u001b[1;31mTypeError\u001b[0m: even_or_odd() takes 1 positional argument but 2 were given"
     ]
    }
   ],
   "source": [
    "# Because even_or_odd is defined to take a single argument, passing in two throws an error\n",
    "even_or_odd(6, 6)\n",
    "\n",
    "# Again, the error message here is pretty helpful and explains that we passed in an extra argument that wasn't expected"
   ]
  },
  {
   "cell_type": "markdown",
   "metadata": {},
   "source": [
    "### Function Arguments (Positional vs Keyword)\n",
    "\n",
    "Up until this point we've been passing positional arguments to our functions. What that means is that we pass arguments to a function in the order that they're defined. We can also call a funtion by assigning values to its parameters directly. Being able to reference paramerters by name is useful, especially when a function takes many arguments. It makes it easiert to understand which values / varriables are being assigned to the different function paramerters."
   ]
  },
  {
   "cell_type": "code",
   "execution_count": 33,
   "metadata": {},
   "outputs": [],
   "source": [
    "# to demonstate keyword arguments we'll define a function that takes two arguments, a string and \n",
    "# a character. The function will return the number of times that character appears in the given string\n",
    "\n",
    "def count_char(some_string, char):\n",
    "    count = 0\n",
    "    for letter in some_string:\n",
    "        if char.lower() == letter.lower():\n",
    "            count += 1\n",
    "    return count"
   ]
  },
  {
   "cell_type": "code",
   "execution_count": 30,
   "metadata": {},
   "outputs": [
    {
     "name": "stdout",
     "output_type": "stream",
     "text": [
      "2\n"
     ]
    }
   ],
   "source": [
    "# First we'll call the function as before using positional arguments\n",
    "print(count_char('good game', 'g'))"
   ]
  },
  {
   "cell_type": "markdown",
   "metadata": {},
   "source": [
    "**NOTE: When passing in positional arguments the order that values are passed in matters, because arguments are assigned to function parameters in the order they are defined**"
   ]
  },
  {
   "cell_type": "code",
   "execution_count": 31,
   "metadata": {},
   "outputs": [
    {
     "name": "stdout",
     "output_type": "stream",
     "text": [
      "0\n"
     ]
    }
   ],
   "source": [
    "# Trying to reverse the positional arguments won't give us the expected result, \n",
    "# but still returns a value becuase both expected arguments are strings. \n",
    "print(count_char('g', 'good game'))"
   ]
  },
  {
   "cell_type": "markdown",
   "metadata": {},
   "source": [
    "If you'd like to provide the arguments to a function out of orderd you can pass them in as keyword arguments. What that means is you directly and explicitly assign your arguments to function parameters"
   ]
  },
  {
   "cell_type": "code",
   "execution_count": 34,
   "metadata": {},
   "outputs": [
    {
     "name": "stdout",
     "output_type": "stream",
     "text": [
      "2\n"
     ]
    }
   ],
   "source": [
    "print(count_char(char='g', some_string='good game'))\n",
    "\n",
    "# Note that we now get the result that we expect "
   ]
  },
  {
   "cell_type": "markdown",
   "metadata": {},
   "source": [
    "When using keyword arguments **the order of the keyword arguments doesn't matter**"
   ]
  },
  {
   "cell_type": "code",
   "execution_count": 35,
   "metadata": {},
   "outputs": [
    {
     "name": "stdout",
     "output_type": "stream",
     "text": [
      "2\n"
     ]
    }
   ],
   "source": [
    "print(count_char(some_string='good game', char='g'))"
   ]
  },
  {
   "cell_type": "markdown",
   "metadata": {},
   "source": [
    "You can mix positional and keyword arguments, but be sure that all keyword arguments **come after the positional arguments.**"
   ]
  },
  {
   "cell_type": "code",
   "execution_count": 38,
   "metadata": {},
   "outputs": [
    {
     "name": "stdout",
     "output_type": "stream",
     "text": [
      "2\n"
     ]
    }
   ],
   "source": [
    "# this is totally fine and won't throw an error\n",
    "print(count_char('good game', char='g'))"
   ]
  },
  {
   "cell_type": "markdown",
   "metadata": {},
   "source": [
    "Adding positional arguments after keyword arguments will thow errors"
   ]
  },
  {
   "cell_type": "code",
   "execution_count": 40,
   "metadata": {},
   "outputs": [
    {
     "ename": "SyntaxError",
     "evalue": "positional argument follows keyword argument (<ipython-input-40-cc9ae573f089>, line 2)",
     "output_type": "error",
     "traceback": [
      "\u001b[1;36m  File \u001b[1;32m\"<ipython-input-40-cc9ae573f089>\"\u001b[1;36m, line \u001b[1;32m2\u001b[0m\n\u001b[1;33m    print(count_char(some_string='good game', 'g'))\u001b[0m\n\u001b[1;37m                                             ^\u001b[0m\n\u001b[1;31mSyntaxError\u001b[0m\u001b[1;31m:\u001b[0m positional argument follows keyword argument\n"
     ]
    }
   ],
   "source": [
    "print(count_char(some_string='good game', 'g'))\n",
    "\n",
    "# Again, the error message is pretty helpful, and lets us know that we did something sytactically incorrect"
   ]
  },
  {
   "cell_type": "markdown",
   "metadata": {},
   "source": [
    "### Docstrings\n",
    "\n",
    "Docstrings are \"Documentation Strings\". They are used to help document functions and classes for others who might use them. It's often useful to describe the arguments a function takes and what it might return. Docstrings shouldn't be redundent, but should inhance the understanding of the code when reading it.\n",
    "\n",
    "Docstrings are created by using \"\"\" opening quotation marks and \"\"\" closing quotation marks immidiately after a function defintion. **It doesn't matter if you use single (') or double (\") quotes, just be consistent**"
   ]
  },
  {
   "cell_type": "code",
   "execution_count": 41,
   "metadata": {},
   "outputs": [
    {
     "name": "stdout",
     "output_type": "stream",
     "text": [
      "25\n"
     ]
    }
   ],
   "source": [
    "# single line docstring\n",
    "def square(x):\n",
    "    \"\"\"Returns the square of a given integer\"\"\"\n",
    "    # in this case the docstring is redundent, its pretty clear from the function name and body that it returns the square of a number\n",
    "    return x**2\n",
    "\n",
    "print(square(5))"
   ]
  },
  {
   "cell_type": "code",
   "execution_count": 42,
   "metadata": {},
   "outputs": [],
   "source": [
    "# mulit line docstring\n",
    "def count_in_list(value, lst):\n",
    "    \"\"\"\n",
    "    returns the number of times an item appears in a list\n",
    "    \n",
    "    value (Any) - any Python Object\n",
    "    lst (list) - a non empty python list\n",
    "    \"\"\"\n",
    "    if not isinstance(lst, list) or len(lst) == 0:\n",
    "        raise ValueError('The given list must not be blank')\n",
    "    \n",
    "    count = 0\n",
    "    for item in lst:\n",
    "        if item == value:\n",
    "            count+=1\n",
    "    \n",
    "    return count"
   ]
  },
  {
   "cell_type": "code",
   "execution_count": 43,
   "metadata": {},
   "outputs": [
    {
     "data": {
      "text/plain": [
       "5"
      ]
     },
     "execution_count": 43,
     "metadata": {},
     "output_type": "execute_result"
    }
   ],
   "source": [
    "number = 2\n",
    "num_list = [2, 2, 2, 2, 4, 5, 7, 3, 2, 5, 7, 8, 0]\n",
    "count_in_list(number, num_list)"
   ]
  },
  {
   "cell_type": "markdown",
   "metadata": {},
   "source": [
    "### Explicit and Implicit returns\n",
    "\n",
    "Whether its stated or not, every function in Python either returns a value or None. The builtin **return** keyword is used to provide a value from a function. Once the return statement is reached, execution within the function stops and the Python object to the right of the return keyword is sent out of the function\n",
    "\n",
    "not all functions have a return statement, and if a function terminates before reaching a return statement, then **None** is implicilty retured"
   ]
  },
  {
   "cell_type": "code",
   "execution_count": 45,
   "metadata": {},
   "outputs": [
    {
     "name": "stdout",
     "output_type": "stream",
     "text": [
      "<class 'str'>\n",
      "<class 'NoneType'>\n"
     ]
    }
   ],
   "source": [
    "# a function that returns a value\n",
    "def return_value(value):\n",
    "    return value\n",
    "\n",
    "# a function that returns None\n",
    "def return_none(value):\n",
    "    # pass is uesd to indicate      \n",
    "    pass\n",
    "\n",
    "a = return_value('hey')\n",
    "print(type(a))\n",
    "b = return_none('hey')\n",
    "print(type(b))"
   ]
  },
  {
   "cell_type": "markdown",
   "metadata": {},
   "source": [
    "## Reading and Writing to (text) files\n",
    "\n",
    "There are several differnt ways to read, write, and append to text files. Python has a built in [open](https://docs.python.org/3/library/functions.html#open) function that can be used to open text files and read / write to them\n",
    "\n",
    "**The *`open`* function returns a File Object and it's extremely important that you remember to close files after you're done reading a writing to them**"
   ]
  },
  {
   "cell_type": "markdown",
   "metadata": {},
   "source": [
    "### Read from files"
   ]
  },
  {
   "cell_type": "code",
   "execution_count": 48,
   "metadata": {},
   "outputs": [
    {
     "name": "stdout",
     "output_type": "stream",
     "text": [
      "At Horizon Media, business is personal\n",
      "It's more than a tagline.\n",
      "It's who we are and how we choose to work.\n",
      "It means working with passionate people from all walks of life.\n",
      "People who speak straight and deliver on promises.\n",
      "A belief that original thinking will make a difference.\n",
      "It's about nurturing our people and our culture.\n",
      "It's about moving mountains for our clients.\n",
      "At Horizon Media, business is personal.\n"
     ]
    }
   ],
   "source": [
    "# path = 'C:\\\\Users\\\\ytmimi\\\\Documents\\\\Intro-To-Python\\\\Week3\\\\Business_is_personal.txt'\n",
    "path = 'Business_is_personal.txt'\n",
    "file = open(path)\n",
    "print(file.read())\n",
    "file.close()"
   ]
  },
  {
   "cell_type": "markdown",
   "metadata": {},
   "source": [
    "Trying to read from the same file twice won't lead to the result that you might expect. You'll only get data from the first time you read from the file, but you won't get any data from the second time that you read from it. This is because the file object has a `cursor` that points to what character it's on. After reading from a file for the first time the cursor is moved to the end, and won't automatically reset."
   ]
  },
  {
   "cell_type": "code",
   "execution_count": 49,
   "metadata": {},
   "outputs": [
    {
     "name": "stdout",
     "output_type": "stream",
     "text": [
      "Reading for the first time...\n",
      "\n",
      "At Horizon Media, business is personal\n",
      "It's more than a tagline.\n",
      "It's who we are and how we choose to work.\n",
      "It means working with passionate people from all walks of life.\n",
      "People who speak straight and deliver on promises.\n",
      "A belief that original thinking will make a difference.\n",
      "It's about nurturing our people and our culture.\n",
      "It's about moving mountains for our clients.\n",
      "At Horizon Media, business is personal.\n",
      "\n",
      "Reading for the second time...\n",
      "\n",
      "\n"
     ]
    }
   ],
   "source": [
    "file = open('Business_is_personal.txt')\n",
    "print('Reading for the first time...', end='\\n\\n')\n",
    "print(file.read(), end='\\n\\n')\n",
    "print('Reading for the second time...', end='\\n\\n')\n",
    "print(file.read())\n",
    "file.close()"
   ]
  },
  {
   "cell_type": "markdown",
   "metadata": {},
   "source": [
    "If we want to read from the same file twice you'll have to reset the cursor by using the seek method on the function object."
   ]
  },
  {
   "cell_type": "code",
   "execution_count": 50,
   "metadata": {},
   "outputs": [
    {
     "name": "stdout",
     "output_type": "stream",
     "text": [
      "Reading for the first time...\n",
      "\n",
      "At Horizon Media, business is personal\n",
      "It's more than a tagline.\n",
      "It's who we are and how we choose to work.\n",
      "It means working with passionate people from all walks of life.\n",
      "People who speak straight and deliver on promises.\n",
      "A belief that original thinking will make a difference.\n",
      "It's about nurturing our people and our culture.\n",
      "It's about moving mountains for our clients.\n",
      "At Horizon Media, business is personal.\n",
      "\n",
      "Reading for the second time...\n",
      "\n",
      "At Horizon Media, business is personal\n",
      "It's more than a tagline.\n",
      "It's who we are and how we choose to work.\n",
      "It means working with passionate people from all walks of life.\n",
      "People who speak straight and deliver on promises.\n",
      "A belief that original thinking will make a difference.\n",
      "It's about nurturing our people and our culture.\n",
      "It's about moving mountains for our clients.\n",
      "At Horizon Media, business is personal.\n"
     ]
    }
   ],
   "source": [
    "file = open('Business_is_personal.txt')\n",
    "print('Reading for the first time...', end='\\n\\n')\n",
    "print(file.read(), end='\\n\\n')\n",
    "file.seek(0)\n",
    "print('Reading for the second time...', end='\\n\\n')\n",
    "print(file.read())\n",
    "file.close()"
   ]
  },
  {
   "cell_type": "markdown",
   "metadata": {},
   "source": [
    "**In general, using both open and close as we've done before isn't how you'll most often open files. It gets tedious to always have to remember to close files after they've been opened, so you'll usually use open as a context manager. We'll cover context managers in a later class, but know they are used to handle setup and teardown of in your code. In the case of open you're provided with a file object, which is automatically closed when leaving the context.**\n",
    "\n",
    "context managers use Python's **with** keyword and the syntax is as follows:\n",
    "    \n",
    "    with context_manager(...arguments) as alias:\n",
    "        # code the be executed in the context"
   ]
  },
  {
   "cell_type": "markdown",
   "metadata": {},
   "source": [
    "### Reading from a file using a context manager"
   ]
  },
  {
   "cell_type": "code",
   "execution_count": 51,
   "metadata": {},
   "outputs": [
    {
     "name": "stdout",
     "output_type": "stream",
     "text": [
      "At Horizon Media, business is personal\n",
      "It's more than a tagline.\n",
      "It's who we are and how we choose to work.\n",
      "It means working with passionate people from all walks of life.\n",
      "People who speak straight and deliver on promises.\n",
      "A belief that original thinking will make a difference.\n",
      "It's about nurturing our people and our culture.\n",
      "It's about moving mountains for our clients.\n",
      "At Horizon Media, business is personal.\n",
      "\n"
     ]
    }
   ],
   "source": [
    "with open('Business_is_personal.txt') as f:\n",
    "    print(f.read(), end='\\n\\n')"
   ]
  },
  {
   "cell_type": "markdown",
   "metadata": {},
   "source": [
    "### Write to files\n",
    "\n",
    "writing to files is very similar to reading from a file. The only difference is we need to tell the file object that we're going to write to it. By default files are opened in read-only mode. In order to write to a file we pass in a new argument to the open function and give it the value 'w' for write"
   ]
  },
  {
   "cell_type": "code",
   "execution_count": 52,
   "metadata": {},
   "outputs": [
    {
     "name": "stdin",
     "output_type": "stream",
     "text": [
      "Enter some text:  HELLO WORLD\n"
     ]
    }
   ],
   "source": [
    "with open('writing_to_files.txt', mode='w') as f:\n",
    "    user_input = input('Enter some text: ')\n",
    "    f.write(user_input)"
   ]
  },
  {
   "cell_type": "code",
   "execution_count": 53,
   "metadata": {},
   "outputs": [
    {
     "name": "stdout",
     "output_type": "stream",
     "text": [
      "HELLO WORLD\n"
     ]
    }
   ],
   "source": [
    "# now lets read from the file to see if what we added is there\n",
    "with open('writing_to_files.txt') as f:\n",
    "    print(f.read())"
   ]
  },
  {
   "cell_type": "markdown",
   "metadata": {},
   "source": [
    "**The important thing to understand when opening a file in 'write' mode is that the original content of the file will be overwritten**\n",
    "\n",
    "To illustrate this point we'll overwrite what we placed in 'writing_to_files.txt'"
   ]
  },
  {
   "cell_type": "code",
   "execution_count": 54,
   "metadata": {},
   "outputs": [
    {
     "name": "stdin",
     "output_type": "stream",
     "text": [
      "Replace the old text:  something new\n"
     ]
    }
   ],
   "source": [
    "# note that we're retyping a lot of the same code here. How could be have made this a little bit better?\n",
    "with open('writing_to_files.txt', mode='w') as f:\n",
    "    user_input = input('Replace the old text: ')\n",
    "    f.write(user_input)"
   ]
  },
  {
   "cell_type": "code",
   "execution_count": 55,
   "metadata": {},
   "outputs": [
    {
     "name": "stdout",
     "output_type": "stream",
     "text": [
      "something new\n"
     ]
    }
   ],
   "source": [
    "# to confirm that we've overwriten the file read from it again\n",
    "with open('writing_to_files.txt') as f:\n",
    "    print(f.read())"
   ]
  },
  {
   "cell_type": "markdown",
   "metadata": {},
   "source": [
    "### Append to files\n",
    "\n",
    "Sometimes its useful to not overwrite the data that already exists in a file, for that you can open the file in 'append' mode with 'a'. This will continue to add new data to the file "
   ]
  },
  {
   "cell_type": "code",
   "execution_count": 58,
   "metadata": {},
   "outputs": [
    {
     "name": "stdin",
     "output_type": "stream",
     "text": [
      "Add text to the file:  1\\n\n",
      "Add text to the file:  2\\n\n",
      "Add text to the file:  3\\n\n"
     ]
    }
   ],
   "source": [
    "with open('append_to_files.txt', mode='a') as f:\n",
    "    user_input = input('Add text to the file: ')\n",
    "    f.write(user_input)\n",
    "\n",
    "with open('append_to_files.txt', mode='a') as f:\n",
    "    user_input = input('Add text to the file: ')\n",
    "    f.write(user_input)\n",
    "\n",
    "with open('append_to_files.txt', mode='a') as f:\n",
    "    user_input = input('Add text to the file: ')\n",
    "    f.write(user_input)"
   ]
  },
  {
   "cell_type": "code",
   "execution_count": 59,
   "metadata": {},
   "outputs": [
    {
     "name": "stdout",
     "output_type": "stream",
     "text": [
      "1231\\n2\\n3\\n\n"
     ]
    }
   ],
   "source": [
    "with open('append_to_files.txt') as f:\n",
    "    print(f.read())"
   ]
  },
  {
   "cell_type": "markdown",
   "metadata": {},
   "source": [
    "## Exception Handling\n",
    "\n",
    "Exception Handling allows you to deal with errors in your code while it's running. This is extremely useful becuase it means that your program won't just grind to a hault if an error occurs, which it would if you didn't tell your program what to do when it encountered an error"
   ]
  },
  {
   "cell_type": "code",
   "execution_count": 60,
   "metadata": {},
   "outputs": [],
   "source": [
    "# we'll use the following function in some of the examples bellow\n",
    "def less_than_10(value):\n",
    "    \n",
    "    if not isinstance(value, int):\n",
    "        raise TypeError('Must be an integer')\n",
    "    \n",
    "    if value > 10:\n",
    "        raise ValueError('Must be less than 10')"
   ]
  },
  {
   "cell_type": "markdown",
   "metadata": {},
   "source": [
    "### try, except\n",
    "the try and except syntax is the most basic way you'll handle exceptions in your code"
   ]
  },
  {
   "cell_type": "markdown",
   "metadata": {},
   "source": [
    "#### Get specific about errors"
   ]
  },
  {
   "cell_type": "code",
   "execution_count": 61,
   "metadata": {},
   "outputs": [
    {
     "name": "stdout",
     "output_type": "stream",
     "text": [
      "Must be less than 10\n",
      "that number was too large\n"
     ]
    }
   ],
   "source": [
    "# we explicitly state which exception we're trying to handle\n",
    "try:\n",
    "    less_than_10(11)\n",
    "except ValueError as e:\n",
    "    print(e)\n",
    "    print('that number was too large')"
   ]
  },
  {
   "cell_type": "markdown",
   "metadata": {},
   "source": [
    "#### handle any error that may occur\n",
    "\n",
    "This is much less useful than explicitly stating which errors you want to except in your code. This can make it harder to fix the problem since you don't know exactly which error caused it "
   ]
  },
  {
   "cell_type": "code",
   "execution_count": 62,
   "metadata": {},
   "outputs": [
    {
     "name": "stdout",
     "output_type": "stream",
     "text": [
      "an error occured\n"
     ]
    }
   ],
   "source": [
    "# handle any error that happens\n",
    "try:\n",
    "    less_than_10('jfjsjfasdf')\n",
    "except Exception as e:\n",
    "    print('an error occured')"
   ]
  },
  {
   "cell_type": "markdown",
   "metadata": {},
   "source": [
    "### try, except, except ...\n",
    "\n",
    "Luckily, if you anticipate that several errors might occur you can handle all of them"
   ]
  },
  {
   "cell_type": "code",
   "execution_count": 63,
   "metadata": {},
   "outputs": [
    {
     "name": "stdout",
     "output_type": "stream",
     "text": [
      "That number was too large\n",
      "cant compare asdfasdf to 10\n"
     ]
    }
   ],
   "source": [
    "def handle_less_than_10(value):\n",
    "    \"\"\"Used to handle the errors that occur in less_than_10\"\"\"\n",
    "    try:\n",
    "        less_than_10(value)\n",
    "    \n",
    "    except ValueError as e:\n",
    "        print('That number was too large')\n",
    "    \n",
    "    except TypeError as e:\n",
    "        print(f'cant compare {value} to 10')\n",
    "\n",
    "        \n",
    "        \n",
    "# call the function with the given arguments        \n",
    "handle_less_than_10(11)\n",
    "handle_less_than_10('asdfasdf')"
   ]
  },
  {
   "cell_type": "markdown",
   "metadata": {},
   "source": [
    "### try, except, else\n",
    "\n",
    "adding an else clause is rare, but it's a way for you to define what your code should do if no error occurs"
   ]
  },
  {
   "cell_type": "code",
   "execution_count": 68,
   "metadata": {},
   "outputs": [
    {
     "name": "stdout",
     "output_type": "stream",
     "text": [
      "1 / 1 = 1.0\n",
      "Can't divide by zero\n"
     ]
    }
   ],
   "source": [
    "class MyError(Exception):\n",
    "    pass\n",
    "\n",
    "\n",
    "def divide(num1, num2):\n",
    "    \"\"\"a function that divides two numbers\"\"\"\n",
    "    try:\n",
    "        result = num1 / num2\n",
    "    except ZeroDivisionError:\n",
    "        print('Can\\'t divide by zero')\n",
    "    else:\n",
    "        print(f'{num1} / {num2} = {result}')\n",
    "\n",
    "\n",
    "divide(1, 1)\n",
    "divide(1, 0)"
   ]
  },
  {
   "cell_type": "markdown",
   "metadata": {},
   "source": [
    "### try, except, finally\n",
    "finally is used to execute code no matter if an exception occured or if one didn't. Its most often used if you always need to perform some clean up action. For example, remembering to close a file once it's been opened"
   ]
  },
  {
   "cell_type": "code",
   "execution_count": 69,
   "metadata": {},
   "outputs": [
    {
     "name": "stdout",
     "output_type": "stream",
     "text": [
      "was able to convert 33 no problem\n",
      "end...\n",
      "\n",
      "can't convert hello to an integer\n",
      "end...\n",
      "\n"
     ]
    }
   ],
   "source": [
    "def convert_to_number(string):\n",
    "    \"\"\"tries to convert the given string to an integer\"\"\"\n",
    "    try:\n",
    "        result = int(string)\n",
    "    except ValueError:\n",
    "        print(f'can\\'t convert {string} to an integer')\n",
    "    else:\n",
    "        print(f'was able to convert {string} no problem')\n",
    "    finally:\n",
    "        print('end...', end='\\n\\n')\n",
    "\n",
    "        \n",
    "convert_to_number('33')\n",
    "convert_to_number('hello')"
   ]
  },
  {
   "cell_type": "markdown",
   "metadata": {},
   "source": [
    "# Additional Resources\n",
    "* [Comprehensions](https://dbader.org/blog/list-dict-set-comprehensions-in-python) <-- There might be an add that pops up, just click through it\n",
    "* [Reading and Writing Files in Python](https://realpython.com/read-write-files-python/)\n",
    "* [Exception Handling Introduction](https://realpython.com/python-exceptions/)\n",
    "* [Function Docstrings](https://www.datacamp.com/community/tutorials/docstrings-python)\n",
    "* [Function Video](https://www.youtube.com/watch?v=NE97ylAnrz4)\n"
   ]
  },
  {
   "cell_type": "code",
   "execution_count": null,
   "metadata": {},
   "outputs": [],
   "source": []
  }
 ],
 "metadata": {
  "kernelspec": {
   "display_name": "Python 3",
   "language": "python",
   "name": "python3"
  },
  "language_info": {
   "codemirror_mode": {
    "name": "ipython",
    "version": 3
   },
   "file_extension": ".py",
   "mimetype": "text/x-python",
   "name": "python",
   "nbconvert_exporter": "python",
   "pygments_lexer": "ipython3",
   "version": "3.6.8"
  }
 },
 "nbformat": 4,
 "nbformat_minor": 2
}
