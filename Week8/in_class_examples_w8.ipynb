{
 "cells": [
  {
   "cell_type": "markdown",
   "metadata": {},
   "source": [
    "# Recap Last Week\n",
    "\n",
    "We covered:\n",
    "* First class Functions\n",
    "* Functions within Functions\n",
    "* Decorators\n",
    "* Context Managers"
   ]
  },
  {
   "cell_type": "markdown",
   "metadata": {},
   "source": [
    "# This Week\n",
    "\n",
    "Interacting with the web:\n",
    "\n",
    "* A Primer on HTTP\n",
    "* The requests module in Python\n",
    "* Getting data from the web\n",
    "* Basics of web scraping with Beautiful Soup\n",
    "\n"
   ]
  },
  {
   "cell_type": "markdown",
   "metadata": {},
   "source": [
    "## Basics of HTTP\n",
    "\n",
    "HTTP is foundational to any exchange of data on the web. HTTP is a **client-server protocol**, which means that clients (often a web browser) must initiate the interaction. Once the server has received a message from the client it can choose whether or not to respond, and what information to return. The messages a client sends are typically called **requests**, and there are several differnt types of requests that a client can make. Whatever the server sends back is know as the **response**."
   ]
  },
  {
   "cell_type": "markdown",
   "metadata": {},
   "source": [
    "## HTTP Request Methods\n",
    "\n",
    "Again, When deailing with web interactions the client **IS ALWAYS** the side that makes the **request**. At a minimum each request will contain a **method**, informing the server what action thE client wants to perform, and a **url**, which specifies the path to the resource. HTTP requests typically also contain **headers**, providing the server with additional information about the request, and some HTTP methods will contain a **body** because they are sending data to the server\n",
    "\n",
    "**A list of common HTTP methods**\n",
    "\n",
    "* **GET** - Ask for some resource from the server. Some HTML document, CSS stylesheet, JavaScript file, JSON Data, etc.\n",
    "\n",
    "* **POST** - Used to send data to the server. Typically Form data on an HTML page. Creates new resources on the server\n",
    "\n",
    "* **PUT** - Also used to send data to the server, but is often used to update existing resources instead of creating new ones\n",
    "\n",
    "* **DELETE** - As the name suggests, this method is used to delete resources from the server\n",
    "\n"
   ]
  },
  {
   "cell_type": "markdown",
   "metadata": {},
   "source": [
    "### Requests in Python\n",
    "\n",
    "There are several libraries that you can use to make HTTP requests in python, but one of the easiest to use is ``reqeusts``.\n",
    "\n",
    "It's a third party package, so you'll need to install it in order to use it.\n",
    "\n",
    "    pip install requests"
   ]
  },
  {
   "cell_type": "code",
   "execution_count": null,
   "metadata": {},
   "outputs": [],
   "source": [
    "import requests"
   ]
  },
  {
   "cell_type": "markdown",
   "metadata": {},
   "source": [
    "In order to make an http get request, we can use the get method from the requests module"
   ]
  },
  {
   "cell_type": "code",
   "execution_count": null,
   "metadata": {},
   "outputs": [],
   "source": [
    "url = \"https://www.allrecipes.com/recipes/88/bbq-grilling\"\n",
    "\n",
    "resp = requests.get(url)\n",
    "# The response object has a reference to the request that we just sent\n",
    "req = resp.request"
   ]
  },
  {
   "cell_type": "code",
   "execution_count": null,
   "metadata": {},
   "outputs": [],
   "source": [
    "# Take a look at the request object, and what we can call on it\n",
    "print(dir(req))"
   ]
  },
  {
   "cell_type": "markdown",
   "metadata": {},
   "source": [
    "## Inspecting the request object"
   ]
  },
  {
   "cell_type": "code",
   "execution_count": null,
   "metadata": {},
   "outputs": [],
   "source": [
    "print(f'The request method was {req.method}', end='\\n\\n')\n",
    "print(f'The request url was {req.url}', end='\\n\\n')\n",
    "print(f'The request headers were {req.headers}', end='\\n\\n')\n",
    "print(f'The request body was {req.body}', end='\\n\\n')"
   ]
  },
  {
   "cell_type": "markdown",
   "metadata": {},
   "source": [
    "## HTTP Responses\n",
    "\n",
    "An HTTP response is what the server sends back after it receives a request. There are a few things that make up a response, The **status code**, **status message**, and **headers**. Optionally, some responses will contain a **body**. Status codes in the **200+** range usually indicate that everything went fine. **300+** requests usually mean there's a redirect, **400+** request mean there's an error with the clients request, and **500+** errors mean that there is an issue with the server.\n",
    "\n",
    "**Common Status Codes**\n",
    "\n",
    "* **200** - The request was succesfull\n",
    "* **301** - What you're request no longer exists at the given url\n",
    "* **400** - Bad Request. The server couldn't figure out what you wanted\n",
    "* **401** - The client needs to authenticate before accessing that resource\n",
    "* **404** - Whatever the client tried to access doesn't exist\n",
    "* **500** - Some internal server error occured\n",
    "\n",
    "**Common Headers**\n",
    "\n",
    "* **Content-Type** - Indicates the media type of the response. Ex) text\\html\n",
    "* **Content-Length** - Indicates how long the body is"
   ]
  },
  {
   "cell_type": "markdown",
   "metadata": {},
   "source": [
    "## Inspecting the response object\n",
    "\n",
    "Before we made a get request to https://www.allrecipes.com/recipes/88/bbq-grilling, lets inspect the response more thouroughtly"
   ]
  },
  {
   "cell_type": "code",
   "execution_count": null,
   "metadata": {},
   "outputs": [],
   "source": [
    "print(dir(resp))"
   ]
  },
  {
   "cell_type": "code",
   "execution_count": null,
   "metadata": {},
   "outputs": [],
   "source": [
    "print(f'The Status Code of the reponse is {resp.status_code}', end='\\n\\n')\n",
    "print(f'The response headers are {list(resp.headers.keys())}', end='\\n\\n')\n",
    "print(f\"The Content-Type is {resp.headers['Content-Type']}\", end='\\n\\n')"
   ]
  },
  {
   "cell_type": "code",
   "execution_count": null,
   "metadata": {},
   "outputs": [],
   "source": [
    "# The text object contains the html from the response, There's a lot so we're only going to print the first 100 characters\n",
    "print(resp.text[:500], end='\\n\\n\\n')"
   ]
  },
  {
   "cell_type": "markdown",
   "metadata": {},
   "source": [
    "As you can see we managed to get the actual HTML from the we page."
   ]
  },
  {
   "cell_type": "markdown",
   "metadata": {},
   "source": [
    "## Beautiful Soup Basics\n",
    "\n",
    "Beautiful Soup is a 3rd party package in Python, which means that you'll need to install it before you can use it. From a terminal or command prompt type:\n",
    "\n",
    "    pip install beautifulsoup4\n",
    "\n",
    "Beautifyl soup is a library built to easily parse data from html, and it's what we'll use extract data from the request we made earlier"
   ]
  },
  {
   "cell_type": "code",
   "execution_count": null,
   "metadata": {},
   "outputs": [],
   "source": [
    "from bs4 import BeautifulSoup\n",
    "\n",
    "# pass the html document to Beautiful soup so you can easily parse it\n",
    "soup = BeautifulSoup(resp.text)\n",
    "print(type(soup))"
   ]
  },
  {
   "cell_type": "code",
   "execution_count": null,
   "metadata": {},
   "outputs": [],
   "source": [
    "# There is a lot we can do with the soup object\n",
    "print(dir(soup))"
   ]
  },
  {
   "cell_type": "markdown",
   "metadata": {},
   "source": [
    "If you know a bit about html, we can quickly get back the first occurence of each of these HTML elements"
   ]
  },
  {
   "cell_type": "code",
   "execution_count": null,
   "metadata": {},
   "outputs": [],
   "source": [
    "print(soup.title)\n",
    "print(soup.a)\n",
    "print(soup.input)\n",
    "print(soup.option)"
   ]
  },
  {
   "cell_type": "code",
   "execution_count": null,
   "metadata": {},
   "outputs": [],
   "source": [
    "# As we can see we can get Tag elements from Beautiful Soup\n",
    "print(type(soup.div))"
   ]
  },
  {
   "cell_type": "code",
   "execution_count": null,
   "metadata": {},
   "outputs": [],
   "source": [
    "# What can we do with these tag elements?\n",
    "print(dir(soup.div))"
   ]
  },
  {
   "cell_type": "markdown",
   "metadata": {},
   "source": [
    "We'll come back to this list of methods later, but as you can see there are a lot of methods we can use to get information out of a Tag Element Object"
   ]
  },
  {
   "cell_type": "markdown",
   "metadata": {},
   "source": [
    "## Searching for elements using find() and find_all()\n",
    "\n",
    "As you might expect, ``find_all()`` Will find every occurence of an element on the page, where ``find()`` will return the first occurence"
   ]
  },
  {
   "cell_type": "code",
   "execution_count": null,
   "metadata": {},
   "outputs": [],
   "source": [
    "all_links = soup.find_all('a')\n",
    "print(f'There are {len(all_links)} on the page', end='\\n\\n')\n",
    "\n",
    "# The First 10 links on the page\n",
    "print(all_links[:10])"
   ]
  },
  {
   "cell_type": "code",
   "execution_count": null,
   "metadata": {},
   "outputs": [],
   "source": [
    "soup.find('p')"
   ]
  },
  {
   "cell_type": "markdown",
   "metadata": {},
   "source": [
    "## Filtering find_all with a function\n",
    "\n",
    "Based on the Beautiful Soup [documentation](https://www.crummy.com/software/BeautifulSoup/bs4/doc/#a-function), it's possible to filter searches using a funtion that takes a single argument (an HTML Element). The function can be as complicated as you want, but should return True or False, whether to return that element or not"
   ]
  },
  {
   "cell_type": "code",
   "execution_count": null,
   "metadata": {},
   "outputs": [],
   "source": [
    "def find_all_hidden(element):\n",
    "    return element.hidden\n",
    "\n",
    "p = soup.find('p')\n",
    "\n",
    "p.hidden\n",
    "# [item for item in dir(p) if 'p' in item]\n",
    "p.name"
   ]
  },
  {
   "cell_type": "code",
   "execution_count": null,
   "metadata": {},
   "outputs": [],
   "source": [
    "# Looks Like there aren't any hidden elements on the page\n",
    "soup.find_all(find_all_hidden)"
   ]
  },
  {
   "cell_type": "code",
   "execution_count": null,
   "metadata": {},
   "outputs": [],
   "source": [
    "# another example. if the parent element is a div\n",
    "from bs4.element import Tag\n",
    "\n",
    "def is_parent_a_div(element):\n",
    "    return isinstance(element.parent, Tag) and element.parent.name == 'div'\n",
    "\n",
    "elements_with_div_parents = soup.find_all(is_parent_a_div)\n",
    "len(elements_with_div_parents)"
   ]
  },
  {
   "cell_type": "markdown",
   "metadata": {},
   "source": [
    "## Find elements by CSS Class / and Regular Expressions"
   ]
  },
  {
   "cell_type": "code",
   "execution_count": null,
   "metadata": {},
   "outputs": [],
   "source": [
    "import re\n",
    "\n",
    "title_class = re.compile('title')\n",
    "\n",
    "elements_with_title_css = soup.find_all(class_=title_class)\n",
    "len(elements_with_title_css)\n",
    "\n",
    "print(elements_with_title_css[:5])"
   ]
  },
  {
   "cell_type": "markdown",
   "metadata": {},
   "source": [
    "## Parsing Recipie Data\n",
    "\n",
    "We've seen how easy using the requests library makes it to send HTTP requests in Python. In conjuctino with Beautiful soup, we can quickly parse values out of HTML that might be returned from the request. In the next section we'll build a model for capturing data about each recepie.\n",
    "\n",
    "Go to your browser, type in the url that we used the request library to get for us earlier, and take a look at the page. There seems to be some structure to the way the recepeis are layed out.\n",
    "\n",
    "``Right click`` the page, and cick ``inspect``\n",
    "\n",
    "Taking a look at the HTML for the page will help us figure out what we need to search for when trying to pare the HTML."
   ]
  },
  {
   "cell_type": "markdown",
   "metadata": {},
   "source": [
    "**Here's what the HTML for one recepie looks like**\n",
    "\n",
    "    <article class=\"fixed-recipe-card\">\n",
    "        <a ng-class=\"{ highlighted : saved }\" title=\"Save this recipe\" data-ng-show=\"showHeart\" class=\"favorite ng-isolate-scope\" data-id=\"244552\" data-type=\"'Recipe'\" data-name=\"&quot;Red, White, and Blueberry Grilled Chicken&quot;\" data-segmentpageproperties=\"segmentContentInfo\" data-imageurl=\"'https://images.media-allrecipes.com/userphotos/300x300/2410310.jpg'\"><span class=\"ng-binding\"></span></a>\n",
    "        <div class=\"grid-card-image-container\">\n",
    "            <a href=\"https://www.allrecipes.com/recipe/244552/red-white-and-blueberry-grilled-chicken/?internalSource=rotd&amp;referringId=88&amp;referringContentType=Recipe Hub\" data-content-provider-id=\"\" data-internal-referrer-link=\"rotd\" class=\"ng-isolate-scope\" target=\"_self\">\n",
    "\n",
    "                <img class=\"fixed-recipe-card__img ng-isolate-scope\" data-lazy-load=\"\" data-original-src=\"https://images.media-allrecipes.com/userphotos/300x300/2410310.jpg\" alt=\"Red, White, and Blueberry Grilled Chicken Recipe and Video - Chef John's spicy chili-rubbed chicken breasts are grilled and topped with a tangy blueberry sauce. It's a perfect dish for a summer barbeque.\" title=\"Red, White, and Blueberry Grilled Chicken Recipe and Video\" src=\"https://images.media-allrecipes.com/userphotos/300x300/2410310.jpg\" style=\"display: inline;\">\n",
    "            </a>\n",
    "                <a href=\"https://www.allrecipes.com/video/5182/red-white-and-blueberry-grilled-chicken/?internalSource=rotd&amp;referringId=88&amp;referringContentType=Recipe Hub\" data-content-provider-id=\"\" data-internal-referrer-link=\"rotd\" class=\"ng-isolate-scope\" target=\"_self\">\n",
    "                    <span class=\"watchButton\">\n",
    "                        <span class=\"watchButton__text\">WATCH</span>\n",
    "                    </span>\n",
    "                </a>\n",
    "        </div>\n",
    "        <div class=\"fixed-recipe-card__info\">\n",
    "                <h4 class=\"fixed-recipe-card__rotd\">\n",
    "                    Recipe of the Day\n",
    "                </h4>\n",
    "            <h3 class=\"fixed-recipe-card__h3\">\n",
    "                <a href=\"https://www.allrecipes.com/recipe/244552/red-white-and-blueberry-grilled-chicken/?internalSource=rotd&amp;referringId=88&amp;referringContentType=Recipe Hub\" data-content-provider-id=\"\" data-internal-referrer-link=\"rotd\" class=\"fixed-recipe-card__title-link ng-isolate-scope\" target=\"_self\">\n",
    "                    <span class=\"fixed-recipe-card__title-link\">Red, White, and Blueberry Grilled Chicken</span>\n",
    "                </a>\n",
    "            </h3>\n",
    "            <a href=\"https://www.allrecipes.com/recipe/244552/red-white-and-blueberry-grilled-chicken/?internalSource=rotd&amp;referringId=88&amp;referringContentType=Recipe Hub\" data-content-provider-id=\"\" data-internal-referrer-link=\"rotd\" class=\"ng-isolate-scope\" target=\"_self\">\n",
    "                <div class=\"fixed-recipe-card__ratings\">\n",
    "\n",
    "    <span class=\"stars stars-4-5\" onclick=\"AnchorScroll('reviews')\" data-ratingstars=\"4.69000005722046\" aria-label=\"Rated 4.69 out of 5 stars\"></span>\n",
    "\n",
    "                    <span class=\"fixed-recipe-card__reviews\">43</span>\n",
    "                        <div data-merch-type=\"Ads_LogoScroller_122x34\">\n",
    "                            <span id=\"ad-rotd\"></span>\n",
    "                        </div>\n",
    "                </div>\n",
    "                <div data-ellipsis=\"\" class=\"fixed-recipe-card__description ng-isolate-scope\">Chef John's spicy chili-rubbed chicken breasts are grilled and topped with a tangy blueberry…</div>\n",
    "            </a>\n",
    "            <div class=\"fixed-recipe-card__profile\">\n",
    "                        <a href=\"https://www.allrecipes.com/cook/foodwisheswithchefjohn/?internalSource=rotd&amp;referringId=88&amp;referringContentType=Recipe Hub\" data-content-provider-id=\"\" data-internal-referrer-link=\"rotd\" class=\"ng-isolate-scope\" target=\"_self\">\n",
    "                            <ul class=\"cook-submitter-info\">\n",
    "                                <li>\n",
    "                                    <img class=\"cook-img\" alt=\"profile image\" src=\"https://images.media-allrecipes.com/userphotos/50x50/2267470.jpg\">\n",
    "                                </li>\n",
    "                                <li>\n",
    "                                    <h4><span>By</span> Chef John</h4>\n",
    "                                </li>\n",
    "                            </ul>\n",
    "                        </a>\n",
    "            </div>\n",
    "        </div>\n",
    "    </article>\n"
   ]
  },
  {
   "cell_type": "markdown",
   "metadata": {},
   "source": [
    "From taking a look at the HTML we can easily identify where some useful information is:\n",
    "\n",
    "* Each recepie is contained in an ``<article>`` tag with a class of ``fixed-recipe-card``\n",
    "* Titles can be found in a ``<span>`` tag with a class of ``fixed-recipe-card__title-link``"
   ]
  },
  {
   "cell_type": "code",
   "execution_count": null,
   "metadata": {},
   "outputs": [],
   "source": [
    "recepies = soup.find_all('article', class_='fixed-recipe-card')\n",
    "\n",
    "# check out how many recepies we were able to get\n",
    "len(recepies)\n",
    "\n",
    "recepie_1 = recepies[0]"
   ]
  },
  {
   "cell_type": "code",
   "execution_count": null,
   "metadata": {},
   "outputs": [],
   "source": [
    "def recepie_title(recepie_html):\n",
    "    \"\"\"returns the title of a recepie\"\"\"\n",
    "    return recepie_html.find('span', class_='fixed-recipe-card__title-link').text\n",
    "\n",
    "recepie_title(recepie_1)"
   ]
  },
  {
   "cell_type": "code",
   "execution_count": null,
   "metadata": {},
   "outputs": [],
   "source": [
    "def recepie_description(recepie_html):\n",
    "    \"\"\"\n",
    "    description of the recepie can be found as an ``alt`` attribute of the image or \n",
    "    in a div tag\n",
    "    \"\"\"\n",
    "    # grab the text from the description div     \n",
    "    description_1 = recepie_html.find('div', class_='fixed-recipe-card__description').text\n",
    "    # grab the alt text from the recepie image\n",
    "    description_2 = recepie_html.find('img', class_='fixed-recipe-card__img').attrs['alt']\n",
    "    # we want the longest description we can get     \n",
    "    return max(description_1, description_2, key=lambda description: len(description))\n",
    "\n",
    "recepie_description(recepie_1)"
   ]
  },
  {
   "cell_type": "code",
   "execution_count": null,
   "metadata": {},
   "outputs": [],
   "source": [
    "stars = re.compile('stars')\n",
    "def recepie_rating(recepie_html):\n",
    "    \"\"\"\n",
    "    return the rating for a recepie\n",
    "    \"\"\"\n",
    "    element = recepie_html.find('span', class_=stars)\n",
    "    rating =  float(element.attrs['data-ratingstars'])\n",
    "    return round(rating, 2)\n",
    "\n",
    "recepie_rating(recepie_1)"
   ]
  },
  {
   "cell_type": "code",
   "execution_count": null,
   "metadata": {},
   "outputs": [],
   "source": [
    "def recepie_reviews(recepie_html):\n",
    "    \"\"\"\n",
    "    return the number of reviews for a recepie\n",
    "    \"\"\"\n",
    "    review_element = recepie_html.find('span', class_=\"fixed-recipe-card__reviews\")\n",
    "    reviews = next(review_element.children).attrs['number']\n",
    "    return int(reviews)\n",
    "\n",
    "recepie_reviews(recepie_1)"
   ]
  },
  {
   "cell_type": "code",
   "execution_count": null,
   "metadata": {},
   "outputs": [],
   "source": [
    "# link to original recepie\n",
    "def recepie_link(recepie_html):\n",
    "    \"\"\"\n",
    "    The link to the recepie can be found by the title\n",
    "    \"\"\"\n",
    "    title_element = recepie_html.find('h3', class_=\"fixed-recipe-card__h3\")\n",
    "    link = title_element.find('a').attrs['href']\n",
    "    return link\n",
    "\n",
    "recepie_link(recepie_1)"
   ]
  },
  {
   "cell_type": "code",
   "execution_count": null,
   "metadata": {},
   "outputs": [],
   "source": [
    "# chef's name\n",
    "\n",
    "def recepie_chef(recepie_html):\n",
    "    ul_element = recepie_html.find('ul', class_=\"cook-submitter-info\")\n",
    "    return ul_element.find('h4').text\n",
    "\n",
    "recepie_chef(recepie_1)"
   ]
  },
  {
   "cell_type": "code",
   "execution_count": null,
   "metadata": {},
   "outputs": [],
   "source": [
    "def error_handler(f):\n",
    "    \"\"\"\n",
    "    decorator that will catch all errors that might be raised when calling our functions,\n",
    "    and return an empty string by default\n",
    "    \"\"\"\n",
    "    def wrapper(*args, **kwargs):\n",
    "        try:\n",
    "            return f(*args, **kwargs)\n",
    "        except:\n",
    "            return ''\n",
    "    return wrapper"
   ]
  },
  {
   "cell_type": "markdown",
   "metadata": {},
   "source": [
    "### Putting it all together"
   ]
  },
  {
   "cell_type": "code",
   "execution_count": null,
   "metadata": {},
   "outputs": [],
   "source": [
    "recepie_list = []\n",
    "\n",
    "for recepie in recepies:\n",
    "    recepie_data = {}\n",
    "    # remember that weird syntax of decorating on the fly     \n",
    "    recepie_data['title'] = error_handler(recepie_title)(recepie)\n",
    "    recepie_data['description'] = error_handler(recepie_description)(recepie)\n",
    "    recepie_data['rating'] = error_handler(recepie_rating)(recepie)\n",
    "    recepie_data['reviews'] = error_handler(recepie_reviews)(recepie)\n",
    "    recepie_data['link'] = error_handler(recepie_link)(recepie)\n",
    "    recepie_data['chef'] = error_handler(recepie_chef)(recepie)\n",
    "    \n",
    "    recepie_list.append(recepie_data)\n",
    "\n",
    "for recepie in (recepie_list):\n",
    "    # We have all the data we're just choosing to only print the title     \n",
    "    print(f\"{recepie['rating']} -- {recepie['title']}\")"
   ]
  },
  {
   "cell_type": "markdown",
   "metadata": {},
   "source": [
    "Now that we have the data we can do pretty much anything with it. We could store it in a csv file for example, and process it later. Assuming that all of recepie.com's pages are set up in a similar fashion we could reproduce our scraping for other links"
   ]
  },
  {
   "cell_type": "markdown",
   "metadata": {},
   "source": [
    "## Closing Notes on Web Scraping\n",
    "\n",
    "Web Scraping in theory is pretty simple, you have some website that's written in HTML, once you have that html you utilise the built in structure of HTML to extract only the information that you need. In practice it's much more complicated. You might be able to build a script that can scrape one webiste, but what happens when the structure of the HTML changes? Suddenly, your script is obsolete and you might have to start from scratch. What about two differenct sites? Chances are the first script won't work for the second site. On top of that, a lot of websites / web applications are built with a minimal amout of HTML these days. Modern Web Frameworks utilise JavaScript to fully rendered pages; data is loaded asyncronously, which means a lot of information is usually not stored in the HTML sent to the browser; or more data is loaded when a user scrolls to a certain point on the page. If you're using the methods we showed today, it might not alwasy work. After all this you Also need to consider that some websites will actively try to prevent people from scraping their data, and it's not hard to figure out who's a bot and who's not.\n",
    "\n",
    "If you thought what we covered in todays class was interesting than I highly encourage you to keep at it. I would also add that it's important to be mindful, and not overload any one site with too many requests to their server at once. If you are scraping multiple pages of the same site, just take it slow.\n",
    "\n",
    "There are other cool tools for browser automation that we didn't have time to cover today (and won't have time to cover in this course), but if you're interested I'd highly recommend checking out a library called [selenium](https://selenium-python.readthedocs.io/)"
   ]
  },
  {
   "cell_type": "markdown",
   "metadata": {},
   "source": [
    "## Additional Resources\n",
    "\n",
    "* [an overveiw of HTTP](https://developer.mozilla.org/en-US/docs/Web/HTTP/Overview) Overall a ton of great info if you want to dig a bit deeper on how the web works\n",
    "* [list of HTTP Status Codes](https://developer.mozilla.org/en-US/docs/Web/HTTP/Status)\n",
    "* [requests library](https://realpython.com/python-requests/)\n",
    "* [Beautiful Soup tutorial](https://www.youtube.com/watch?v=87Gx3U0BDlo)\n",
    "* [Beautiful Soup Documentation](https://www.crummy.com/software/BeautifulSoup/bs4/doc/)\n",
    "* [Web Scraping Introduction, Best Practices, and Caveats](https://medium.com/velotio-perspectives/web-scraping-introduction-best-practices-caveats-9cbf4acc8d0f)"
   ]
  }
 ],
 "metadata": {
  "kernelspec": {
   "display_name": "Python 3",
   "language": "python",
   "name": "python3"
  },
  "language_info": {
   "codemirror_mode": {
    "name": "ipython",
    "version": 3
   },
   "file_extension": ".py",
   "mimetype": "text/x-python",
   "name": "python",
   "nbconvert_exporter": "python",
   "pygments_lexer": "ipython3",
   "version": "3.7.3"
  }
 },
 "nbformat": 4,
 "nbformat_minor": 4
}
