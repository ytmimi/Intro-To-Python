{
 "cells": [
  {
   "cell_type": "markdown",
   "metadata": {},
   "source": [
    "# Recap Last Week\n",
    "\n",
    "We covered:\n",
    "* Pandas basic data structures: Series and Dataframes\n",
    "* Basics of Data analysis with Pandas\n",
    "* Data visualization with matplotlib"
   ]
  },
  {
   "cell_type": "markdown",
   "metadata": {},
   "source": [
    "# This Week\n",
    "\n",
    "Intermediate Python Topics:\n",
    "\n",
    "* First class Functions\n",
    "* Functions within Functions\n",
    "* Decorators\n",
    "* Context Managers"
   ]
  },
  {
   "cell_type": "markdown",
   "metadata": {},
   "source": [
    "## First class Functions\n",
    "\n",
    "When any object in a programming language is first class, it means that it can be stored in data structures, passed as arguments, or returned from functions.\n",
    "\n",
    "For example, all of the basic data types in Python (ints, floats, strings, and booleans) are first class. Each of them can be stored, used as arguments, or returned from a function. Because functions are just another kind of object in Python, you can use them in the exact same way."
   ]
  },
  {
   "cell_type": "code",
   "execution_count": 50,
   "metadata": {},
   "outputs": [
    {
     "name": "stdout",
     "output_type": "stream",
     "text": [
      "<function first at 0x000001FCDA8F0620>\n",
      "<class 'function'>\n"
     ]
    }
   ],
   "source": [
    "# define a function and print its type\n",
    "\n",
    "def first():\n",
    "    pass\n",
    "\n",
    "# prints the representation of the function\n",
    "print(first)\n",
    "\n",
    "# prints the type of the function\n",
    "print(type(first))"
   ]
  },
  {
   "cell_type": "markdown",
   "metadata": {},
   "source": [
    "I've said this before, but Everything in Python is an object, and Python functions are no exception. They are objects who are instances of a 'function' class"
   ]
  },
  {
   "cell_type": "markdown",
   "metadata": {},
   "source": [
    "**1) In order for an object to be first class it needs to be assignable to variables**"
   ]
  },
  {
   "cell_type": "code",
   "execution_count": 7,
   "metadata": {},
   "outputs": [
    {
     "name": "stdout",
     "output_type": "stream",
     "text": [
      "second\n",
      "second\n"
     ]
    }
   ],
   "source": [
    "# assign functions to new variables\n",
    "def second():\n",
    "    print('second')\n",
    "\n",
    "b = second\n",
    "\n",
    "second()\n",
    "b()"
   ]
  },
  {
   "cell_type": "markdown",
   "metadata": {},
   "source": [
    "As you can see we can store the function definition of a function on a new variable, and call it using the new variable name "
   ]
  },
  {
   "cell_type": "markdown",
   "metadata": {},
   "source": [
    "**2) In order for an object to be first class it needs to be possible to use it as an argument**"
   ]
  },
  {
   "cell_type": "code",
   "execution_count": 51,
   "metadata": {},
   "outputs": [
    {
     "name": "stdout",
     "output_type": "stream",
     "text": [
      "Hello World!\n",
      "just ran the passed in function\n"
     ]
    }
   ],
   "source": [
    "# pass functions into other functions\n",
    "\n",
    "def takes_a_function(f):\n",
    "    # call the function f     \n",
    "    f()\n",
    "    print('just ran the passed in function')\n",
    "\n",
    "\n",
    "def hello_world():\n",
    "    print('Hello World!')\n",
    "    \n",
    "takes_a_function(hello_world)"
   ]
  },
  {
   "cell_type": "markdown",
   "metadata": {},
   "source": [
    "**3) In order for an object to be first class it needs to be something that can be returned from a function**"
   ]
  },
  {
   "cell_type": "code",
   "execution_count": 12,
   "metadata": {},
   "outputs": [
    {
     "data": {
      "text/plain": [
       "<function __main__.return_me()>"
      ]
     },
     "execution_count": 12,
     "metadata": {},
     "output_type": "execute_result"
    }
   ],
   "source": [
    "# return a function from another function\n",
    "\n",
    "def return_me():\n",
    "    print('return me')\n",
    "\n",
    "def return_a_function():\n",
    "    return return_me\n",
    "\n",
    "# calling return_a_function returns a function \n",
    "return_a_function()"
   ]
  },
  {
   "cell_type": "markdown",
   "metadata": {},
   "source": [
    "Again, we can see that all functions are instances of a function object, and return_me is no exception"
   ]
  },
  {
   "cell_type": "code",
   "execution_count": 52,
   "metadata": {},
   "outputs": [
    {
     "name": "stdout",
     "output_type": "stream",
     "text": [
      "return me\n"
     ]
    }
   ],
   "source": [
    "# calling the returned function\n",
    "\n",
    "return_a_function()()"
   ]
  },
  {
   "cell_type": "markdown",
   "metadata": {},
   "source": [
    "The above syntax might look weird, and to be honest it is a little weirld if you've never seen it before. What you have to realize is that when you call the function``return_a_function``, it returns a function, which is itself callable, so we can add a new set of ``()`` to call the returned function"
   ]
  },
  {
   "cell_type": "markdown",
   "metadata": {},
   "source": [
    "**Note: All of the examples so far have used functions that don't have very many arguments (if any at all), just know that you could define these functions to take arguments**"
   ]
  },
  {
   "cell_type": "markdown",
   "metadata": {},
   "source": [
    "## Functions Within Functions\n",
    "\n",
    "Just like you can define methods insdie the scope of a class, you can also define functions inside the scope of another function. These locally defined functions will only be accessable from within that function where they are defined"
   ]
  },
  {
   "cell_type": "code",
   "execution_count": 19,
   "metadata": {},
   "outputs": [
    {
     "name": "stdout",
     "output_type": "stream",
     "text": [
      "<class 'int'>\n",
      "<class 'float'>\n",
      "<class 'function'>\n"
     ]
    }
   ],
   "source": [
    "def outside(something):\n",
    "    # Note that inside is defined within the outside funtion\n",
    "    def inside(value):\n",
    "        print(value.__class__)\n",
    "    # call the inner function from inside\n",
    "    inside(something)  \n",
    "\n",
    "\n",
    "outside(3)\n",
    "outside(3.5)\n",
    "# not ment to confuse you, but the function can\n",
    "# take any function, even itself as an argument\n",
    "outside(outside)"
   ]
  },
  {
   "cell_type": "markdown",
   "metadata": {},
   "source": [
    "Question: Does ``outisde`` (defined above) return anything?"
   ]
  },
  {
   "cell_type": "markdown",
   "metadata": {},
   "source": [
    "## Decorators\n",
    "\n",
    "Decorators are a way to extend the functionality of code without having to rewrite it from the ground up. Decorators provide this functionality by wrapping the code that they want to extend, and they provide this funtionality by utilising the fact that:\n",
    "\n",
    "    1) functions can be passed as arguments to other functions\n",
    "    \n",
    "    2) functions can be defined within other functions\n",
    "    \n",
    "    3) functions can be returned from other functions\n",
    "\n",
    "\n",
    "Decorators are often implemented using functions, but you can also implement them using classes. We'll see examples of both\n",
    "\n",
    "Decorators can be used to solve a lot of problems quickly, with minimal code adjustments. Any time you want to execute code either before or after some other peice of code is generally a good place to use a decorator. \n",
    "\n",
    "A common use for decorators would be to log the amount of time a function takes to run. In many Python web frameworks decorators are used to ensure users are logged in before returning content to them. Really the sky is the limit with decorators."
   ]
  },
  {
   "cell_type": "markdown",
   "metadata": {},
   "source": [
    "### Functions as  Decorators\n",
    "\n",
    "The simplest decorator is a function that takes a function as its only argument, defines an inner function **(with the same call signature as the original function)**, and returns the inner function\n",
    "\n",
    "    def outer_function(f):\n",
    "        def wrapper(arg1, arg2, arg3,...):\n",
    "            # write some code ...\n",
    "        \n",
    "        return wrapper"
   ]
  },
  {
   "cell_type": "markdown",
   "metadata": {},
   "source": [
    "In the following examples we'll define a very basic decorator"
   ]
  },
  {
   "cell_type": "code",
   "execution_count": 21,
   "metadata": {},
   "outputs": [],
   "source": [
    "def add_1(x):\n",
    "    return x + 1\n",
    "\n",
    "\n",
    "def my_decorator(f):\n",
    "    def wrapper(arg1):\n",
    "        print('Starting')\n",
    "        print(f'Result: {f(arg1)}')\n",
    "        print('Ending', end='\\n\\n')\n",
    "    return wrapper"
   ]
  },
  {
   "cell_type": "markdown",
   "metadata": {},
   "source": [
    "####  Wrap a function on the fly\n",
    "\n",
    "becuase we can pass funtions into other function we can wrap them any time we want and then store the result into a new variable (or override the existing variable)"
   ]
  },
  {
   "cell_type": "code",
   "execution_count": 24,
   "metadata": {},
   "outputs": [
    {
     "name": "stdout",
     "output_type": "stream",
     "text": [
      "Starting\n",
      "Result: 3\n",
      "Ending\n",
      "\n"
     ]
    }
   ],
   "source": [
    "# on the fly\n",
    "wrapped_add_1 = my_decorator(add_1)\n",
    "\n",
    "wrapped_add_1(2)"
   ]
  },
  {
   "cell_type": "markdown",
   "metadata": {},
   "source": [
    "#### Wrap function when they are defined using @\n",
    "\n",
    "Using @ followed by the name of the decorator is equivalent to wrapping the function on the fly. The only difference is the syntax is a little nicer."
   ]
  },
  {
   "cell_type": "code",
   "execution_count": 26,
   "metadata": {},
   "outputs": [
    {
     "name": "stdout",
     "output_type": "stream",
     "text": [
      "Starting\n",
      "Result: 8\n",
      "Ending\n",
      "\n"
     ]
    }
   ],
   "source": [
    "# use the @ syntax\n",
    "\n",
    "@my_decorator\n",
    "def add_2(x):\n",
    "    return x + 2\n",
    "\n",
    "add_2(6)"
   ]
  },
  {
   "cell_type": "markdown",
   "metadata": {},
   "source": [
    "### General decorators with \\*args and \\*\\*kwargs\n",
    "\n",
    "In our previous example we defined the ``my_decorator`` decorator. The only issue with how we defined it, is that its not very flexible. Because the ``wrapper`` function only takes a single argument, it's only able to pass on a single argument to the function. We can generically say that a function takes any number of positional and keyword arguments using \\*args and \\*\\*kwargs\n",
    "\n",
    "**NOTE: You don't need to refer to these varibales as args and kwargs, but thats what they are typically called**"
   ]
  },
  {
   "cell_type": "markdown",
   "metadata": {},
   "source": [
    "To illustrate the point, I'll define a funtion that takes two arguments and try to wrap it with our first decorator. I'll try to call the function using both arguments, but unfortunately we'll get an error because more arguments are provided than the function expects"
   ]
  },
  {
   "cell_type": "code",
   "execution_count": 27,
   "metadata": {},
   "outputs": [
    {
     "ename": "TypeError",
     "evalue": "wrapper() takes 1 positional argument but 2 were given",
     "output_type": "error",
     "traceback": [
      "\u001b[1;31m---------------------------------------------------------------------------\u001b[0m",
      "\u001b[1;31mTypeError\u001b[0m                                 Traceback (most recent call last)",
      "\u001b[1;32m<ipython-input-27-3c64b35e47d3>\u001b[0m in \u001b[0;36m<module>\u001b[1;34m\u001b[0m\n\u001b[0;32m      3\u001b[0m     \u001b[0mprint\u001b[0m\u001b[1;33m(\u001b[0m\u001b[0ma\u001b[0m\u001b[1;33m,\u001b[0m \u001b[0mb\u001b[0m\u001b[1;33m)\u001b[0m\u001b[1;33m\u001b[0m\u001b[1;33m\u001b[0m\u001b[0m\n\u001b[0;32m      4\u001b[0m \u001b[1;33m\u001b[0m\u001b[0m\n\u001b[1;32m----> 5\u001b[1;33m \u001b[0mtake_two\u001b[0m\u001b[1;33m(\u001b[0m\u001b[1;36m1\u001b[0m\u001b[1;33m,\u001b[0m \u001b[1;36m2\u001b[0m\u001b[1;33m)\u001b[0m\u001b[1;33m\u001b[0m\u001b[1;33m\u001b[0m\u001b[0m\n\u001b[0m",
      "\u001b[1;31mTypeError\u001b[0m: wrapper() takes 1 positional argument but 2 were given"
     ]
    }
   ],
   "source": [
    "@my_decorator\n",
    "def take_two(a, b):\n",
    "    print(a, b)\n",
    "\n",
    "take_two(1, 2)"
   ]
  },
  {
   "cell_type": "markdown",
   "metadata": {},
   "source": [
    "**NOTE: The error function is actually pretty interesting. Above, we called take_two yet the error message is saying that wrapper was the function that was called with two arguments. When working with decorated functions, you might think you're calling the original function, but in reality you're calling whatever funtion was returned by the decorator.**\n",
    "\n",
    "**Decorting a function using the @ syntax is equivalent to wrapping some new piece of code around an existing funtion, and then reassigning the name of the function to the original name**"
   ]
  },
  {
   "cell_type": "code",
   "execution_count": 41,
   "metadata": {},
   "outputs": [
    {
     "name": "stdout",
     "output_type": "stream",
     "text": [
      "It took 0.31611061096191406 seconds to run loop_over_items\n",
      "It took 0.5470714569091797 seconds to run loop_over_items\n",
      "It took 0.0 seconds to run square\n",
      "It took 0.0 seconds to run square\n"
     ]
    },
    {
     "data": {
      "text/plain": [
       "400"
      ]
     },
     "execution_count": 41,
     "metadata": {},
     "output_type": "execute_result"
    }
   ],
   "source": [
    "import time\n",
    "\n",
    "# a more general decorator\n",
    "# The outer funtion still takes a function as an argument\n",
    "def timer(f):\n",
    "    def wrapper(*args, **kwargs):\n",
    "        start = time.time()\n",
    "        result = f(*args, **kwargs)\n",
    "        end = time.time()\n",
    "        total_ms = end - start\n",
    "        print(f'It took {total_ms} seconds to run {f.__name__}')\n",
    "        return result\n",
    "    return wrapper\n",
    "\n",
    "@timer\n",
    "def loop_over_items(iterable, sleep_time=.1):\n",
    "    for item in iterable:\n",
    "        time.sleep(sleep_time)\n",
    "\n",
    "@timer\n",
    "def square(value):\n",
    "    return value ** 2\n",
    "\n",
    "loop_over_items('Hey')\n",
    "loop_over_items(range(5))\n",
    "\n",
    "square(2000)\n",
    "square(20)"
   ]
  },
  {
   "cell_type": "markdown",
   "metadata": {},
   "source": [
    "### Stacking decorators\n",
    "\n",
    "In most cases you can keep wrapping decorators as often as you need. The fist decorator defined on a function will be the last one to run"
   ]
  },
  {
   "cell_type": "code",
   "execution_count": 59,
   "metadata": {},
   "outputs": [
    {
     "name": "stdout",
     "output_type": "stream",
     "text": [
      "cube ran 1 time(s)\n",
      "It took 0.0 seconds to run wrapper\n",
      "0\n",
      "cube ran 2 time(s)\n",
      "It took 0.0 seconds to run wrapper\n",
      "1\n",
      "cube ran 3 time(s)\n",
      "It took 0.0 seconds to run wrapper\n",
      "8\n",
      "cube ran 4 time(s)\n",
      "It took 0.0 seconds to run wrapper\n",
      "27\n",
      "cube ran 5 time(s)\n",
      "It took 0.0 seconds to run wrapper\n",
      "64\n",
      "cube ran 6 time(s)\n",
      "It took 0.0009989738464355469 seconds to run wrapper\n",
      "125\n",
      "cube ran 7 time(s)\n",
      "It took 0.0 seconds to run wrapper\n",
      "216\n",
      "cube ran 8 time(s)\n",
      "It took 0.0 seconds to run wrapper\n",
      "343\n",
      "cube ran 9 time(s)\n",
      "It took 0.0 seconds to run wrapper\n",
      "512\n",
      "cube ran 10 time(s)\n",
      "It took 0.0 seconds to run wrapper\n",
      "729\n"
     ]
    }
   ],
   "source": [
    "def count_called(f):\n",
    "    count = 0\n",
    "    def wrapper(*args, **kwargs):\n",
    "        nonlocal count\n",
    "        count += 1\n",
    "        print(f'{f.__name__} ran {count} time(s)')\n",
    "        return f(*args, **kwargs)\n",
    "    return wrapper\n",
    "\n",
    "@timer\n",
    "@count_called\n",
    "def cube(x):\n",
    "    return x ** 3\n",
    "\n",
    "for num in range(10):\n",
    "    print(cube(num))    "
   ]
  },
  {
   "cell_type": "markdown",
   "metadata": {},
   "source": [
    "### Classes as Decorators\n",
    "\n",
    "creating a decorator out of a class takes advantage of the ``__call__`` dunder method on classes. This allows a class to become callable"
   ]
  },
  {
   "cell_type": "code",
   "execution_count": 48,
   "metadata": {},
   "outputs": [
    {
     "name": "stdout",
     "output_type": "stream",
     "text": [
      "(0, 1, 2, 3, 4, 5, 6, 7, 8, 9)\n",
      "{}\n"
     ]
    },
    {
     "data": {
      "text/plain": [
       "45"
      ]
     },
     "execution_count": 48,
     "metadata": {},
     "output_type": "execute_result"
    }
   ],
   "source": [
    "class LogArguments:\n",
    "    def __call__(self, f):\n",
    "        def wrapper(*args, **kwargs):\n",
    "            print(args)\n",
    "            print(kwargs)\n",
    "            return f(*args, **kwargs)\n",
    "        return wrapper\n",
    "\n",
    "@LogArguments()\n",
    "def my_sum(*args):\n",
    "    return sum(args)\n",
    "\n",
    "\n",
    "my_sum(*range(10))"
   ]
  },
  {
   "cell_type": "markdown",
   "metadata": {},
   "source": [
    "## Context Managers\n",
    "\n",
    "Context managers are objects that handle setup and teardown of resources for you. Becuase the setup and teardown is handled in the context manager the code you write will be cleaner and easier to read. The benefit of using a context manager to handle setup for you is that resources will always be cleaned up regardless of if an error occues in the context or not."
   ]
  },
  {
   "cell_type": "markdown",
   "metadata": {},
   "source": [
    "### ``__enter__`` and ``__exit__``\n",
    "\n",
    "To use an object as a context manager you use Python's ``with`` statement. In order for an object to be treated as a context manager it needs to define both an ``__enter__`` and an ``__exit__`` method like so:\n",
    "\n",
    "    \n",
    "    def __enter__(self):\n",
    "        # write your code ...\n",
    "       \n",
    "    def __exit__(self, exception, value, traceback):\n",
    "        # write your code ...\n",
    "\n",
    "Note that ``__exit__`` will be passed information about exceptions that may occur while inside the context of the context manager. If an exception occurs and the ``__exit__`` method returns False, the exception will be thrown, otherwise the exception will be supressed "
   ]
  },
  {
   "cell_type": "markdown",
   "metadata": {},
   "source": [
    "In the following example, we'll define a temporary file context manager.\n",
    "\n",
    "**NOTE: This functionality is built into the standard library using the tempfile module**"
   ]
  },
  {
   "cell_type": "code",
   "execution_count": 72,
   "metadata": {},
   "outputs": [
    {
     "name": "stdin",
     "output_type": "stream",
     "text": [
      "Check that the new file was created. Press Enter to continue \n"
     ]
    },
    {
     "name": "stdout",
     "output_type": "stream",
     "text": [
      "Yes, newfile1.txt exists!\n",
      "closing the file\n",
      "No, newfile1.txt does not exist!\n",
      "Yes, newfile2.txt exists!\n",
      "oops, and error occured!\n",
      "closing the file\n",
      "No, newfile2.txt does not exist!\n"
     ]
    }
   ],
   "source": [
    "import os\n",
    "import pathlib\n",
    "\n",
    "class TempFile:\n",
    "    def __init__(self, file_path):\n",
    "        self.path = pathlib.Path(file_path)\n",
    "    \n",
    "    def __enter__(self):\n",
    "        self.file = open(self.path, mode='w')\n",
    "        return self.file\n",
    "    \n",
    "    def __exit__(self, exception, value, traceback):\n",
    "        if exception:\n",
    "            print('oops, and error occured!')\n",
    "        print('closing the file')\n",
    "        self.file.close()\n",
    "        os.remove(self.path)\n",
    "        return True\n",
    "            \n",
    "    \n",
    "    \n",
    "def does_file_exist(file_path):\n",
    "    if os.path.exists(file_path):\n",
    "        print(f'Yes, {file_path} exists!')\n",
    "    else:\n",
    "        print(f'No, {file_path} does not exist!')\n",
    "    \n",
    "example_file1 = 'newfile1.txt'\n",
    "    \n",
    "with TempFile(example_file1) as f:\n",
    "    user_input = input('Check that the new file was created. Press Enter to continue')\n",
    "    does_file_exist(example_file1)\n",
    "\n",
    "# For some reason you need to save for the file menu\n",
    "# on the side to update\n",
    "does_file_exist(example_file1)  \n",
    "\n",
    "example_file2 = 'newfile2.txt'\n",
    "\n",
    "with TempFile(example_file2) as f:\n",
    "    does_file_exist(example_file2)\n",
    "    raise Exception\n",
    "\n",
    "does_file_exist(example_file2)"
   ]
  },
  {
   "cell_type": "markdown",
   "metadata": {},
   "source": [
    "### Contextmanager Decorator\n",
    "\n",
    "If you don't want to define context manager classes, Python provides some tools in the standard library for you to be able to define context managers using functions. In order to do so, you'll need to use the ``contextmanager`` decorator provided to you by the built in ``contextlib`` module\n",
    "\n",
    "You can define your context manager as a generator, yielding the result and handling any cleanup and teardown with ``try, except, else, and finally`` blocks"
   ]
  },
  {
   "cell_type": "code",
   "execution_count": 60,
   "metadata": {},
   "outputs": [
    {
     "name": "stdout",
     "output_type": "stream",
     "text": [
      "0.6316969394683838\n"
     ]
    }
   ],
   "source": [
    "from contextlib import contextmanager\n",
    "\n",
    "# timer context manager\n",
    "@contextmanager\n",
    "def timer_contex():\n",
    "    try:\n",
    "        start = time.time()\n",
    "        # allow code inside the context to run         \n",
    "        yield\n",
    "    finally:\n",
    "        end = time.time()\n",
    "        print(end - start)\n",
    "        \n",
    "\n",
    "        \n",
    "with timer_contex():\n",
    "    for x in range(6):\n",
    "        time.sleep(.1)   "
   ]
  },
  {
   "cell_type": "code",
   "execution_count": null,
   "metadata": {},
   "outputs": [],
   "source": []
  },
  {
   "cell_type": "code",
   "execution_count": null,
   "metadata": {},
   "outputs": [],
   "source": []
  },
  {
   "cell_type": "code",
   "execution_count": null,
   "metadata": {},
   "outputs": [],
   "source": []
  },
  {
   "cell_type": "code",
   "execution_count": null,
   "metadata": {},
   "outputs": [],
   "source": []
  },
  {
   "cell_type": "markdown",
   "metadata": {},
   "source": [
    "## Additional Resources\n",
    "\n",
    "* [Python Inner Functions (Blog Post)](https://realpython.com/inner-functions-what-are-they-good-for/)\n",
    "* [Python Decorators (Blog Post)](https://realpython.com/primer-on-python-decorators/)\n",
    "* [Python Decorators (YouTube Video)](https://www.youtube.com/watch?v=FsAPt_9Bf3U&t=25s)\n",
    "* [First Class Functions (YouTube Video)](https://www.youtube.com/watch?v=kr0mpwqttM0)\n",
    "* [Closures (YouTube Video)](https://www.youtube.com/watch?v=swU3c34d2NQ)\n",
    "* [Context Manager Use Cases (Blog Post)](http://arnavk.com/posts/python-context-managers/) The artilce might be a little hard to fully understand, but the example use cases are pretty diverse"
   ]
  },
  {
   "cell_type": "code",
   "execution_count": null,
   "metadata": {},
   "outputs": [],
   "source": []
  }
 ],
 "metadata": {
  "kernelspec": {
   "display_name": "Python 3",
   "language": "python",
   "name": "python3"
  },
  "language_info": {
   "codemirror_mode": {
    "name": "ipython",
    "version": 3
   },
   "file_extension": ".py",
   "mimetype": "text/x-python",
   "name": "python",
   "nbconvert_exporter": "python",
   "pygments_lexer": "ipython3",
   "version": "3.6.8"
  }
 },
 "nbformat": 4,
 "nbformat_minor": 2
}
