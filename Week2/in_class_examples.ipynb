{
 "cells": [
  {
   "cell_type": "markdown",
   "metadata": {},
   "source": [
    "# Recap Last Week\n",
    "\n",
    "**we covered:**\n",
    "* comments\n",
    "* variables\n",
    "* basic data types\n",
    "* mathematical operators\n",
    "* string formatting\n",
    "* and conditional logic"
   ]
  },
  {
   "cell_type": "markdown",
   "metadata": {},
   "source": [
    "## What we missed (my bad)\n",
    "There are three other keywords Python allows you to use when determining the truth value of an expression\n",
    "\n",
    "* and\n",
    "    * True if both expression being checked evaluate to True, otherwise it's False\n",
    "* or \n",
    "    * True if either expression being checked is True. Flase when both expression are False\n",
    "* not\n",
    "    * Negate the truth value of an expression"
   ]
  },
  {
   "cell_type": "code",
   "execution_count": null,
   "metadata": {},
   "outputs": [],
   "source": [
    "# using and\n",
    "print(f'True and True results in {True and True}')\n",
    "print(f'True and False results in {True and False}')\n",
    "print(f'False and True results in {False and True}')\n",
    "print(f'False and False results in {False and False}')"
   ]
  },
  {
   "cell_type": "code",
   "execution_count": null,
   "metadata": {},
   "outputs": [],
   "source": [
    "# uisng or\n",
    "print(f'True or True results in {True or True}')\n",
    "print(f'True or False results in {True or False}')\n",
    "print(f'False or True results in {False or True}')\n",
    "print(f'False or False results in {False or False}')"
   ]
  },
  {
   "cell_type": "code",
   "execution_count": null,
   "metadata": {},
   "outputs": [],
   "source": [
    "# using not\n",
    "false_expression = 53 < 2\n",
    "print(f'Using \"not\" turns a {false_expression} expression into a {not false_expression} expression')\n",
    "\n",
    "ture_expression = len('123') == 3\n",
    "print(f'Using \"not\" turns a {ture_expression} expression into a {not ture_expression} expression')"
   ]
  },
  {
   "cell_type": "markdown",
   "metadata": {},
   "source": [
    "**You can combine these logical keywords as much as you want**\n",
    "\n",
    "**Note: You can also add () to indicate to python how you want expression to be grouped**"
   ]
  },
  {
   "cell_type": "code",
   "execution_count": null,
   "metadata": {},
   "outputs": [],
   "source": [
    "today = 'Monday'\n",
    "tomorrow = 'Wednesday'\n",
    "weather = 'Sunny'\n",
    "\n",
    "if (today == 'Monday' or tomorrow == 'Sunday') and weather == 'Sunny':\n",
    "    print('Going for a walk in the park')\n",
    "elif not tomrrow == 'Tuesday' or weather == 'cloudy':\n",
    "    print('watching movies')\n",
    "else:\n",
    "    print('Gotta cook dinner')"
   ]
  },
  {
   "cell_type": "markdown",
   "metadata": {},
   "source": [
    "# Data Structures\n",
    "\n",
    "There are 4 main data types in Python\n",
    "* List\n",
    "* Dictionary\n",
    "* Set\n",
    "* Tuple"
   ]
  },
  {
   "cell_type": "markdown",
   "metadata": {},
   "source": [
    "## Lists\n",
    "one of the most commonly used data structures in Python. Lists can contain any data type. One thing to note about lists is that they are ordered. There are many ways to create a list, but the most common are using []"
   ]
  },
  {
   "cell_type": "markdown",
   "metadata": {},
   "source": [
    "### Creating a list"
   ]
  },
  {
   "cell_type": "code",
   "execution_count": null,
   "metadata": {},
   "outputs": [],
   "source": [
    "# using []\n",
    "week_days = ['mon', 'tue', 'wed', 'thur', 'fri', 'sat', 'sun']\n",
    "week_days"
   ]
  },
  {
   "cell_type": "code",
   "execution_count": null,
   "metadata": {},
   "outputs": [],
   "source": [
    "# Lists can also contain elements with different data types\n",
    "mixed = [1, 3.5, True, 'end']\n",
    "mixed"
   ]
  },
  {
   "cell_type": "code",
   "execution_count": null,
   "metadata": {},
   "outputs": [],
   "source": [
    "# other data structures can also be contained inside of a list. A list within a list...listseption\n",
    "matrix = [\n",
    "    [1, 2, 3],\n",
    "    [4, 5, 6],\n",
    "    [7, 8, 9]\n",
    "]"
   ]
  },
  {
   "cell_type": "markdown",
   "metadata": {},
   "source": [
    "### List Slicing"
   ]
  },
  {
   "cell_type": "markdown",
   "metadata": {},
   "source": [
    "Lists also support slicing notation"
   ]
  },
  {
   "cell_type": "code",
   "execution_count": null,
   "metadata": {},
   "outputs": [],
   "source": [
    "week_days[0]"
   ]
  },
  {
   "cell_type": "code",
   "execution_count": null,
   "metadata": {},
   "outputs": [],
   "source": [
    "week_days[4::]"
   ]
  },
  {
   "cell_type": "markdown",
   "metadata": {},
   "source": [
    "Slicing also works with nested lists."
   ]
  },
  {
   "cell_type": "code",
   "execution_count": null,
   "metadata": {},
   "outputs": [],
   "source": [
    "# Note that the first entry in matrix is a list [1, 2, 3]\n",
    "matrix[0]"
   ]
  },
  {
   "cell_type": "markdown",
   "metadata": {},
   "source": [
    "you can slice as deep as the data strucure will allow"
   ]
  },
  {
   "cell_type": "code",
   "execution_count": null,
   "metadata": {},
   "outputs": [],
   "source": [
    "# so matrix[1] returns [4, 5, 6], and then we get the 2nd index from that list (6). remember that indexing starts at 0\n",
    "matrix[1][2]"
   ]
  },
  {
   "cell_type": "markdown",
   "metadata": {},
   "source": [
    "### Some List Methods"
   ]
  },
  {
   "cell_type": "markdown",
   "metadata": {},
   "source": [
    "You can add items to a list using the append method"
   ]
  },
  {
   "cell_type": "code",
   "execution_count": null,
   "metadata": {},
   "outputs": [],
   "source": [
    "week_days.append('day-8')\n",
    "week_days"
   ]
  },
  {
   "cell_type": "markdown",
   "metadata": {},
   "source": [
    "You can remove and return an item from a list with the pop method"
   ]
  },
  {
   "cell_type": "code",
   "execution_count": null,
   "metadata": {},
   "outputs": [],
   "source": [
    "last = week_days.pop()\n",
    "last"
   ]
  },
  {
   "cell_type": "markdown",
   "metadata": {},
   "source": [
    "To find the index of an element in a list you can use index method"
   ]
  },
  {
   "cell_type": "code",
   "execution_count": null,
   "metadata": {},
   "outputs": [],
   "source": [
    "week_days.index('tue')"
   ]
  },
  {
   "cell_type": "markdown",
   "metadata": {},
   "source": [
    "You can remove and return a specific element by supplying the index as an argument to the pop method"
   ]
  },
  {
   "cell_type": "code",
   "execution_count": null,
   "metadata": {},
   "outputs": [],
   "source": [
    "tues = week_days.pop(week_days.index('tue'))\n",
    "tues"
   ]
  },
  {
   "cell_type": "code",
   "execution_count": null,
   "metadata": {},
   "outputs": [],
   "source": [
    "# as you can see 'tue' is no longer in the week_days list\n",
    "week_days"
   ]
  },
  {
   "cell_type": "markdown",
   "metadata": {},
   "source": [
    "You can insert an item into a specific place using the insert method"
   ]
  },
  {
   "cell_type": "code",
   "execution_count": null,
   "metadata": {},
   "outputs": [],
   "source": [
    "week_days.insert(1, 'tue')\n",
    "week_days"
   ]
  },
  {
   "cell_type": "markdown",
   "metadata": {},
   "source": [
    "You can find the lenght of a list using the built in len function"
   ]
  },
  {
   "cell_type": "code",
   "execution_count": null,
   "metadata": {},
   "outputs": [],
   "source": [
    "len([5, 6, 7, 8])"
   ]
  },
  {
   "cell_type": "markdown",
   "metadata": {},
   "source": [
    "## Dictionaries\n",
    "Another really common data structure in Python is a dictionary (dict). Dictionaries represent mappings of key value pairs, where the value can be any python object. Although in later versions of python the order that keys are inserted into the dictionary is maintained, dictionaries are an inherintly unordered data structure. Dictionareis are constrcuted using {} and take the form: {key1:value1, key2:value2, ...}. Each key value pair in the dictionary is comma (,) seperated"
   ]
  },
  {
   "cell_type": "markdown",
   "metadata": {},
   "source": [
    "### Creating a dictionary"
   ]
  },
  {
   "cell_type": "code",
   "execution_count": null,
   "metadata": {},
   "outputs": [],
   "source": [
    "birthday = {\n",
    "    'Yacin':'Feb 2',\n",
    "    'Andrew': 'Oct 29',\n",
    "    'Brian': 'Jun 7',\n",
    "    'Sarah': 'Aug 18',\n",
    "}"
   ]
  },
  {
   "cell_type": "markdown",
   "metadata": {},
   "source": [
    "### Accessing values from a dictionary"
   ]
  },
  {
   "cell_type": "markdown",
   "metadata": {},
   "source": [
    "Accessing elements in a dictionary can be done in two ways. Similar to slicing notation you can use \\[key\\], but instead of supplying an index value to search you specify which key you'd like to pull data for. The return value is always the value associated with the key. Using the \\[key\\] syntax will raise a KeyError if the key you're searching for doesn't exists. The second way to access the values stored in a dictionary is using the get method. This has the advantage of allowing you to return a default value if none is found"
   ]
  },
  {
   "cell_type": "markdown",
   "metadata": {},
   "source": [
    "Use bracket notation to access the dictionary, again note that we access the values in a dictionary by referencing the keys"
   ]
  },
  {
   "cell_type": "code",
   "execution_count": null,
   "metadata": {},
   "outputs": [],
   "source": [
    "birthday['Brian']"
   ]
  },
  {
   "cell_type": "markdown",
   "metadata": {},
   "source": [
    "Accessing as key that doesn't exist throws an error"
   ]
  },
  {
   "cell_type": "code",
   "execution_count": null,
   "metadata": {},
   "outputs": [],
   "source": [
    "brithday['Mike']"
   ]
  },
  {
   "cell_type": "markdown",
   "metadata": {},
   "source": [
    "Using the `get` method to access values by key"
   ]
  },
  {
   "cell_type": "code",
   "execution_count": null,
   "metadata": {},
   "outputs": [],
   "source": [
    "birthday.get('Andrew')"
   ]
  },
  {
   "cell_type": "markdown",
   "metadata": {},
   "source": [
    "the get method takes a second optional argument that defaults to None, which specifies the default value to return if the key doesn't exist"
   ]
  },
  {
   "cell_type": "code",
   "execution_count": null,
   "metadata": {},
   "outputs": [],
   "source": [
    "birthday.get('Sam', 'Sep 4')"
   ]
  },
  {
   "cell_type": "markdown",
   "metadata": {},
   "source": [
    "Similar to lists, the values of a dictionary can be any data type or data structure. Dictionaries can get as nested and complex as you'd like"
   ]
  },
  {
   "cell_type": "code",
   "execution_count": null,
   "metadata": {},
   "outputs": [],
   "source": [
    "people = {\n",
    "    'Josh':{\n",
    "        'birthday': 'Mar 13',\n",
    "        'height': 64,\n",
    "        'age':25,\n",
    "    },\n",
    "    \n",
    "    'Liz':{\n",
    "        'birthday': 'Mar 13',\n",
    "        'height': 70,\n",
    "        'age':36,\n",
    "    },\n",
    "    \n",
    "    'Dan':{\n",
    "        'birthday': 'Dec 25',\n",
    "        'height': 65,\n",
    "        'age':15,\n",
    "    }\n",
    "    \n",
    "}"
   ]
  },
  {
   "cell_type": "markdown",
   "metadata": {},
   "source": [
    "Again, the data structure can be nested. We access the value of a dictionary by referencing it's key`"
   ]
  },
  {
   "cell_type": "code",
   "execution_count": null,
   "metadata": {},
   "outputs": [],
   "source": [
    "# As you might expect we get returned the nested dictionary for 'Liz'\n",
    "people['Liz']"
   ]
  },
  {
   "cell_type": "markdown",
   "metadata": {},
   "source": [
    "You can traverse the dictionary in one line by continuing to reference keys, or index's till you've reached the value you want to get at"
   ]
  },
  {
   "cell_type": "code",
   "execution_count": null,
   "metadata": {},
   "outputs": [],
   "source": [
    "# we can get at Liz's height by using the [] notation twice\n",
    "people['Liz']['height']"
   ]
  },
  {
   "cell_type": "code",
   "execution_count": null,
   "metadata": {},
   "outputs": [],
   "source": [
    "# you can also use the get method\n",
    "people.get('Dan').get('birthday')"
   ]
  },
  {
   "cell_type": "code",
   "execution_count": null,
   "metadata": {},
   "outputs": [],
   "source": [
    "# you can combine the [] and get method\n",
    "people['Josh'].get('age')"
   ]
  },
  {
   "cell_type": "markdown",
   "metadata": {},
   "source": [
    "### Adding values to a dictionary"
   ]
  },
  {
   "cell_type": "code",
   "execution_count": null,
   "metadata": {},
   "outputs": [],
   "source": [
    "# create a new dictionary with two keys summer and spring\n",
    "seasons = {\n",
    "    'summer':1,\n",
    "    'spring':2\n",
    "}"
   ]
  },
  {
   "cell_type": "markdown",
   "metadata": {},
   "source": [
    "You can add values to a dictoinary in several wasy. First you can use the \\[key\\] syntax along with an = to assign a value to the key. If the key doesn't exist a new key value pair will be created in the dictionary. If the value already exists in the dictionary, you'll override the old value with the new one"
   ]
  },
  {
   "cell_type": "code",
   "execution_count": null,
   "metadata": {},
   "outputs": [],
   "source": [
    "seasons['fall'] = 3\n",
    "print(seasons)"
   ]
  },
  {
   "cell_type": "markdown",
   "metadata": {},
   "source": [
    "You can also add values to a dictionay using the update method. where you supply a list of key word arguments to the function. The update method is more useful if you need to update many keys in a dictionary at once, otherwise you should use the [] syntax for assigning new values to a dictionary"
   ]
  },
  {
   "cell_type": "code",
   "execution_count": null,
   "metadata": {},
   "outputs": [],
   "source": [
    "seasons.update(winter=4)\n",
    "seasons"
   ]
  },
  {
   "cell_type": "markdown",
   "metadata": {},
   "source": [
    "### Removing values from a dictionary\n",
    "In order to remove a single element from a dictionary use Python's built in del keyword "
   ]
  },
  {
   "cell_type": "code",
   "execution_count": null,
   "metadata": {},
   "outputs": [],
   "source": [
    "# remove spring from the dictionary\n",
    "del seasons['spring']\n",
    "seasons"
   ]
  },
  {
   "cell_type": "code",
   "execution_count": null,
   "metadata": {},
   "outputs": [],
   "source": [
    "# tyring to remove a key that does not exist in the dictionary will result in a KeyError\n",
    "del seasons['spring']"
   ]
  },
  {
   "cell_type": "markdown",
   "metadata": {},
   "source": [
    "If you want to make a copy of a dictionary you can do so using the copy method, and if you want to remove all keys you can using the clear method"
   ]
  },
  {
   "cell_type": "code",
   "execution_count": null,
   "metadata": {},
   "outputs": [],
   "source": [
    "season_copy = seasons.copy()\n",
    "print(f'Copy -- {season_copy}')\n",
    "print(f'Original -- {seasons}')"
   ]
  },
  {
   "cell_type": "code",
   "execution_count": null,
   "metadata": {},
   "outputs": [],
   "source": [
    "season_copy.clear()\n",
    "print(f'Copy -- {season_copy}')\n",
    "print(f'Original -- {seasons}')"
   ]
  },
  {
   "cell_type": "markdown",
   "metadata": {},
   "source": [
    "### Other useful Dict methods\n",
    "* keys\n",
    "* values\n",
    "* items"
   ]
  },
  {
   "cell_type": "code",
   "execution_count": null,
   "metadata": {},
   "outputs": [],
   "source": [
    "# return just the keys from a dictionary\n",
    "seasons.keys()"
   ]
  },
  {
   "cell_type": "code",
   "execution_count": null,
   "metadata": {},
   "outputs": [],
   "source": [
    "# return just the values from a dictionary\n",
    "seasons.values()"
   ]
  },
  {
   "cell_type": "code",
   "execution_count": null,
   "metadata": {},
   "outputs": [],
   "source": [
    "# return a Tuple of keys and values\n",
    "seasons.items()"
   ]
  },
  {
   "cell_type": "code",
   "execution_count": null,
   "metadata": {},
   "outputs": [],
   "source": [
    "#\n",
    "len(people)"
   ]
  },
  {
   "cell_type": "markdown",
   "metadata": {},
   "source": [
    "# Looping\n",
    "\n",
    "Looping is useful when you want to perform the same task multiple times"
   ]
  },
  {
   "cell_type": "markdown",
   "metadata": {},
   "source": [
    "## For Loops\n",
    "\n",
    "Use for loops when you know that you will only need to loop a finite number of time. So in cases where you have a collection of items\n",
    "For loop syntax is as follows:\n",
    "    \n",
    "    for item in colletion:\n",
    "        do something\n",
    "\n",
    "**In the above example, \"item\" is a variable that you can name anything you want. you'll have access to this variable within the loop, similarly collection can be any collection of python objects**\n",
    "\n",
    "**Note that the indentation matters. The code written in the indented block of the for loop will be evaluated on each iteration of the loop** "
   ]
  },
  {
   "cell_type": "code",
   "execution_count": null,
   "metadata": {},
   "outputs": [],
   "source": [
    "# looping over a list of numbers\n",
    "for num in [1, 2, 3, 4, 5, 6]:\n",
    "    print(num)"
   ]
  },
  {
   "cell_type": "code",
   "execution_count": null,
   "metadata": {},
   "outputs": [],
   "source": [
    "# looping over a dictionary will loop over the keys\n",
    "my_dict = {1:'one', 2:'two', 3:'three', 4:'four', 5:'five', 6:'six'}\n",
    "for key in my_dict:\n",
    "    print(my_dict[key])"
   ]
  },
  {
   "cell_type": "markdown",
   "metadata": {},
   "source": [
    "You can write whatever code you want in the body of the loop. You can change which code gets evaluated using conditional logic inside the loop"
   ]
  },
  {
   "cell_type": "code",
   "execution_count": null,
   "metadata": {},
   "outputs": [],
   "source": [
    "for num in [1, 2, 3, 4, 5, 6]:\n",
    "    if num == 1:\n",
    "        print('If block gets executed')\n",
    "    elif 2 <= num <= 4:\n",
    "        print('elif block gets executed')\n",
    "    else:\n",
    "        print('else block gets executed')"
   ]
  },
  {
   "cell_type": "code",
   "execution_count": null,
   "metadata": {},
   "outputs": [],
   "source": [
    "for day in ['Monday', 'Tuesday', 'Wednesday', 'Thursday', 'Friday', 'Saturday', 'Sunday']:\n",
    "    if day in ['Friday', 'Saturday']:\n",
    "        print(f'I love {day}')\n",
    "    elif day in ['Wednesday', 'Thursday']:\n",
    "        print(f'{day} is okay')\n",
    "    else:\n",
    "        print(f'I hate {day}')"
   ]
  },
  {
   "cell_type": "markdown",
   "metadata": {},
   "source": [
    "**you'll typically use lists in your for loops (or at least I typically do), but that doesn't mean that lists are the only thing you can iterate over. As you saw in one of the examples above we were also able to loop over a dictionary. We're able to loop over these objects using a for loop becuase these objects are iterable. It's not supper importnat that you understnad what makes an object in python iterable, but don't worry, we'll cover it in a futrue class. For now I just want you to realize that there are many objects that you can loop (or iterate) through. Another type of iterable in python is a generator. Again, not supper important that you understnad what a generator is just yet, but know that you can loop over them.**"
   ]
  },
  {
   "cell_type": "markdown",
   "metadata": {},
   "source": [
    "You can easily create a generator using python's range function. The arguments that the range function takes are similar to the slice arguments (start, stop, and step)"
   ]
  },
  {
   "cell_type": "code",
   "execution_count": null,
   "metadata": {},
   "outputs": [],
   "source": [
    "# if only one argument is passed it is assuemed to be the end\n",
    "for num in range(5):\n",
    "    print(num)"
   ]
  },
  {
   "cell_type": "code",
   "execution_count": null,
   "metadata": {},
   "outputs": [],
   "source": [
    "# if two arguments are passed the first is the start and the second is the stop. Just like slicing this is not inclusive of the stop\n",
    "for num in range(3, 8):\n",
    "    print(num)"
   ]
  },
  {
   "cell_type": "code",
   "execution_count": null,
   "metadata": {},
   "outputs": [],
   "source": [
    "# three arguments indicate start, stop, and step\n",
    "for num in range(0, 10, 2):\n",
    "    print(num)"
   ]
  },
  {
   "cell_type": "markdown",
   "metadata": {},
   "source": [
    "## While Loops\n",
    "\n",
    "while loops are used when you don't know how many times you are going to iterate. The code in the while loop will continue to execute while the condition being checked by the while loop remains True. while loop syntax is as follws:\n",
    "\n",
    "        While \"some condition\":\n",
    "            run some code\n",
    "            updat the condition\n",
    "\n",
    "**It's important to note that if you set up a while loop with a condtion that will always evaluate to true then you will get stuck in an infinite loop. If this happens don't pannic, you'll just have to manually terminate the code being run**"
   ]
  },
  {
   "cell_type": "code",
   "execution_count": null,
   "metadata": {},
   "outputs": [],
   "source": [
    "# in this example we\n",
    "num = 0\n",
    "while num < 10:\n",
    "    print(num)\n",
    "    num +=1"
   ]
  },
  {
   "cell_type": "code",
   "execution_count": null,
   "metadata": {},
   "outputs": [],
   "source": [
    "text = 'Hello World'\n",
    "index = 0\n",
    "while text[index] != 'r':\n",
    "    print(text[index])\n",
    "    index += 1"
   ]
  },
  {
   "cell_type": "markdown",
   "metadata": {},
   "source": [
    "If you do set up a loop condition that will always evaluate to True, ensure that there is a break keyword somewhere within the body of the while loop\n",
    "the break keyword can be used to break out of the current block of code and continue execution"
   ]
  },
  {
   "cell_type": "code",
   "execution_count": 1,
   "metadata": {},
   "outputs": [
    {
     "name": "stdout",
     "output_type": "stream",
     "text": [
      "outside the while loop\n"
     ]
    }
   ],
   "source": [
    "while True:\n",
    "    break\n",
    "print('outside the while loop')"
   ]
  },
  {
   "cell_type": "markdown",
   "metadata": {},
   "source": [
    "# Comprehensions"
   ]
  },
  {
   "cell_type": "markdown",
   "metadata": {},
   "source": [
    "## list comprehensions"
   ]
  },
  {
   "cell_type": "markdown",
   "metadata": {},
   "source": [
    "## dictionary comprehensions"
   ]
  },
  {
   "cell_type": "markdown",
   "metadata": {},
   "source": [
    "# Functions"
   ]
  },
  {
   "cell_type": "markdown",
   "metadata": {},
   "source": [
    "## defining regular functions"
   ]
  },
  {
   "cell_type": "markdown",
   "metadata": {},
   "source": [
    "## defining Lambdas: anonymous functions "
   ]
  },
  {
   "cell_type": "markdown",
   "metadata": {},
   "source": [
    "# Reading and Writing to (text) files "
   ]
  },
  {
   "cell_type": "code",
   "execution_count": null,
   "metadata": {},
   "outputs": [],
   "source": []
  }
 ],
 "metadata": {
  "kernelspec": {
   "display_name": "Python 3",
   "language": "python",
   "name": "python3"
  },
  "language_info": {
   "codemirror_mode": {
    "name": "ipython",
    "version": 3
   },
   "file_extension": ".py",
   "mimetype": "text/x-python",
   "name": "python",
   "nbconvert_exporter": "python",
   "pygments_lexer": "ipython3",
   "version": "3.6.8"
  }
 },
 "nbformat": 4,
 "nbformat_minor": 2
}
