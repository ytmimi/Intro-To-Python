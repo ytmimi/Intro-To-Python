{
 "cells": [
  {
   "cell_type": "markdown",
   "metadata": {},
   "source": [
    "# Recap Last Week\n",
    "\n",
    "**we covered:**\n",
    "* comments\n",
    "* variables\n",
    "* basic data types\n",
    "* mathematical operators\n",
    "* string formatting\n",
    "* and conditional logic"
   ]
  },
  {
   "cell_type": "markdown",
   "metadata": {},
   "source": [
    "## What we missed (my bad)\n",
    "There are three other keywords Python allows you to use when determining the truth value of an expression\n",
    "\n",
    "* and\n",
    "    * True if both expression being checked evaluate to True, otherwise it's False\n",
    "* or \n",
    "    * True if either expression being checked is True. Flase when both expression are False\n",
    "* not\n",
    "    * Negate the truth value of an expression"
   ]
  },
  {
   "cell_type": "code",
   "execution_count": null,
   "metadata": {},
   "outputs": [],
   "source": [
    "# using and\n",
    "print(f'True and True results in {True and True}')\n",
    "print(f'True and False results in {True and False}')\n",
    "print(f'False and True results in {False and True}')\n",
    "print(f'False and False results in {False and False}')"
   ]
  },
  {
   "cell_type": "code",
   "execution_count": null,
   "metadata": {},
   "outputs": [],
   "source": [
    "# uisng or\n",
    "print(f'True or True results in {True or True}')\n",
    "print(f'True or False results in {True or False}')\n",
    "print(f'False or True results in {False or True}')\n",
    "print(f'False or False results in {False or False}')"
   ]
  },
  {
   "cell_type": "code",
   "execution_count": null,
   "metadata": {},
   "outputs": [],
   "source": [
    "# using not\n",
    "false_expression = 53 < 2\n",
    "print(f'Using \"not\" turns a {false_expression} expression into a {not false_expression} expression')\n",
    "\n",
    "ture_expression = len('123') == 3\n",
    "print(f'Using \"not\" turns a {ture_expression} expression into a {not ture_expression} expression')"
   ]
  },
  {
   "cell_type": "markdown",
   "metadata": {},
   "source": [
    "**You can combine these logical keywords as much as you want**\n",
    "\n",
    "**Note: You can also add () to indicate to python how you want expression to be grouped**"
   ]
  },
  {
   "cell_type": "code",
   "execution_count": null,
   "metadata": {},
   "outputs": [],
   "source": [
    "today = 'Monday'\n",
    "tomorrow = 'Wednesday'\n",
    "weather = 'Sunny'\n",
    "\n",
    "if (today == 'Monday' or tomorrow == 'Sunday') and weather == 'Sunny':\n",
    "    print('Going for a walk in the park')\n",
    "elif not tomrrow == 'Tuesday' or weather == 'cloudy':\n",
    "    print('watching movies')\n",
    "else:\n",
    "    print('Gotta cook dinner')"
   ]
  },
  {
   "cell_type": "markdown",
   "metadata": {},
   "source": [
    "# Data Structures\n",
    "\n",
    "There are 4 main data types in Python\n",
    "* List\n",
    "* Dictionary\n",
    "* Set\n",
    "* Tuple"
   ]
  },
  {
   "cell_type": "markdown",
   "metadata": {},
   "source": [
    "### Lists\n",
    "one of the most commonly used data structures in Python. Lists can contain any data type. One thing to note about lists is that they are ordered. There are many ways to create a list, but the most common are using []"
   ]
  },
  {
   "cell_type": "markdown",
   "metadata": {},
   "source": [
    "### Creating a list"
   ]
  },
  {
   "cell_type": "code",
   "execution_count": null,
   "metadata": {},
   "outputs": [],
   "source": [
    "# using []\n",
    "week_days = ['mon', 'tue', 'wed', 'thur', 'fri', 'sat', 'sun']\n",
    "week_days"
   ]
  },
  {
   "cell_type": "code",
   "execution_count": null,
   "metadata": {},
   "outputs": [],
   "source": [
    "# Lists can also contain elements with different data types\n",
    "mixed = [1, 3.5, True, 'end']\n",
    "mixed"
   ]
  },
  {
   "cell_type": "code",
   "execution_count": null,
   "metadata": {},
   "outputs": [],
   "source": [
    "# other data structures can also be contained inside of a list. A list within a list...listseption\n",
    "matrix = [\n",
    "    [1, 2, 3],\n",
    "    [4, 5, 6],\n",
    "    [7, 8, 9]\n",
    "]"
   ]
  },
  {
   "cell_type": "markdown",
   "metadata": {},
   "source": [
    "### List Slicing"
   ]
  },
  {
   "cell_type": "code",
   "execution_count": null,
   "metadata": {},
   "outputs": [],
   "source": [
    "# Lists also support slicing notation\n",
    "week_days[0]"
   ]
  },
  {
   "cell_type": "code",
   "execution_count": null,
   "metadata": {},
   "outputs": [],
   "source": [
    "week_days[4::]"
   ]
  },
  {
   "cell_type": "code",
   "execution_count": null,
   "metadata": {},
   "outputs": [],
   "source": [
    "# slicing also works with nested lists.\n",
    "matrix[0]\n",
    "# Note that the first entry in matrix is a list [1, 2, 3]"
   ]
  },
  {
   "cell_type": "code",
   "execution_count": null,
   "metadata": {},
   "outputs": [],
   "source": [
    "# you can slice as deep as the data strucure will allow\n",
    "matrix[1][2]\n",
    "# so matrix[1] returns [4, 5, 6], and then we get the 2nd index from that list (6). remember that indexing starts at 0"
   ]
  },
  {
   "cell_type": "markdown",
   "metadata": {},
   "source": [
    "### Some List Methods"
   ]
  },
  {
   "cell_type": "code",
   "execution_count": null,
   "metadata": {},
   "outputs": [],
   "source": [
    "# you can add items to a list using the append method\n",
    "week_days.append('8')\n",
    "week_days"
   ]
  },
  {
   "cell_type": "code",
   "execution_count": null,
   "metadata": {},
   "outputs": [],
   "source": [
    "# you can remove and return an item from a list with pop\n",
    "last = week_days.pop()\n",
    "last"
   ]
  },
  {
   "cell_type": "code",
   "execution_count": null,
   "metadata": {},
   "outputs": [],
   "source": [
    "# to find the index of an element in a list you can use index\n",
    "week_days.index('tue')"
   ]
  },
  {
   "cell_type": "code",
   "execution_count": null,
   "metadata": {},
   "outputs": [],
   "source": [
    "# you can remove and return specific index by supplying the index as an argument to the pop method\n",
    "tues = week_days.pop(week_days.index('tue'))\n",
    "tues"
   ]
  },
  {
   "cell_type": "code",
   "execution_count": null,
   "metadata": {},
   "outputs": [],
   "source": [
    "# as you can see 'tue' is no longer in the week_days list\n",
    "week_days"
   ]
  },
  {
   "cell_type": "code",
   "execution_count": null,
   "metadata": {},
   "outputs": [],
   "source": [
    "# you can insert an item into a specific place using the insert method\n",
    "week_days.insert(1, 'tue')\n",
    "week_days"
   ]
  },
  {
   "cell_type": "markdown",
   "metadata": {},
   "source": [
    "## Dictionaries\n",
    "Another really common data structure in Python is a dictionary (dict). Dictionaries represent mappings of key value pairs. Although in later versions of python the order that keys are inserted is maintained, dictionaries are an inherintly unordered data structure. Dictionareis are constrcuted using {key1:value1, key2:value2, ...}"
   ]
  },
  {
   "cell_type": "code",
   "execution_count": null,
   "metadata": {},
   "outputs": [],
   "source": []
  }
 ],
 "metadata": {
  "kernelspec": {
   "display_name": "Python 3",
   "language": "python",
   "name": "python3"
  },
  "language_info": {
   "codemirror_mode": {
    "name": "ipython",
    "version": 3
   },
   "file_extension": ".py",
   "mimetype": "text/x-python",
   "name": "python",
   "nbconvert_exporter": "python",
   "pygments_lexer": "ipython3",
   "version": "3.7.2"
  }
 },
 "nbformat": 4,
 "nbformat_minor": 2
}
