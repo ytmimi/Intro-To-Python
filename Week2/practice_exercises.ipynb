{
 "cells": [
  {
   "cell_type": "markdown",
   "metadata": {},
   "source": [
    "## The following questions cover week 1 material"
   ]
  },
  {
   "cell_type": "markdown",
   "metadata": {},
   "source": [
    "**1) What are the 4 basic data types in Python?**"
   ]
  },
  {
   "cell_type": "markdown",
   "metadata": {},
   "source": [
    "*write your response*"
   ]
  },
  {
   "cell_type": "markdown",
   "metadata": {},
   "source": [
    "**2 A) What does the % operator do?**"
   ]
  },
  {
   "cell_type": "markdown",
   "metadata": {},
   "source": [
    "*write your response*"
   ]
  },
  {
   "cell_type": "markdown",
   "metadata": {},
   "source": [
    "**2 B) Use the % operator in an expression that returns 7**"
   ]
  },
  {
   "cell_type": "code",
   "execution_count": 5,
   "metadata": {},
   "outputs": [],
   "source": [
    "# return 7 using %"
   ]
  },
  {
   "cell_type": "markdown",
   "metadata": {},
   "source": [
    "**3 A) Assign the string `\"Actions speak louder than words.\"` to a variable**"
   ]
  },
  {
   "cell_type": "code",
   "execution_count": 2,
   "metadata": {},
   "outputs": [],
   "source": [
    "# assign to a variable"
   ]
  },
  {
   "cell_type": "markdown",
   "metadata": {},
   "source": [
    "**3 B) Use indexing to return the first character of the first word**"
   ]
  },
  {
   "cell_type": "code",
   "execution_count": 3,
   "metadata": {},
   "outputs": [],
   "source": [
    "#string indexing"
   ]
  },
  {
   "cell_type": "markdown",
   "metadata": {},
   "source": [
    "**3 C) Use negative string indexing to return the first character of the last word**"
   ]
  },
  {
   "cell_type": "code",
   "execution_count": 4,
   "metadata": {},
   "outputs": [],
   "source": [
    "#string indexing"
   ]
  },
  {
   "cell_type": "markdown",
   "metadata": {},
   "source": [
    "**3 D) Use string slicing to return the word `\"louder\"`, and use a built in string method to convert `\"louder\"` into `\"LOUDER\"`. Preferably perform both operations on one line**"
   ]
  },
  {
   "cell_type": "code",
   "execution_count": 7,
   "metadata": {},
   "outputs": [],
   "source": [
    "# return \"LOUDER\""
   ]
  },
  {
   "cell_type": "markdown",
   "metadata": {},
   "source": [
    "**3 E) Using all the characters in the string above and string indexing, figure out how to create the word `\"done\"`. finaly print it out to the screen**\n",
    "\n",
    "**BONUS: Use string concatenation, .format method, and f strings. print each solution out from the same cell**"
   ]
  },
  {
   "cell_type": "code",
   "execution_count": null,
   "metadata": {},
   "outputs": [],
   "source": [
    "# get word \"done\""
   ]
  },
  {
   "cell_type": "markdown",
   "metadata": {},
   "source": [
    "**4 A) What are the two Python keywords used for boolean objects?**"
   ]
  },
  {
   "cell_type": "markdown",
   "metadata": {},
   "source": [
    "*write your response*"
   ]
  },
  {
   "cell_type": "markdown",
   "metadata": {},
   "source": [
    "**4 B) What are the three Python keywords used to evaluate boolean expressions, and what are there differences. Please indicate whether any of them are optional when using them together. HINT: one of them is `\"if\"`.**"
   ]
  },
  {
   "cell_type": "markdown",
   "metadata": {},
   "source": [
    "*write your response*"
   ]
  },
  {
   "cell_type": "markdown",
   "metadata": {},
   "source": [
    "**5 A) Use the if statement. Write any condition that evaluates to True. In the body of the if block print any text you'd like**"
   ]
  },
  {
   "cell_type": "code",
   "execution_count": 10,
   "metadata": {},
   "outputs": [],
   "source": [
    "# use the if statement"
   ]
  },
  {
   "cell_type": "markdown",
   "metadata": {},
   "source": [
    "**5 B) Use if and else. Check two conditions in the if statement using Python's `\"and\"` keyword. In the body of both the if and the else block print out any text you'd like. Make sure only the print statemnt in the else block is printed**"
   ]
  },
  {
   "cell_type": "code",
   "execution_count": null,
   "metadata": {},
   "outputs": [],
   "source": [
    "# use if and else "
   ]
  },
  {
   "cell_type": "markdown",
   "metadata": {},
   "source": [
    "**5 C) Use the if, 2 elif's and an else statement.** \n",
    "* Use the `\"or\"` keyword in the if\n",
    "* Use the `\"and\"` keyword in the first elif\n",
    "* Use the `\"not\"` keyword in the second elif\n",
    "**write any code you want in the body of each conditional block. Make sure that the code in the second elif is evaluated**"
   ]
  },
  {
   "cell_type": "markdown",
   "metadata": {},
   "source": [
    "## The following questions cover week 2 material"
   ]
  },
  {
   "cell_type": "markdown",
   "metadata": {},
   "source": [
    "**6 A) How do you create a list in Python? Are there any restrictions on the objects that can be contained within a list?**"
   ]
  },
  {
   "cell_type": "markdown",
   "metadata": {},
   "source": [
    "*write your response*"
   ]
  },
  {
   "cell_type": "markdown",
   "metadata": {},
   "source": [
    "**6 B) Create a list containing the numbers 0-9, and store it in some variable, then print out the length of the list**"
   ]
  },
  {
   "cell_type": "code",
   "execution_count": 11,
   "metadata": {},
   "outputs": [],
   "source": [
    "# create the list"
   ]
  },
  {
   "cell_type": "markdown",
   "metadata": {},
   "source": [
    "**6 C) Are lists an ordered or unordered data structure? When indexing into a list where does indexing start?**"
   ]
  },
  {
   "cell_type": "markdown",
   "metadata": {},
   "source": [
    "*write your response*"
   ]
  },
  {
   "cell_type": "markdown",
   "metadata": {},
   "source": [
    "**6 D) Use the list from part B. Use slicing notation to return the numbers 0, 2, 4, 6, 8**"
   ]
  },
  {
   "cell_type": "code",
   "execution_count": 12,
   "metadata": {},
   "outputs": [],
   "source": [
    "# return [0, 2, 4, 6, 8]"
   ]
  },
  {
   "cell_type": "markdown",
   "metadata": {},
   "source": [
    "**7) Given the two following to do lists answer the following questions**\n",
    "\n",
    "**IF you make a mistake at on any point in this problem just rerun all the cells starting from here**"
   ]
  },
  {
   "cell_type": "code",
   "execution_count": null,
   "metadata": {},
   "outputs": [],
   "source": [
    "#given to do lists\n",
    "todays_list = []\n",
    "tomorrows_list = []"
   ]
  },
  {
   "cell_type": "markdown",
   "metadata": {},
   "source": [
    "**7 A) Add the following strings to todays_list one at a time: `\"Work\"`, `\"Python\"`, `\"Sleep\"`, `\"Repeat\"`** \n",
    "\n",
    "**HINT: [append](https://www.programiz.com/python-programming/methods/list/append) would probably be a good idea**"
   ]
  },
  {
   "cell_type": "code",
   "execution_count": 13,
   "metadata": {},
   "outputs": [],
   "source": [
    "# add items to the list"
   ]
  },
  {
   "cell_type": "markdown",
   "metadata": {},
   "source": [
    "**7 B) Return the index of \"Sleep\" in the list**"
   ]
  },
  {
   "cell_type": "code",
   "execution_count": 14,
   "metadata": {},
   "outputs": [],
   "source": [
    "# find the index"
   ]
  },
  {
   "cell_type": "markdown",
   "metadata": {},
   "source": [
    "**7 C)You decide you can do without \"Sleep\", and would rather replace it with \"More Python\". Reassign the index of \"Sleep\" in the list to \"More Python\".**\n",
    "\n",
    "**Note: I don't think I covered this in the notes but you can easily reassign values of an array with the following syntax**\n",
    "\n",
    "    some_list[index] = value"
   ]
  },
  {
   "cell_type": "code",
   "execution_count": 15,
   "metadata": {},
   "outputs": [],
   "source": [
    "# reassign \"Sleep\""
   ]
  },
  {
   "cell_type": "markdown",
   "metadata": {},
   "source": [
    "**7 D) You decide getting rid of `\"Sleep\"` was a bad idea and want to add it back where it was before. Use the [remove](https://www.programiz.com/python-programming/methods/list/remove) and [insert](https://www.programiz.com/python-programming/methods/list/insert) methods to add `\"Sleep\"` back to the list**"
   ]
  },
  {
   "cell_type": "code",
   "execution_count": 1,
   "metadata": {},
   "outputs": [],
   "source": [
    "# add \"Sleep\" again"
   ]
  },
  {
   "cell_type": "markdown",
   "metadata": {},
   "source": [
    "**7 E) As you start finishing tasks you move them from today's list to tomorrow's list. Use [pop](https://www.programiz.com/python-programming/methods/list/pop) and append. When you're done today's list should be empty, and tomorrow's list should look like the following:**\n",
    "    \n",
    "    [\"Work\", \"Python\", \"Sleep\", \"Repeat\"]\n",
    "\n",
    "**BONUS: Solve it by hand (one item at a time), and then solve it using a while loop**"
   ]
  },
  {
   "cell_type": "code",
   "execution_count": 2,
   "metadata": {},
   "outputs": [],
   "source": [
    "# add item's to tomorrow's list"
   ]
  },
  {
   "cell_type": "markdown",
   "metadata": {},
   "source": [
    "**8) Given the following matrix, answer the next few questions**"
   ]
  },
  {
   "cell_type": "code",
   "execution_count": null,
   "metadata": {},
   "outputs": [],
   "source": [
    "matrix = [\n",
    "    [10, 3, 13, 8],\n",
    "    [5, 16, 2, 11],\n",
    "    [4, 9, 7, 14],\n",
    "    [15, 6, 12, 1],\n",
    "]"
   ]
  },
  {
   "cell_type": "markdown",
   "metadata": {},
   "source": [
    "**8 A) Use list indexing to return the 3rd row of the matrix**"
   ]
  },
  {
   "cell_type": "code",
   "execution_count": null,
   "metadata": {},
   "outputs": [],
   "source": [
    "# return [4, 9, 7, 14]"
   ]
  },
  {
   "cell_type": "markdown",
   "metadata": {},
   "source": [
    "**8 B) Use double indexing to return the number 14 from the matrix**"
   ]
  },
  {
   "cell_type": "code",
   "execution_count": 3,
   "metadata": {},
   "outputs": [],
   "source": [
    "# return 14"
   ]
  },
  {
   "cell_type": "markdown",
   "metadata": {},
   "source": [
    "**8 C) Calculate the sum of each row in the matrix and print it to the screen**\n",
    "\n",
    "**HINT: this will be easier using python's built in sum function and a for loop**"
   ]
  },
  {
   "cell_type": "code",
   "execution_count": 4,
   "metadata": {},
   "outputs": [],
   "source": [
    "# print the sum of each row"
   ]
  },
  {
   "cell_type": "markdown",
   "metadata": {},
   "source": [
    "**8 D) Calculate the sum of each column in the matrix and print out the result**"
   ]
  },
  {
   "cell_type": "code",
   "execution_count": 7,
   "metadata": {},
   "outputs": [],
   "source": [
    "# print the sum of the columns"
   ]
  },
  {
   "cell_type": "markdown",
   "metadata": {},
   "source": [
    "**8 E) Calculate the sum of each diagonal and print out the result**"
   ]
  },
  {
   "cell_type": "code",
   "execution_count": 6,
   "metadata": {},
   "outputs": [],
   "source": [
    "# print the sum of each diagonal"
   ]
  },
  {
   "cell_type": "markdown",
   "metadata": {},
   "source": [
    "**8 F) Is the matrix a [magic square](https://en.wikipedia.org/wiki/Magic_square)?**"
   ]
  },
  {
   "cell_type": "code",
   "execution_count": null,
   "metadata": {},
   "outputs": [],
   "source": []
  },
  {
   "cell_type": "markdown",
   "metadata": {},
   "source": [
    "**9 A) How do you create a dictionary in Python?**"
   ]
  },
  {
   "cell_type": "markdown",
   "metadata": {},
   "source": [
    "*write your response*"
   ]
  },
  {
   "cell_type": "markdown",
   "metadata": {},
   "source": [
    "**9 B) Create a dictionary mapping 7 of the following [menu](http://www.houstonhallny.com/menu/) items to their prices store the dictionary in a variable called menu**"
   ]
  },
  {
   "cell_type": "code",
   "execution_count": 9,
   "metadata": {},
   "outputs": [],
   "source": [
    "# create the menu"
   ]
  },
  {
   "cell_type": "markdown",
   "metadata": {},
   "source": [
    "**9 C) You decide to order one of everything on the menu, and because you're a nice person you tip 20%. What do you end up paying?**"
   ]
  },
  {
   "cell_type": "code",
   "execution_count": 10,
   "metadata": {},
   "outputs": [],
   "source": [
    "# calculate the total amount spent"
   ]
  },
  {
   "cell_type": "markdown",
   "metadata": {},
   "source": [
    "**10) Use the same menu link and items you used from the previous question. You decide that you now want to also capture the category and descriptions for each item. Create a dictionary in the following form:**\n",
    "\n",
    "    new_menu = {\n",
    "        'item1':{\n",
    "            'category':'appetizers',\n",
    "            'price':13.75,\n",
    "            'description':'Crispy...'\n",
    "        },\n",
    "        'item2:{\n",
    "            'category':'to share',\n",
    "            'price':21.40,\n",
    "            'description':'Lemon Garlic ...'\n",
    "        },...\n",
    "    }"
   ]
  },
  {
   "cell_type": "code",
   "execution_count": 15,
   "metadata": {},
   "outputs": [],
   "source": [
    "# create the new menu"
   ]
  },
  {
   "cell_type": "markdown",
   "metadata": {},
   "source": [
    "**10 A) write code to determine the unique number of categorys you selected**"
   ]
  },
  {
   "cell_type": "code",
   "execution_count": 16,
   "metadata": {},
   "outputs": [],
   "source": [
    "# determin the unique categories"
   ]
  },
  {
   "cell_type": "markdown",
   "metadata": {},
   "source": [
    "**10 B) write code to figure out which item has the longest description. Print out the length of the longest description as well as the description itself.**"
   ]
  },
  {
   "cell_type": "code",
   "execution_count": 17,
   "metadata": {},
   "outputs": [],
   "source": [
    "# find the longest description"
   ]
  },
  {
   "cell_type": "markdown",
   "metadata": {},
   "source": [
    "**11) Given the following list of data describing fortune cookies answer the following questions**"
   ]
  },
  {
   "cell_type": "code",
   "execution_count": 18,
   "metadata": {},
   "outputs": [],
   "source": [
    "fortune_cookies = [\n",
    "    {\n",
    "        \"quote\":\"The fortune you seek is in another cookie.\",\n",
    "        \"lucky numbers\":[17, 15, 32, 6, 14, 9]\n",
    "    },\n",
    "    {\n",
    "        \"quote\":\"A foolish man listens to his heart. A wise man listens to cookies.\",\n",
    "        \"lucky numbers\":[66, 1, 20, 23, 5, 11]\n",
    "    },\n",
    "    {\n",
    "        \"quote\":\"It is a good day to have a good day.\",\n",
    "        \"lucky numbers\":[1, 2, 3, 5, 7]\n",
    "    },\n",
    "    {\n",
    "        \"quote\":\"This cookie contains 117 calories.\",\n",
    "        \"lucky numbers\":[46, 82, 13, 3, 15, 16]\n",
    "    },\n",
    "    {\n",
    "        \"quote\":\"Hard work pays off in the future. Laziness pays off now.\",\n",
    "        \"lucky numbers\":[22, 4, 5, 5, 74, 10]\n",
    "    },\n",
    "]"
   ]
  },
  {
   "cell_type": "markdown",
   "metadata": {},
   "source": [
    "**11 A) print the value of `\"This cookie contains 117 calories\"` from the fortune cookies list**"
   ]
  },
  {
   "cell_type": "code",
   "execution_count": null,
   "metadata": {},
   "outputs": [],
   "source": []
  },
  {
   "cell_type": "markdown",
   "metadata": {},
   "source": [
    "**11 B) print the fortune where the sum of the lucky numbers is the largest** "
   ]
  },
  {
   "cell_type": "code",
   "execution_count": null,
   "metadata": {},
   "outputs": [],
   "source": []
  },
  {
   "cell_type": "markdown",
   "metadata": {},
   "source": [
    "**11 C) print each fortune where the last lucky number is even**"
   ]
  },
  {
   "cell_type": "code",
   "execution_count": null,
   "metadata": {},
   "outputs": [],
   "source": []
  },
  {
   "cell_type": "markdown",
   "metadata": {},
   "source": [
    "**12 A) How do you create a set in Python? is a set an ordered or an unordered data structure?**"
   ]
  },
  {
   "cell_type": "code",
   "execution_count": null,
   "metadata": {},
   "outputs": [],
   "source": []
  },
  {
   "cell_type": "markdown",
   "metadata": {},
   "source": [
    "**12 B) Look up the set [intersection](https://www.w3schools.com/python/ref_set_intersection.asp) method and use it in an example below**"
   ]
  },
  {
   "cell_type": "code",
   "execution_count": null,
   "metadata": {},
   "outputs": [],
   "source": []
  },
  {
   "cell_type": "markdown",
   "metadata": {},
   "source": [
    "**13) How do you create a Tuple in Python?Is a Tuple an ordered or an unordered data structure?Cany you change a Tuple once it's been created?**\n",
    "\n",
    "**BONUS: In what ways are strings similar to Tuples?**"
   ]
  },
  {
   "cell_type": "markdown",
   "metadata": {},
   "source": [
    "*write your response*"
   ]
  },
  {
   "cell_type": "markdown",
   "metadata": {},
   "source": [
    "**14) A useful built in function to use when looping in Python is [enumerate](https://docs.python.org/3/library/functions.html#enumerate). Once you've checked out the documentation use it in a for loop**"
   ]
  },
  {
   "cell_type": "code",
   "execution_count": 19,
   "metadata": {},
   "outputs": [],
   "source": [
    "# use enumerate"
   ]
  },
  {
   "cell_type": "markdown",
   "metadata": {},
   "source": [
    "**15) Given a string containing each letter of the alphabet, and a list of words how many times does each letter appear in the list of words? Ultimately produce a dictionary letters in the alphabet map to their count**\n",
    "\n",
    "**HINT: It might be useful to use a nested four loop**"
   ]
  },
  {
   "cell_type": "code",
   "execution_count": null,
   "metadata": {},
   "outputs": [],
   "source": [
    "alphabet = 'abcdefghijklmnopqrstuvwxyz'\n",
    "words = []"
   ]
  },
  {
   "cell_type": "code",
   "execution_count": 11,
   "metadata": {},
   "outputs": [],
   "source": [
    "# find the count of each letter"
   ]
  },
  {
   "cell_type": "markdown",
   "metadata": {},
   "source": [
    "**16 A) Inspect the following code: Is this an infinite loop? Why or why not?**\n",
    "    \n",
    "    count = 7\n",
    "    while count > 8:\n",
    "        print count"
   ]
  },
  {
   "cell_type": "markdown",
   "metadata": {},
   "source": [
    "*write your response*"
   ]
  },
  {
   "cell_type": "markdown",
   "metadata": {},
   "source": [
    "**16 B) Inspect the following code: Is this an infinite loop? Why or why not?**\n",
    "\n",
    "    weekdays = ['Mon', 'Tues', 'Wed', 'Thur', 'Fri', 'Sat', 'Sun']\n",
    "    index = 0\n",
    "    while weekdays[0] != 'Sat':\n",
    "        if weekdays == 'Mon':\n",
    "            index += 2:\n",
    "        elif weedays == 'Fri':\n",
    "            index -= 1:\n",
    "        elif weekday == 'Wed':\n",
    "            index += 3"
   ]
  },
  {
   "cell_type": "markdown",
   "metadata": {},
   "source": [
    "*write your response*"
   ]
  },
  {
   "cell_type": "markdown",
   "metadata": {},
   "source": [
    "**16 C) Inspect the following code: is this an infinite loop? Why or why not?**\n",
    "\n",
    "    while True:\n",
    "        user_input = input('continue? ')\n",
    "        if user_input == 'yes':\n",
    "            break\n",
    "        print('around we go...')\n",
    "\n",
    "**HINT: check out python's built in [input](https://docs.python.org/3/library/functions.html#input) function**"
   ]
  },
  {
   "cell_type": "markdown",
   "metadata": {},
   "source": [
    "*write your response here*"
   ]
  }
 ],
 "metadata": {
  "kernelspec": {
   "display_name": "Python 3",
   "language": "python",
   "name": "python3"
  },
  "language_info": {
   "codemirror_mode": {
    "name": "ipython",
    "version": 3
   },
   "file_extension": ".py",
   "mimetype": "text/x-python",
   "name": "python",
   "nbconvert_exporter": "python",
   "pygments_lexer": "ipython3",
   "version": "3.6.8"
  }
 },
 "nbformat": 4,
 "nbformat_minor": 2
}
