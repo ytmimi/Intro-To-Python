{
 "cells": [
  {
   "cell_type": "markdown",
   "metadata": {},
   "source": [
    "# Recap Last Week\n",
    "\n",
    "We covered:\n",
    "* A Primer on HTTP\n",
    "* The requests module in Python\n",
    "* Getting data from the web\n",
    "* Basics of web scraping with Beautiful Soup"
   ]
  },
  {
   "cell_type": "markdown",
   "metadata": {},
   "source": [
    "# This Week\n",
    "\n",
    "Interacting with the web (continued):\n",
    "\n",
    "* What is an API\n",
    "* Interacting with web based API's using Requests\n",
    "* Basics of Authentication\n",
    "* "
   ]
  },
  {
   "cell_type": "markdown",
   "metadata": {},
   "source": [
    "## What is an API?\n",
    "\n",
    "An **Application Programming Interface (API)** \n",
    "\n",
    "There are all kinds of API's, but generally when people refer to an api they're referring to a web based API.\n",
    "\n",
    "Really everything is an API. It's this top level thing that allows you to interact with some system. The code we write and the code we import is an API. Last week when we were using the requests and BeautifulSoup packages, we were literally using an application programming interface. We didn't need to know anything about the internals of those packages, all we needed to know that when we called ``requests.get`` with some url, that we would receive some data. Similarly, we didn't need to know how the ``find_all`` method was defined on the BeautifulSoup object we instantiated, all we cared about was that we could easily find the HTML elements that we cared about. Both of those packages, and all API's for that matter, expose some top level way to interact with them, and you as the developer don't need to worry about what's going on under the hood."
   ]
  },
  {
   "cell_type": "markdown",
   "metadata": {},
   "source": [
    "* Open Weather Map\n",
    "* IEX API\n",
    "* [list of google API's](https://console.developers.google.com/apis/library)"
   ]
  },
  {
   "cell_type": "markdown",
   "metadata": {},
   "source": [
    "## Open Vs Closed API's\n",
    "\n",
    "some API's are completely open, which means you can start using them right away without any hassel. Simply make a request to the ``endpoint`` that the API has exposed, and you can immedeatly start receiving data (or utilising the service). Other API's are still publicily available, they just make you go through the extra step of obtaining an ``API Key``, which is unique to your account and is often used to authenticate you with the server, and also rate limit the number of requests you can make. Each API is different, but you'll generally need to pass your API key along with each request that you send, either in the headers of your HTTP reqeust, or as a query parameter to the request.\n",
    "\n",
    "An Example of an open API would be the **Star Wars API (SWAPI)**. Anyone can start making requests to this API to get all your star wars related data!"
   ]
  },
  {
   "cell_type": "markdown",
   "metadata": {},
   "source": [
    "### Return Data"
   ]
  },
  {
   "cell_type": "code",
   "execution_count": null,
   "metadata": {},
   "outputs": [],
   "source": []
  },
  {
   "cell_type": "code",
   "execution_count": null,
   "metadata": {},
   "outputs": [],
   "source": []
  },
  {
   "cell_type": "markdown",
   "metadata": {},
   "source": [
    "## Additional Resources\n",
    "\n",
    "* [What is an API](https://www.howtogeek.com/343877/what-is-an-api/)\n",
    "* [list of 150 API's](https://medium.com/@benjamin_libor/a-curated-collection-of-over-150-apis-to-build-great-products-fdcfa0f361bc) - The article was written in 2016, so not ever API is still available"
   ]
  },
  {
   "cell_type": "code",
   "execution_count": null,
   "metadata": {},
   "outputs": [],
   "source": []
  }
 ],
 "metadata": {
  "kernelspec": {
   "display_name": "Python 3",
   "language": "python",
   "name": "python3"
  },
  "language_info": {
   "codemirror_mode": {
    "name": "ipython",
    "version": 3
   },
   "file_extension": ".py",
   "mimetype": "text/x-python",
   "name": "python",
   "nbconvert_exporter": "python",
   "pygments_lexer": "ipython3",
   "version": "3.6.8"
  }
 },
 "nbformat": 4,
 "nbformat_minor": 2
}
