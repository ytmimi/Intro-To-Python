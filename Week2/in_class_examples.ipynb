{
 "cells": [
  {
   "cell_type": "markdown",
   "metadata": {},
   "source": [
    "# Recap Last Week\n",
    "\n",
    "**we covered:**\n",
    "* comments\n",
    "* variables\n",
    "* basic data types\n",
    "* mathematical operators\n",
    "* string formatting\n",
    "* and conditional logic"
   ]
  },
  {
   "cell_type": "code",
   "execution_count": null,
   "metadata": {},
   "outputs": [],
   "source": [
    "# print('hello')"
   ]
  },
  {
   "cell_type": "code",
   "execution_count": null,
   "metadata": {},
   "outputs": [],
   "source": [
    "hy = 8\n",
    "print(hy)"
   ]
  },
  {
   "cell_type": "code",
   "execution_count": null,
   "metadata": {},
   "outputs": [],
   "source": [
    "my_string = 'this is a string'\n",
    "type(my_string)"
   ]
  },
  {
   "cell_type": "code",
   "execution_count": null,
   "metadata": {},
   "outputs": [],
   "source": [
    "my_int = 8\n",
    "type(my_int)"
   ]
  },
  {
   "cell_type": "code",
   "execution_count": null,
   "metadata": {},
   "outputs": [],
   "source": [
    "my_float = 8.8\n",
    "type(my_float)"
   ]
  },
  {
   "cell_type": "code",
   "execution_count": null,
   "metadata": {},
   "outputs": [],
   "source": [
    "# if elif else"
   ]
  },
  {
   "cell_type": "code",
   "execution_count": null,
   "metadata": {},
   "outputs": [],
   "source": [
    "if 5 > 4:\n",
    "    print('nice')"
   ]
  },
  {
   "cell_type": "code",
   "execution_count": null,
   "metadata": {},
   "outputs": [],
   "source": [
    "if 5 < 4:\n",
    "    print('hey')\n",
    "else:\n",
    "    pass"
   ]
  },
  {
   "cell_type": "code",
   "execution_count": null,
   "metadata": {},
   "outputs": [],
   "source": [
    "if len('6') > 2:\n",
    "    print('2')\n",
    "elif 2 == 5:\n",
    "    print('next')\n",
    "elif 3 == 3:\n",
    "    print('winner')\n",
    "else:\n",
    "   pass "
   ]
  },
  {
   "cell_type": "markdown",
   "metadata": {},
   "source": [
    "## What we missed (my bad)\n",
    "There are three other keywords Python allows you to use when determining the truth value of an expression\n",
    "\n",
    "* and\n",
    "    * True if both expression being checked evaluate to True, otherwise it's False\n",
    "* or \n",
    "    * True if either expression being checked is True. Flase when both expression are False\n",
    "* not\n",
    "    * Negate the truth value of an expression"
   ]
  },
  {
   "cell_type": "code",
   "execution_count": null,
   "metadata": {},
   "outputs": [],
   "source": [
    "# using and\n",
    "print(f'True and True results in {True and True}')\n",
    "print(f'True and False results in {True and False}')\n",
    "print(f'False and True results in {False and True}')\n",
    "print(f'False and False results in {False and False}')"
   ]
  },
  {
   "cell_type": "code",
   "execution_count": null,
   "metadata": {},
   "outputs": [],
   "source": [
    "# uisng or\n",
    "print(f'True or True results in {True or True}')\n",
    "print(f'True or False results in {True or False}')\n",
    "print(f'False or True results in {False or True}')\n",
    "print(f'False or False results in {False or False}')"
   ]
  },
  {
   "cell_type": "code",
   "execution_count": null,
   "metadata": {},
   "outputs": [],
   "source": [
    "# using not\n",
    "false_expression = 53 < 2\n",
    "print(f'Using \"not\" turns a {false_expression} expression into a {not false_expression} expression')\n",
    "\n",
    "ture_expression = len('123') == 3\n",
    "print(f'Using \"not\" turns a {ture_expression} expression into a {not ture_expression} expression')"
   ]
  },
  {
   "cell_type": "markdown",
   "metadata": {},
   "source": [
    "**You can combine these logical keywords as much as you want**\n",
    "\n",
    "**Note: You can also add () to indicate to python how you want expression to be grouped**"
   ]
  },
  {
   "cell_type": "code",
   "execution_count": null,
   "metadata": {},
   "outputs": [],
   "source": [
    "today = 'Monday'\n",
    "tomorrow = 'Wednesday'\n",
    "weather = 'Sunny'\n",
    "\n",
    "if (today == 'Monday' or tomorrow == 'Sunday') and weather == 'Sunny':\n",
    "    print('Going for a walk in the park')\n",
    "elif not tomrrow == 'Tuesday' or weather == 'cloudy':\n",
    "    print('watching movies')\n",
    "else:\n",
    "    print('Gotta cook dinner')"
   ]
  },
  {
   "cell_type": "markdown",
   "metadata": {},
   "source": [
    "# Data Structures\n",
    "\n",
    "There are 4 main data types in Python\n",
    "* List\n",
    "* Dictionary\n",
    "* Set\n",
    "* Tuple"
   ]
  },
  {
   "cell_type": "markdown",
   "metadata": {},
   "source": [
    "## Lists\n",
    "Lists are one of the most commonly used data structures in Python. Lists can contain any Python object, and the elements within the list are comma seperated. One thing to note about lists is that they are ordered, and elements within a list can be referenced by there position (index) within the list. There are many ways to create a list, but the most common is using [] syntax."
   ]
  },
  {
   "cell_type": "markdown",
   "metadata": {},
   "source": [
    "### Creating a list"
   ]
  },
  {
   "cell_type": "code",
   "execution_count": null,
   "metadata": {},
   "outputs": [],
   "source": [
    "# using []\n",
    "week_days = ['mon', 'tue', 'wed', 'thur', 'fri', 'sat', 'sun']\n",
    "print(week_days)"
   ]
  },
  {
   "cell_type": "code",
   "execution_count": null,
   "metadata": {},
   "outputs": [],
   "source": [
    "# Lists can also contain elements with different data types\n",
    "mixed = [1, 3.5, True, 'end']\n",
    "print(mixed)"
   ]
  },
  {
   "cell_type": "code",
   "execution_count": null,
   "metadata": {},
   "outputs": [],
   "source": [
    "# other data structures can also be contained inside of a list. A list within a list...listseption\n",
    "matrix = [\n",
    "    [1, 2, 3], [4, 5, 6], [7, 8, 9]\n",
    "]\n",
    "print(matrix)"
   ]
  },
  {
   "cell_type": "markdown",
   "metadata": {},
   "source": [
    "### List Indexing\n",
    "\n",
    "As previously mentioned, lists are an ordered data structure and the items within the list can be referenced by their index within the list. It's important to remember that indexing starts at zero."
   ]
  },
  {
   "cell_type": "code",
   "execution_count": null,
   "metadata": {},
   "outputs": [],
   "source": [
    "subjects = ['English', 'Computer Science', 'Finance', 'Marketing', 'Biology', 'Music', 'Art']\n",
    "print(subjects)"
   ]
  },
  {
   "cell_type": "code",
   "execution_count": null,
   "metadata": {},
   "outputs": [],
   "source": [
    "# accessing the first index in the list\n",
    "print(subjects[-1])"
   ]
  },
  {
   "cell_type": "markdown",
   "metadata": {},
   "source": [
    "### List Slicing"
   ]
  },
  {
   "cell_type": "markdown",
   "metadata": {},
   "source": [
    "Lists also support slicing notation to access subsets of the list"
   ]
  },
  {
   "cell_type": "code",
   "execution_count": null,
   "metadata": {},
   "outputs": [],
   "source": [
    "print(subjects[4::])"
   ]
  },
  {
   "cell_type": "markdown",
   "metadata": {},
   "source": [
    "Slicing also works with nested lists. To demonstate this we'll use the matrix we defined above"
   ]
  },
  {
   "cell_type": "code",
   "execution_count": null,
   "metadata": {},
   "outputs": [],
   "source": [
    "# Note that the first entry in matrix is a list [1, 2, 3]\n",
    "print(matrix[0])"
   ]
  },
  {
   "cell_type": "markdown",
   "metadata": {},
   "source": [
    "you can slice as deep as the data strucure will allow"
   ]
  },
  {
   "cell_type": "code",
   "execution_count": null,
   "metadata": {},
   "outputs": [],
   "source": [
    "# so matrix[1] returns [4, 5, 6], and then we get the 2nd index from that list (6). remember that indexing starts at 0\n",
    "first_index = matrix[1]\n",
    "print(first_index)\n",
    "second_index = first_index[2]\n",
    "print(second_index)\n",
    "\n",
    "matrix[1][2]"
   ]
  },
  {
   "cell_type": "markdown",
   "metadata": {},
   "source": [
    "### Some List Methods"
   ]
  },
  {
   "cell_type": "markdown",
   "metadata": {},
   "source": [
    "You can add items to a list using the append method"
   ]
  },
  {
   "cell_type": "code",
   "execution_count": null,
   "metadata": {},
   "outputs": [],
   "source": [
    "week_days = ['Monday', 'Tuesday', 'Wednesday', 'Thursday', 'Friday', 'Saturday', 'Sunday']\n",
    "print(week_days)"
   ]
  },
  {
   "cell_type": "code",
   "execution_count": null,
   "metadata": {},
   "outputs": [],
   "source": [
    "week_days.append('day-8')\n",
    "print(week_days)"
   ]
  },
  {
   "cell_type": "markdown",
   "metadata": {},
   "source": [
    "You can remove and return an item from a list with the pop method"
   ]
  },
  {
   "cell_type": "code",
   "execution_count": null,
   "metadata": {},
   "outputs": [],
   "source": [
    "last = week_days.pop()\n",
    "print(last)"
   ]
  },
  {
   "cell_type": "code",
   "execution_count": null,
   "metadata": {},
   "outputs": [],
   "source": [
    "print(week_days)"
   ]
  },
  {
   "cell_type": "markdown",
   "metadata": {},
   "source": [
    "To find the index of an element in a list you can use index method"
   ]
  },
  {
   "cell_type": "code",
   "execution_count": null,
   "metadata": {},
   "outputs": [],
   "source": [
    "print(week_days.index('Tuesday'))"
   ]
  },
  {
   "cell_type": "markdown",
   "metadata": {},
   "source": [
    "You can remove and return a specific element by supplying the index as an argument to the pop method"
   ]
  },
  {
   "cell_type": "code",
   "execution_count": null,
   "metadata": {},
   "outputs": [],
   "source": [
    "tues = week_days.pop(week_days.index('Tuesday'))\n",
    "print(tues)"
   ]
  },
  {
   "cell_type": "code",
   "execution_count": null,
   "metadata": {},
   "outputs": [],
   "source": [
    "# as you can see 'tue' is no longer in the week_days list\n",
    "print(week_days)"
   ]
  },
  {
   "cell_type": "markdown",
   "metadata": {},
   "source": [
    "You can insert an item into a specific place using the insert method"
   ]
  },
  {
   "cell_type": "code",
   "execution_count": null,
   "metadata": {},
   "outputs": [],
   "source": [
    "week_days.insert(1, 'Tuesday')\n",
    "print(week_days)"
   ]
  },
  {
   "cell_type": "markdown",
   "metadata": {},
   "source": [
    "You can find the lenght of a list using the built in len function"
   ]
  },
  {
   "cell_type": "code",
   "execution_count": null,
   "metadata": {},
   "outputs": [],
   "source": [
    "num_days = len(week_days)\n",
    "print(num_days)"
   ]
  },
  {
   "cell_type": "markdown",
   "metadata": {},
   "source": [
    "## Dictionaries\n",
    "Another really common data structure in Python is a dictionary (dict). Dictionaries represent mappings of key value pairs, where the value can be any python object. Although in later versions of Python the order that keys are inserted into the dictionary is maintained, dictionaries are an inherintly unordered data structure. Dictionareis are constrcuted using curly brackets -- { } -- and take the form: {key1:value1, key2:value2, ...}. Each key value pair in the dictionary is comma (,) seperated"
   ]
  },
  {
   "cell_type": "markdown",
   "metadata": {},
   "source": [
    "### Creating a dictionary"
   ]
  },
  {
   "cell_type": "code",
   "execution_count": null,
   "metadata": {},
   "outputs": [],
   "source": [
    "birthday = {\n",
    "    'Yacin':'Feb 2',\n",
    "    'Andrew': 'Oct 29',\n",
    "    'Brian': 'Jun 7',\n",
    "    'Sarah': 'Aug 18',\n",
    "}"
   ]
  },
  {
   "cell_type": "markdown",
   "metadata": {},
   "source": [
    "### Accessing values from a dictionary"
   ]
  },
  {
   "cell_type": "markdown",
   "metadata": {},
   "source": [
    "Accessing elements in a dictionary can be done in two ways. The syntax for the first and most common way to access a value from a dictionary is as follows:\n",
    "        \n",
    "        dictionary[key]\n",
    "\n",
    "This may resemble slicing notation, accept you can't access items based on an index. Instead you use the key associated with an item in the dictionary to access it."
   ]
  },
  {
   "cell_type": "code",
   "execution_count": null,
   "metadata": {},
   "outputs": [],
   "source": [
    "birthday['Brian']"
   ]
  },
  {
   "cell_type": "markdown",
   "metadata": {},
   "source": [
    "Trying to access a value using a key that's not in the dictionary will raise a KeyError."
   ]
  },
  {
   "cell_type": "code",
   "execution_count": null,
   "metadata": {},
   "outputs": [],
   "source": [
    "birthday['Mike']"
   ]
  },
  {
   "cell_type": "markdown",
   "metadata": {},
   "source": [
    "The second way to access the values stored in a dictionary is using the `get` method. This has the advantage of allowing you to return a default value if none is found"
   ]
  },
  {
   "cell_type": "code",
   "execution_count": null,
   "metadata": {},
   "outputs": [],
   "source": [
    "birthday.get('Andrew')"
   ]
  },
  {
   "cell_type": "markdown",
   "metadata": {},
   "source": [
    "the get method takes a second optional argument that defaults to None, which specifies the default value to return if the key doesn't exist. Using the get method you can ensure that a KeyError wont be raised"
   ]
  },
  {
   "cell_type": "code",
   "execution_count": null,
   "metadata": {},
   "outputs": [],
   "source": [
    "birthday.get('Sam', 'Sep 4')"
   ]
  },
  {
   "cell_type": "markdown",
   "metadata": {},
   "source": [
    "Similar to lists, the values of a dictionary can be any Python object. Dictionaries can get as nested and complex as you'd like"
   ]
  },
  {
   "cell_type": "code",
   "execution_count": null,
   "metadata": {},
   "outputs": [],
   "source": [
    "people = {\n",
    "    'Josh':{\n",
    "        'birthday': 'Mar 13',\n",
    "        'height': 64,\n",
    "        'age':25,\n",
    "    },\n",
    "    \n",
    "    'Liz':{\n",
    "        'birthday': 'Mar 13',\n",
    "        'height': 70,\n",
    "        'age':36,\n",
    "    },\n",
    "    \n",
    "    'Dan':{\n",
    "        'birthday': 'Dec 25',\n",
    "        'height': 65,\n",
    "        'age':15,\n",
    "    }\n",
    "    \n",
    "}"
   ]
  },
  {
   "cell_type": "markdown",
   "metadata": {},
   "source": [
    "Again, the data structure can be nested. We access the value of a dictionary by referencing it's key"
   ]
  },
  {
   "cell_type": "code",
   "execution_count": null,
   "metadata": {},
   "outputs": [],
   "source": [
    "# As you might expect we get returned the nested dictionary for 'Liz'\n",
    "people['Liz']"
   ]
  },
  {
   "cell_type": "markdown",
   "metadata": {},
   "source": [
    "You can traverse the dictionary in one line by continuing to reference keys till you've reached the value you want to get at"
   ]
  },
  {
   "cell_type": "code",
   "execution_count": null,
   "metadata": {},
   "outputs": [],
   "source": [
    "# we can get at Liz's height by using the [] notation twice\n",
    "people['Liz']['height']"
   ]
  },
  {
   "cell_type": "code",
   "execution_count": null,
   "metadata": {},
   "outputs": [],
   "source": [
    "# you can also use the get method\n",
    "people.get('Dan').get('birthday')"
   ]
  },
  {
   "cell_type": "code",
   "execution_count": null,
   "metadata": {},
   "outputs": [],
   "source": [
    "# you can combine the [] and get method\n",
    "people['Josh'].get('age')"
   ]
  },
  {
   "cell_type": "markdown",
   "metadata": {},
   "source": [
    "### Adding values to a dictionary"
   ]
  },
  {
   "cell_type": "code",
   "execution_count": null,
   "metadata": {},
   "outputs": [],
   "source": [
    "# create a new dictionary with two keys summer and spring\n",
    "seasons = {\n",
    "    'summer':1,\n",
    "    'spring':2\n",
    "}"
   ]
  },
  {
   "cell_type": "markdown",
   "metadata": {},
   "source": [
    "You can add values to a dictoinary in several wasy. First you can use the \\[key\\] syntax along with an = to assign a value to the key. If the key doesn't exist a new key value pair will be created in the dictionary. If the value already exists in the dictionary, you'll override the old value with the new one"
   ]
  },
  {
   "cell_type": "code",
   "execution_count": null,
   "metadata": {},
   "outputs": [],
   "source": [
    "seasons['fall'] = 3\n",
    "print(seasons)"
   ]
  },
  {
   "cell_type": "markdown",
   "metadata": {},
   "source": [
    "You can also add values to a dictionay using the update method. where you supply a list of key word arguments to the function. The update method is more useful if you need to update many keys in a dictionary at once, otherwise you should use the [] syntax for assigning new values to a dictionary"
   ]
  },
  {
   "cell_type": "code",
   "execution_count": null,
   "metadata": {},
   "outputs": [],
   "source": [
    "seasons.update(winter=4, summer=5, spring=7)\n",
    "seasons"
   ]
  },
  {
   "cell_type": "markdown",
   "metadata": {},
   "source": [
    "### Removing values from a dictionary\n",
    "In order to remove a single element from a dictionary use Python's built in del keyword "
   ]
  },
  {
   "cell_type": "code",
   "execution_count": null,
   "metadata": {},
   "outputs": [],
   "source": [
    "# remove spring from the dictionary\n",
    "del seasons['spring']\n",
    "seasons"
   ]
  },
  {
   "cell_type": "code",
   "execution_count": null,
   "metadata": {},
   "outputs": [],
   "source": [
    "# tyring to remove a key that does not exist in the dictionary will result in a KeyError\n",
    "del seasons['spring']"
   ]
  },
  {
   "cell_type": "markdown",
   "metadata": {},
   "source": [
    "If you want to make a copy of a dictionary you can do so using the copy method, and if you want to remove all keys you can using the clear method"
   ]
  },
  {
   "cell_type": "code",
   "execution_count": null,
   "metadata": {},
   "outputs": [],
   "source": [
    "season_copy = seasons.copy()\n",
    "print(f'Copy -- {season_copy}')\n",
    "print(f'Original -- {seasons}')"
   ]
  },
  {
   "cell_type": "code",
   "execution_count": null,
   "metadata": {},
   "outputs": [],
   "source": [
    "season_copy.clear()\n",
    "print(f'Copy -- {season_copy}')\n",
    "print(f'Original -- {seasons}')"
   ]
  },
  {
   "cell_type": "markdown",
   "metadata": {},
   "source": [
    "### Other useful Dict methods\n",
    "* keys\n",
    "* values\n",
    "* items"
   ]
  },
  {
   "cell_type": "code",
   "execution_count": null,
   "metadata": {},
   "outputs": [],
   "source": [
    "# return just the keys from a dictionary\n",
    "seasons.keys()"
   ]
  },
  {
   "cell_type": "code",
   "execution_count": null,
   "metadata": {},
   "outputs": [],
   "source": [
    "# return just the values from a dictionary\n",
    "seasons.values()"
   ]
  },
  {
   "cell_type": "code",
   "execution_count": null,
   "metadata": {},
   "outputs": [],
   "source": [
    "# return a Tuple of keys and values\n",
    "seasons.items()"
   ]
  },
  {
   "cell_type": "code",
   "execution_count": null,
   "metadata": {},
   "outputs": [],
   "source": [
    "# return the number of keys in the dictionary\n",
    "len(people)"
   ]
  },
  {
   "cell_type": "markdown",
   "metadata": {},
   "source": [
    "## Sets\n",
    "\n",
    "A set is another basic data type in Python. Sets are a unique collection of items. Sets are an unordered data type. Sets don't use keys, and they don't support indexing so you won't be able to access individual items within a set. Similar to dictionaries, sets are also contructed using {}\n",
    "\n",
    "Although sets are a basic data type in Python I rarely use them, however they come in extreamly handy when you want to ensure that you're working with a unique group of items"
   ]
  },
  {
   "cell_type": "code",
   "execution_count": null,
   "metadata": {},
   "outputs": [],
   "source": [
    "fruit = {'apples', 'bananas', 'orange'}"
   ]
  },
  {
   "cell_type": "code",
   "execution_count": null,
   "metadata": {},
   "outputs": [],
   "source": [
    "# trying to access an element by its index raises an error\n",
    "fruit['apples']"
   ]
  },
  {
   "cell_type": "code",
   "execution_count": null,
   "metadata": {},
   "outputs": [],
   "source": [
    "fruit[0]"
   ]
  },
  {
   "cell_type": "code",
   "execution_count": null,
   "metadata": {},
   "outputs": [],
   "source": [
    "# you can use the logical in operator to check if an item is contained in a list\n",
    "'apples' in fruit"
   ]
  },
  {
   "cell_type": "markdown",
   "metadata": {},
   "source": [
    "Once a set is created you can't replace items in it. You can only ever add or remove items from the set"
   ]
  },
  {
   "cell_type": "markdown",
   "metadata": {},
   "source": [
    "### add items to a set using the add method"
   ]
  },
  {
   "cell_type": "code",
   "execution_count": null,
   "metadata": {},
   "outputs": [],
   "source": [
    "fruit.add('pear')\n",
    "fruit"
   ]
  },
  {
   "cell_type": "markdown",
   "metadata": {},
   "source": [
    "Because sets are unique trying to add the same item twice will have no effect"
   ]
  },
  {
   "cell_type": "code",
   "execution_count": null,
   "metadata": {},
   "outputs": [],
   "source": [
    "fruit.add('pear')\n",
    "fruit"
   ]
  },
  {
   "cell_type": "markdown",
   "metadata": {},
   "source": [
    "### remove items from a set using the remove method\n",
    "\n",
    "**Note: trying to remove an item that doesn't exist will raise an error**"
   ]
  },
  {
   "cell_type": "code",
   "execution_count": null,
   "metadata": {},
   "outputs": [],
   "source": [
    "fruit.remove('orange')\n",
    "fruit"
   ]
  },
  {
   "cell_type": "code",
   "execution_count": null,
   "metadata": {},
   "outputs": [],
   "source": [
    "fruit.remove('tomatoes')"
   ]
  },
  {
   "cell_type": "markdown",
   "metadata": {},
   "source": [
    "As I mentioned, sets are a data structure that you won't use that often. If you want to learn more about what you can do with sets check out this [link](https://www.w3schools.com/python/python_sets.asp)"
   ]
  },
  {
   "cell_type": "markdown",
   "metadata": {},
   "source": [
    "## Tuples\n",
    "\n",
    "Tuples are the fourth basic data structure in Python. They are similar to lists in that they are an ordered data structure that supports indexing, however once a tuple is created it can never be changed. Tuples are known as an immutable data structure. Actually you've already worked with immutable data structurs and you didn't even know it. Python's String object is an immutable data structure. Strings can never be altered directly, but they can be joined and sliced to create new strings. Tuples are constructed using ()"
   ]
  },
  {
   "cell_type": "code",
   "execution_count": null,
   "metadata": {},
   "outputs": [],
   "source": [
    "my_string = 'asdfasdf'\n",
    "my_string[2] = 'y'"
   ]
  },
  {
   "cell_type": "code",
   "execution_count": null,
   "metadata": {},
   "outputs": [],
   "source": [
    "# create a new tuple object\n",
    "zip_codes = (10001, 10002, 10003, 10004, 10005, 10006, 10007, 10008, 10009, 10010)"
   ]
  },
  {
   "cell_type": "code",
   "execution_count": null,
   "metadata": {},
   "outputs": [],
   "source": [
    "# tuples supoort indexing. Remember, indexing starts at zero\n",
    "zip_codes[1]"
   ]
  },
  {
   "cell_type": "code",
   "execution_count": null,
   "metadata": {},
   "outputs": [],
   "source": [
    "# tuples will throw an error if you try to reassign any of their objects"
   ]
  },
  {
   "cell_type": "code",
   "execution_count": null,
   "metadata": {},
   "outputs": [],
   "source": [
    "zip_codes[-1] = 10011"
   ]
  },
  {
   "cell_type": "markdown",
   "metadata": {},
   "source": [
    "### Tuple methods\n",
    "\n",
    "Tuples only have two methods \n",
    "* index\n",
    "* count"
   ]
  },
  {
   "cell_type": "code",
   "execution_count": null,
   "metadata": {},
   "outputs": [],
   "source": [
    "# index return the index of the given value\n",
    "zip_codes.index(10009)"
   ]
  },
  {
   "cell_type": "code",
   "execution_count": null,
   "metadata": {},
   "outputs": [],
   "source": [
    "# count returns the number of times the given object appears in the tuple\n",
    "zip_codes.count(10001)"
   ]
  },
  {
   "cell_type": "code",
   "execution_count": null,
   "metadata": {},
   "outputs": [],
   "source": [
    "nums = (1, 2, 1, 2, 1, 2, 1, 2, 1,)\n",
    "nums.count(1)"
   ]
  },
  {
   "cell_type": "code",
   "execution_count": null,
   "metadata": {},
   "outputs": [],
   "source": []
  },
  {
   "cell_type": "markdown",
   "metadata": {},
   "source": [
    "# Looping\n",
    "\n",
    "Looping is useful when you want to perform the same task multiple times"
   ]
  },
  {
   "cell_type": "markdown",
   "metadata": {},
   "source": [
    "## For Loops\n",
    "\n",
    "Use for loops when you know that you will only need to loop a finite number of time. So in cases where you have a collection of items\n",
    "For loop syntax is as follows:\n",
    "    \n",
    "    for item in colletion:\n",
    "        do something\n",
    "\n",
    "**In the above example, \"item\" is a variable that you can name anything you want. you'll have access to this variable within the loop, similarly collection can be any collection of python objects**\n",
    "\n",
    "**Note that the indentation matters. The code written in the indented block of the for loop will be evaluated on each iteration of the loop** "
   ]
  },
  {
   "cell_type": "code",
   "execution_count": null,
   "metadata": {},
   "outputs": [],
   "source": [
    "# looping over a list of numbers\n",
    "for num in [1, 2, 3, 4, 5, 6]:\n",
    "    print(num)"
   ]
  },
  {
   "cell_type": "code",
   "execution_count": null,
   "metadata": {},
   "outputs": [],
   "source": [
    "# looping over a dictionary will loop over the keys\n",
    "my_dict = {1:'one', 2:'two', 3:'three', 4:'four', 5:'five', 6:'six'}\n",
    "\n",
    "for key in my_dict:\n",
    "    print(my_dict[key])"
   ]
  },
  {
   "cell_type": "markdown",
   "metadata": {},
   "source": [
    "You can write whatever code you want in the body of the loop. You can change which code gets evaluated using conditional logic inside the loop"
   ]
  },
  {
   "cell_type": "code",
   "execution_count": null,
   "metadata": {},
   "outputs": [],
   "source": [
    "for num in [1, 2, 3, 4, 5, 6]:\n",
    "    if num == 1:\n",
    "        print('If block gets executed')\n",
    "    elif 2 <= num <= 4:\n",
    "        print('elif block gets executed')\n",
    "    else:\n",
    "        print('else block gets executed')"
   ]
  },
  {
   "cell_type": "code",
   "execution_count": null,
   "metadata": {},
   "outputs": [],
   "source": [
    "for day in ['Monday', 'Tuesday', 'Wednesday', 'Thursday', 'Friday', 'Saturday', 'Sunday']:\n",
    "    if day in ['Friday', 'Saturday']:\n",
    "        print(f'I love {day}')\n",
    "    elif day in ['Wednesday', 'Thursday']:\n",
    "        print(f'{day} is okay')\n",
    "    else:\n",
    "        print(f'I hate {day}')"
   ]
  },
  {
   "cell_type": "markdown",
   "metadata": {},
   "source": [
    "**you'll typically use lists in your for loops (or at least I typically do), but that doesn't mean that lists are the only thing you can iterate over. As you saw in one of the examples above we were also able to loop over a dictionary. We're able to loop over these objects becuase these objects are iterable. It's not supper important that you understnad what makes an object in Python iterable, but don't worry, we'll cover it in a futrue class. For now I just want you to realize that there are many objects that you can loop (or iterate) over. Another type of iterable in python is a generator. Again, not supper important that you understand what a generator is just yet, but know that you can loop over them.**"
   ]
  },
  {
   "cell_type": "markdown",
   "metadata": {},
   "source": [
    "You can easily create a generator using python's range function. The arguments that the range function takes are similar to the slice arguments (start, stop, and step)"
   ]
  },
  {
   "cell_type": "code",
   "execution_count": null,
   "metadata": {},
   "outputs": [],
   "source": [
    "# if only one argument is passed it is assuemed to be the end, start defaults to 0 and step defaults to 1. Just like slicing this is not inclusive of the stop\n",
    "for num in range(5):\n",
    "    print(num)"
   ]
  },
  {
   "cell_type": "code",
   "execution_count": null,
   "metadata": {},
   "outputs": [],
   "source": [
    "# if two arguments are passed the first is the start and the second is the stop\n",
    "for num in range(3, 8):\n",
    "    print(num)"
   ]
  },
  {
   "cell_type": "code",
   "execution_count": null,
   "metadata": {},
   "outputs": [],
   "source": [
    "# three arguments indicate start, stop, and step\n",
    "for num in range(0, 10, 2):\n",
    "    print(num)"
   ]
  },
  {
   "cell_type": "code",
   "execution_count": null,
   "metadata": {},
   "outputs": [],
   "source": [
    "for i in range(5):\n",
    "    for j in range(5):\n",
    "        print(i, j)"
   ]
  },
  {
   "cell_type": "markdown",
   "metadata": {},
   "source": [
    "### Looping over other data structures"
   ]
  },
  {
   "cell_type": "code",
   "execution_count": null,
   "metadata": {},
   "outputs": [],
   "source": [
    "# looping over a dict\n",
    "simple_dict = {'one':1, 'two':2, 'three':3}\n",
    "for value in simple_dict:\n",
    "    print(value)"
   ]
  },
  {
   "cell_type": "markdown",
   "metadata": {},
   "source": [
    "**Note: looping over a dictionary returns its keys**"
   ]
  },
  {
   "cell_type": "code",
   "execution_count": null,
   "metadata": {},
   "outputs": [],
   "source": [
    "# looping over a set\n",
    "simple_set = {1, 2, 3,}\n",
    "for value in simple_set:\n",
    "    print(value)"
   ]
  },
  {
   "cell_type": "code",
   "execution_count": null,
   "metadata": {},
   "outputs": [],
   "source": [
    "# looping over a tuple\n",
    "simple_tuple = (1, 2, 3)\n",
    "for value in simple_tuple:\n",
    "    print(value)"
   ]
  },
  {
   "cell_type": "markdown",
   "metadata": {},
   "source": [
    "## While Loops\n",
    "\n",
    "while loops are used when you don't know how many times you are going to iterate. The code in the while loop will continue to execute while the condition being checked by the while loop remains True. while loop syntax is as follws:\n",
    "\n",
    "        While \"some condition\":\n",
    "            run some code\n",
    "            updat the condition\n",
    "\n",
    "**It's important to note that if you set up a while loop with a condtion that will always evaluate to true then you will get stuck in an infinite loop. If this happens don't pannic, you'll just have to manually terminate the code being run. In jupyter you should be able to interrupt the kernel by clicking on kernel in the tool bar and selecting interupt kernal. Aleternatively go to the command line where the server is running and hit ctr + c. This will kill the jupyter server. You'll have to rerun the server using the Jupyter lab command, and rerun all the cells in the notebook to get back to where you were. Remember to fix the infine loop before rerunning all the cells**"
   ]
  },
  {
   "cell_type": "code",
   "execution_count": null,
   "metadata": {},
   "outputs": [],
   "source": [
    "# in this example we\n",
    "num = 0\n",
    "while num < 10:\n",
    "    print(num)\n",
    "    num +=1"
   ]
  },
  {
   "cell_type": "code",
   "execution_count": null,
   "metadata": {},
   "outputs": [],
   "source": [
    "text = 'Hello World'\n",
    "index = 0\n",
    "while text[index] != 'r':\n",
    "    print(text[index])\n",
    "    index += 1"
   ]
  },
  {
   "cell_type": "markdown",
   "metadata": {},
   "source": [
    "If you do set up a loop condition that will always evaluate to True, make sure that there is some code that will be executed that leads to a break keyword.\n",
    "The break keyword can be used to break out of the current block of code and continue execution of the program."
   ]
  },
  {
   "cell_type": "code",
   "execution_count": null,
   "metadata": {},
   "outputs": [],
   "source": [
    "while True:\n",
    "    break\n",
    "print('outside the while loop')"
   ]
  }
 ],
 "metadata": {
  "kernelspec": {
   "display_name": "Python 3",
   "language": "python",
   "name": "python3"
  },
  "language_info": {
   "codemirror_mode": {
    "name": "ipython",
    "version": 3
   },
   "file_extension": ".py",
   "mimetype": "text/x-python",
   "name": "python",
   "nbconvert_exporter": "python",
   "pygments_lexer": "ipython3",
   "version": "3.6.8"
  }
 },
 "nbformat": 4,
 "nbformat_minor": 2
}
