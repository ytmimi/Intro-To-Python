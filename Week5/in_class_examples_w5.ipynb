{
 "cells": [
  {
   "cell_type": "markdown",
   "metadata": {},
   "source": [
    "# Recap Last Week\n",
    "\n",
    "We covered:\n",
    "* How to import Python modules\n",
    "* Useful modules in the Python Standard Library\n",
    "* Creating our own Python Classes"
   ]
  },
  {
   "cell_type": "markdown",
   "metadata": {},
   "source": [
    "# This Week\n",
    "\n",
    "what we will cover:\n",
    "\n",
    "* Reading and Writing with the built in CSV module\n",
    "* installing 3rd party packages with pip\n",
    "* Reading and Writing Excel files with the openpyxl module"
   ]
  },
  {
   "cell_type": "markdown",
   "metadata": {},
   "source": [
    "## Reading from CSV files\n",
    "\n",
    "CSV (comma seperated value) files are a standard for storing tabular data. Data within the file is stored in plain text, and as the name implies, each value in the csv file is deliminated by a symbol (genrally a comma). Reading from csv's is a fairly straightforward task in Python. With the help of the csv module we can quickly parse and extract the formatted data\n",
    "\n",
    "The Standard Library does a great job explaining how to use the [csv moulde](https://docs.python.org/3/library/csv.html)\n",
    "\n",
    "\n",
    "To demonstrate how to work with csv module we'll analyze stock data for Apple. We'll want to figure out a few things:\n",
    "\n",
    "* What was the return on apple stock in the current period\n",
    "* What was the highest price the stock reached\n",
    "* what was the lowest price the stock reached\n",
    "* what was the average stock price over this period\n",
    "* what trading day had the most volume, and did the stock rise or fall?\n",
    "* how many days did the stock price end lower than where it started?"
   ]
  },
  {
   "cell_type": "code",
   "execution_count": 22,
   "metadata": {},
   "outputs": [
    {
     "name": "stdout",
     "output_type": "stream",
     "text": [
      "['Date', 'Open', 'High', 'Low', 'Close', 'Adj Close', 'Volume']\n",
      "['2018-06-11', '191.350006', '191.970001', '190.210007', '191.229996', '188.362747', '18308500']\n",
      "['2018-06-12', '191.389999', '192.610001', '191.149994', '192.279999', '189.397003', '16911100']\n",
      "['2018-06-13', '192.419998', '192.880005', '190.440002', '190.699997', '187.840683', '21638400']\n",
      "['2018-06-14', '191.550003', '191.570007', '190.220001', '190.800003', '187.939194', '21610100']\n"
     ]
    }
   ],
   "source": [
    "import csv\n",
    "\n",
    "data = []\n",
    "\n",
    "with open('AAPL.csv') as f:\n",
    "    csv_reader = csv.reader(f)\n",
    "    for row in csv_reader:\n",
    "        data.append(row)\n",
    "\n",
    "# only print out the first 5 rows\n",
    "for row in data[:5]:\n",
    "    print(row)"
   ]
  },
  {
   "cell_type": "markdown",
   "metadata": {},
   "source": [
    "As you can see, with just a few lines of Python code we were able to read in all the data from our csv file. There are a couple things to point out here. \n",
    "\n",
    "* 1) **The header row will also be read in**, so you'll need to account for that if your data includes column headers\n",
    "* 2) **All the data read from the csv file will be Strings**, we'll have to cast values to differnt data types ourselves"
   ]
  },
  {
   "cell_type": "code",
   "execution_count": 23,
   "metadata": {},
   "outputs": [
    {
     "name": "stdout",
     "output_type": "stream",
     "text": [
      "Date data is of type <class 'str'> -- 2018-06-11\n",
      "Open data is of type <class 'str'> -- 191.350006\n",
      "High data is of type <class 'str'> -- 191.970001\n",
      "Low data is of type <class 'str'> -- 190.210007\n",
      "Close data is of type <class 'str'> -- 191.229996\n",
      "Adj Close data is of type <class 'str'> -- 188.362747\n",
      "Volume data is of type <class 'str'> -- 18308500\n"
     ]
    }
   ],
   "source": [
    "# just to show you that each value is a string\n",
    "\n",
    "# the first row of data\n",
    "for header, value in zip(data[0], data[1]):\n",
    "    print(f'{header} data is of type {type(value)} -- {value}')"
   ]
  },
  {
   "cell_type": "markdown",
   "metadata": {},
   "source": [
    "# Casting values\n",
    "\n",
    "Before we can analyze the data we'll need to convert all the values into proper types. Taking a look at the csv file we know that the columns are in the following order: Date, Open, High, Low, Close, Adj Close, and Volume. We'll convert each string into an approprate datatype so that we can continue our analysis"
   ]
  },
  {
   "cell_type": "code",
   "execution_count": 26,
   "metadata": {},
   "outputs": [
    {
     "name": "stdout",
     "output_type": "stream",
     "text": [
      "Date data is of type <class 'datetime.date'> -- 2018-06-12\n",
      "Open data is of type <class 'float'> -- 191.39\n",
      "High data is of type <class 'float'> -- 192.61\n",
      "Low data is of type <class 'float'> -- 191.15\n",
      "Close data is of type <class 'float'> -- 192.28\n",
      "Adj Close data is of type <class 'float'> -- 189.4\n",
      "Volume data is of type <class 'int'> -- 16911100\n"
     ]
    }
   ],
   "source": [
    "import datetime as dt\n",
    "\n",
    "def cast_stock_data(stock_data):\n",
    "    \"\"\"\n",
    "    receives a list of strings, where each string represents data in the following order:\n",
    "    \n",
    "    Date, Open, High, Low, Close, Adj Close, and Volume\n",
    "    \n",
    "    returns a new list where data has been properly converted\n",
    "    \"\"\"\n",
    "    data_copy = stock_data.copy()\n",
    "    for index, value in enumerate(data_copy):\n",
    "        # first value is the data\n",
    "        if index == 0:\n",
    "            data_copy[0] = dt.datetime.strptime(value, '%Y-%m-%d').date()\n",
    "        \n",
    "        elif '.' in value:\n",
    "            data_copy[index] = round(float(value), 2)\n",
    "        else:\n",
    "            data_copy[index] = int(value)\n",
    "\n",
    "    return data_copy\n",
    "\n",
    "# skip the header row\n",
    "stock_data = [cast_stock_data(row) for row in data[1:]].\n",
    "\n",
    "# show all the types of the first row\n",
    "for header, value in zip(data[0], stock_data[1]):\n",
    "    print(f'{header} data is of type {type(value)} -- {value}')\n",
    "    "
   ]
  },
  {
   "cell_type": "markdown",
   "metadata": {},
   "source": [
    "Now that values have the correct types we can begin answering our questions"
   ]
  },
  {
   "cell_type": "markdown",
   "metadata": {},
   "source": [
    "### What was the return on Apple stock in the current period\n",
    "\n",
    "**Note: you can calculate the return by taking the % difference between the starting and ending price**\n",
    "\n",
    "    stock_return = (P1 / P0) - 1\n",
    "    \n",
    "    where: \n",
    "        P0 = initial stock price\n",
    "        P1 = ending stock price"
   ]
  },
  {
   "cell_type": "code",
   "execution_count": 30,
   "metadata": {},
   "outputs": [
    {
     "name": "stdout",
     "output_type": "stream",
     "text": [
      "['Date', 'Open', 'High', 'Low', 'Close', 'Adj Close', 'Volume']\n",
      "[datetime.date(2018, 6, 11), 191.35, 191.97, 190.21, 191.23, 188.36, 18308500]\n",
      "[datetime.date(2018, 6, 12), 191.39, 192.61, 191.15, 192.28, 189.4, 16911100]\n",
      "[datetime.date(2018, 6, 13), 192.42, 192.88, 190.44, 190.7, 187.84, 21638400]\n",
      "[datetime.date(2018, 6, 14), 191.55, 191.57, 190.22, 190.8, 187.94, 21610100]\n",
      "[datetime.date(2018, 6, 15), 190.03, 190.16, 188.26, 188.84, 186.01, 61719200]\n"
     ]
    }
   ],
   "source": [
    "# lets see if our data is ascending or descending order\n",
    "print(data[0])\n",
    "\n",
    "# Note stock_data only contains the data without the headers\n",
    "for value in stock_data[:5]:\n",
    "    print(value)"
   ]
  },
  {
   "cell_type": "markdown",
   "metadata": {},
   "source": [
    "Our data is clearly in ascending order, which menas our data starts on the first row and ends on the last row"
   ]
  },
  {
   "cell_type": "code",
   "execution_count": 43,
   "metadata": {},
   "outputs": [
    {
     "name": "stdout",
     "output_type": "stream",
     "text": [
      "What was the return on Apple stock in the current period?\n",
      "The return on Apple stock between 2018-06-11 and 2019-06-07 was 0.950308%\n"
     ]
    }
   ],
   "source": [
    "def stock_return(row0, row1):\n",
    "    \"\"\"\n",
    "    each row should contain stock data with the following format:\n",
    "    \n",
    "    Date, Open, High, Low, Close, Adj Close, and Volume\n",
    "    \n",
    "    returns the calcuated stock return\n",
    "    \"\"\"\n",
    "    return (row1[5] /row0[5]) - 1\n",
    "\n",
    "appl_return = stock_return(stock_data[0], stock_data[-1])\n",
    "\n",
    "date0 = stock_data[0][0]\n",
    "date1 = stock_data[-1][0]\n",
    "\n",
    "q1 = 'What was the return on Apple stock in the current period?'\n",
    "a1 = f'The return on Apple stock between {date0} and {date1} was {appl_return * 100:2f}%'\n",
    "\n",
    "print(q1)\n",
    "print(a1)"
   ]
  },
  {
   "cell_type": "markdown",
   "metadata": {},
   "source": [
    "### What was the highest price the stock reached?"
   ]
  },
  {
   "cell_type": "code",
   "execution_count": 44,
   "metadata": {},
   "outputs": [
    {
     "name": "stdout",
     "output_type": "stream",
     "text": [
      "What was the highest price the stock reached?\n",
      "Apple was at its highest on 2018-10-03 at a price of $233.47\n"
     ]
    }
   ],
   "source": [
    "\n",
    "def max_price(stock_data):\n",
    "    \"\"\"\n",
    "    each row should contain stock data with the following format:\n",
    "    \n",
    "    Date, Open, High, Low, Close, Adj Close, and Volume\n",
    "    \n",
    "    returns (date, price)\n",
    "    \"\"\"\n",
    "    # initialze the starting values     \n",
    "    date = stock_data[0][0]\n",
    "    price = stock_data[0][2]\n",
    "\n",
    "    # remember that the high is index 2\n",
    "    for data in stock_data:\n",
    "        if data[2] > price:\n",
    "            date = data[0]\n",
    "            price = data[2]\n",
    "    \n",
    "    return date, price\n",
    "\n",
    "\n",
    "max_date, max_price = max_price(stock_data)\n",
    "\n",
    "q2 = 'What was the highest price the stock reached?'\n",
    "a2 = f'Apple was at its highest on {max_date} at a price of ${max_price}'\n",
    "\n",
    "print(q2)\n",
    "print(a2)"
   ]
  },
  {
   "cell_type": "markdown",
   "metadata": {},
   "source": [
    "### What was the lowest price the stock reached?"
   ]
  },
  {
   "cell_type": "code",
   "execution_count": 46,
   "metadata": {},
   "outputs": [
    {
     "name": "stdout",
     "output_type": "stream",
     "text": [
      "What was the lowest price the stock reached?\n",
      "Apple was at its lowest on 2019-01-03 at a price of $142.0\n"
     ]
    }
   ],
   "source": [
    "def min_price(stock_data):\n",
    "    \"\"\"\n",
    "    each row should contain stock data with the following format:\n",
    "    \n",
    "    Date, Open, High, Low, Close, Adj Close, and Volume\n",
    "    \n",
    "    returns (date, price)\n",
    "    \"\"\"\n",
    "    # initialize the starting values\n",
    "    date = stock_data[0][0]\n",
    "    price = stock_data[0][5]\n",
    "    \n",
    "    for data in stock_data:\n",
    "        if data[3] < price:\n",
    "            date = data[0]\n",
    "            price = data[3]\n",
    "    \n",
    "    return date, price\n",
    "\n",
    "min_date, min_price = min_price(stock_data)\n",
    "\n",
    "q3 = 'What was the lowest price the stock reached?'\n",
    "a3 = f'Apple was at its lowest on {min_date} at a price of ${min_price}'\n",
    "\n",
    "print(q3)\n",
    "print(a3)"
   ]
  },
  {
   "cell_type": "markdown",
   "metadata": {},
   "source": [
    "### what was the average stock price over this period"
   ]
  },
  {
   "cell_type": "code",
   "execution_count": 48,
   "metadata": {},
   "outputs": [
    {
     "name": "stdout",
     "output_type": "stream",
     "text": [
      "What was the average stock price over this period?\n",
      "The average price of Apply for the period between 2018-06-11 and 2019-06-07 was $189.66\n"
     ]
    }
   ],
   "source": [
    "def avg_stock_price(stock_data):\n",
    "    \"\"\"\n",
    "    each row should contain stock data with the following format:\n",
    "    \n",
    "    Date, Open, High, Low, Close, Adj Close, and Volume\n",
    "    \n",
    "    returns the average stock price based on the Adj Close\n",
    "    \"\"\"\n",
    "    only_prices = [data[5] for data in stock_data]\n",
    "    price_sum = sum(only_prices)\n",
    "    avg_price = price_sum / len(only_prices)\n",
    "    return round(avg_price, 2)\n",
    "\n",
    "avg_price = avg_stock_price(stock_data)\n",
    "\n",
    "q4 = 'What was the average stock price over this period?'\n",
    "a4 = f'The average price of Apply for the period between {date0} and {date1} was ${avg_price}'\n",
    "\n",
    "print(q4)\n",
    "print(a4)"
   ]
  },
  {
   "cell_type": "markdown",
   "metadata": {},
   "source": [
    "### what trading day had the most volume, and did the stock rise or fall?"
   ]
  },
  {
   "cell_type": "markdown",
   "metadata": {},
   "source": [
    "### how many days did the stock price end lower than where it started?"
   ]
  },
  {
   "cell_type": "markdown",
   "metadata": {},
   "source": [
    "## Writing to csv files\n",
    "\n",
    "Now that we've done all of our analysis we'll store the results in a csv file named apple_analysis.csv"
   ]
  },
  {
   "cell_type": "code",
   "execution_count": null,
   "metadata": {},
   "outputs": [],
   "source": []
  }
 ],
 "metadata": {
  "kernelspec": {
   "display_name": "Python 3",
   "language": "python",
   "name": "python3"
  },
  "language_info": {
   "codemirror_mode": {
    "name": "ipython",
    "version": 3
   },
   "file_extension": ".py",
   "mimetype": "text/x-python",
   "name": "python",
   "nbconvert_exporter": "python",
   "pygments_lexer": "ipython3",
   "version": "3.7.2"
  }
 },
 "nbformat": 4,
 "nbformat_minor": 2
}
