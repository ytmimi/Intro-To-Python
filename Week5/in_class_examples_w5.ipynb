{
 "cells": [
  {
   "cell_type": "markdown",
   "metadata": {},
   "source": [
    "# Recap Last Week\n",
    "\n",
    "We covered:\n",
    "* How to import Python modules\n",
    "* Useful modules in the Python Standard Library\n",
    "* Creating our own Python Classes"
   ]
  },
  {
   "cell_type": "markdown",
   "metadata": {},
   "source": [
    "# This Week\n",
    "\n",
    "what we will cover:\n",
    "\n",
    "* Reading and Writing with the built in CSV module\n",
    "* installing 3rd party packages with pip\n",
    "* Reading and Writing Excel files with the openpyxl module"
   ]
  },
  {
   "cell_type": "markdown",
   "metadata": {},
   "source": [
    "## Reading from CSV files\n",
    "\n",
    "CSV (comma seperated value) files are a standard for storing tabular data. Data within the file is stored in plain text, and as the name implies, each value in the csv file is deliminated by a symbol (genrally a comma). Reading from csv's is a fairly straightforward task in Python. With the help of the csv module we can quickly parse and extract the formatted data\n",
    "\n",
    "The Standard Library does a great job explaining how to use the [csv moulde](https://docs.python.org/3/library/csv.html)\n",
    "\n",
    "\n",
    "To demonstrate how to work with csv module we'll analyze stock data for Apple. We'll want to figure out a few things:\n",
    "\n",
    "* What was the return on apple stock in the current period\n",
    "* What was the highest price the stock reached\n",
    "* what was the lowest price the stock reached\n",
    "* what was the average stock price over this period\n",
    "* what trading day had the most volume, and did the stock rise or fall?\n",
    "* how many days did the stock price end lower than where it started?"
   ]
  },
  {
   "cell_type": "code",
   "execution_count": 1,
   "metadata": {},
   "outputs": [
    {
     "name": "stdout",
     "output_type": "stream",
     "text": [
      "['Date', 'Open', 'High', 'Low', 'Close', 'Adj Close', 'Volume']\n",
      "['2018-06-11', '191.350006', '191.970001', '190.210007', '191.229996', '188.362747', '18308500']\n",
      "['2018-06-12', '191.389999', '192.610001', '191.149994', '192.279999', '189.397003', '16911100']\n",
      "['2018-06-13', '192.419998', '192.880005', '190.440002', '190.699997', '187.840683', '21638400']\n",
      "['2018-06-14', '191.550003', '191.570007', '190.220001', '190.800003', '187.939194', '21610100']\n"
     ]
    }
   ],
   "source": [
    "import csv\n",
    "\n",
    "data = []\n",
    "\n",
    "with open('AAPL.csv') as f:\n",
    "    csv_reader = csv.reader(f)\n",
    "    for row in csv_reader:\n",
    "        data.append(row)\n",
    "\n",
    "# only print out the first 5 rows\n",
    "for row in data[:5]:\n",
    "    print(row)"
   ]
  },
  {
   "cell_type": "markdown",
   "metadata": {},
   "source": [
    "As you can see, with just a few lines of Python code we were able to read in all the data from our csv file. There are a couple things to point out here. \n",
    "\n",
    "* 1) **The header row will also be read in**, so you'll need to account for that if your data includes column headers\n",
    "* 2) **All the data read from the csv file will be Strings**, we'll have to cast values to differnt data types ourselves"
   ]
  },
  {
   "cell_type": "code",
   "execution_count": 2,
   "metadata": {},
   "outputs": [
    {
     "name": "stdout",
     "output_type": "stream",
     "text": [
      "Date data is of type <class 'str'> -- 2018-06-11\n",
      "Open data is of type <class 'str'> -- 191.350006\n",
      "High data is of type <class 'str'> -- 191.970001\n",
      "Low data is of type <class 'str'> -- 190.210007\n",
      "Close data is of type <class 'str'> -- 191.229996\n",
      "Adj Close data is of type <class 'str'> -- 188.362747\n",
      "Volume data is of type <class 'str'> -- 18308500\n"
     ]
    }
   ],
   "source": [
    "# just to show you that each value is a string\n",
    "\n",
    "# the first row of data\n",
    "for header, value in zip(data[0], data[1]):\n",
    "    print(f'{header} data is of type {type(value)} -- {value}')"
   ]
  },
  {
   "cell_type": "markdown",
   "metadata": {},
   "source": [
    "# Casting values\n",
    "\n",
    "Before we can analyze the data we'll need to convert all the values into proper types. Taking a look at the csv file we know that the columns are in the following order: Date, Open, High, Low, Close, Adj Close, and Volume. We'll convert each string into an approprate datatype so that we can continue our analysis"
   ]
  },
  {
   "cell_type": "code",
   "execution_count": 4,
   "metadata": {},
   "outputs": [
    {
     "name": "stdout",
     "output_type": "stream",
     "text": [
      "Date data is of type <class 'datetime.date'> -- 2018-06-12\n",
      "Open data is of type <class 'float'> -- 191.39\n",
      "High data is of type <class 'float'> -- 192.61\n",
      "Low data is of type <class 'float'> -- 191.15\n",
      "Close data is of type <class 'float'> -- 192.28\n",
      "Adj Close data is of type <class 'float'> -- 189.4\n",
      "Volume data is of type <class 'int'> -- 16911100\n"
     ]
    }
   ],
   "source": [
    "import datetime as dt\n",
    "\n",
    "def cast_stock_data(stock_data):\n",
    "    \"\"\"\n",
    "    receives a list of strings, where each string represents data in the following order:\n",
    "    \n",
    "    Date, Open, High, Low, Close, Adj Close, and Volume\n",
    "    \n",
    "    returns a new list where data has been properly converted\n",
    "    \"\"\"\n",
    "    data_copy = stock_data.copy()\n",
    "    for index, value in enumerate(data_copy):\n",
    "        # first value is the Date\n",
    "        if index == 0:\n",
    "            data_copy[0] = dt.datetime.strptime(value, '%Y-%m-%d').date()\n",
    "        \n",
    "        elif '.' in value:\n",
    "            data_copy[index] = round(float(value), 2)\n",
    "        else:\n",
    "            data_copy[index] = int(value)\n",
    "\n",
    "    return data_copy\n",
    "\n",
    "# skip the header row\n",
    "stock_data = [cast_stock_data(row) for row in data[1:]]\n",
    "\n",
    "# show all the types of the first row\n",
    "for header, value in zip(data[0], stock_data[1]):\n",
    "    print(f'{header} data is of type {type(value)} -- {value}')\n",
    "    "
   ]
  },
  {
   "cell_type": "markdown",
   "metadata": {},
   "source": [
    "Now that values have the correct types we can begin answering our questions"
   ]
  },
  {
   "cell_type": "markdown",
   "metadata": {},
   "source": [
    "### What was the return on Apple stock in the current period\n",
    "\n",
    "**Note: you can calculate the return for any period by taking the % difference between the starting and ending price**\n",
    "\n",
    "    stock_return = (P1 / P0) - 1\n",
    "    \n",
    "    where: \n",
    "        P0 = initial stock price\n",
    "        P1 = ending stock price"
   ]
  },
  {
   "cell_type": "code",
   "execution_count": 5,
   "metadata": {},
   "outputs": [
    {
     "name": "stdout",
     "output_type": "stream",
     "text": [
      "['Date', 'Open', 'High', 'Low', 'Close', 'Adj Close', 'Volume']\n",
      "[datetime.date(2018, 6, 11), 191.35, 191.97, 190.21, 191.23, 188.36, 18308500]\n",
      "[datetime.date(2018, 6, 12), 191.39, 192.61, 191.15, 192.28, 189.4, 16911100]\n",
      "[datetime.date(2018, 6, 13), 192.42, 192.88, 190.44, 190.7, 187.84, 21638400]\n",
      "[datetime.date(2018, 6, 14), 191.55, 191.57, 190.22, 190.8, 187.94, 21610100]\n",
      "[datetime.date(2018, 6, 15), 190.03, 190.16, 188.26, 188.84, 186.01, 61719200]\n"
     ]
    }
   ],
   "source": [
    "# lets see if our data is ascending or descending order\n",
    "print(data[0])\n",
    "\n",
    "# Note stock_data only contains the data without the headers\n",
    "for value in stock_data[:5]:\n",
    "    print(value)"
   ]
  },
  {
   "cell_type": "markdown",
   "metadata": {},
   "source": [
    "Our data is clearly in ascending order, which menas our data starts on the first row and ends on the last row"
   ]
  },
  {
   "cell_type": "code",
   "execution_count": 6,
   "metadata": {},
   "outputs": [
    {
     "name": "stdout",
     "output_type": "stream",
     "text": [
      "What was the return on Apple stock in the current period?\n",
      "The return on Apple stock between 2018-06-11 and 2019-06-07 was 0.950308%\n"
     ]
    }
   ],
   "source": [
    "def stock_return(row0, row1):\n",
    "    \"\"\"\n",
    "    each row should contain stock data with the following format:\n",
    "    \n",
    "    Date, Open, High, Low, Close, Adj Close, and Volume\n",
    "    \n",
    "    returns the calcuated stock return\n",
    "    \"\"\"\n",
    "    return (row1[5] /row0[5]) - 1\n",
    "\n",
    "appl_return = stock_return(stock_data[0], stock_data[-1])\n",
    "\n",
    "date0 = stock_data[0][0]\n",
    "date1 = stock_data[-1][0]\n",
    "\n",
    "q1 = 'What was the return on Apple stock in the current period?'\n",
    "a1 = f'The return on Apple stock between {date0} and {date1} was {appl_return * 100:2f}%'\n",
    "\n",
    "print(q1)\n",
    "print(a1)"
   ]
  },
  {
   "cell_type": "markdown",
   "metadata": {},
   "source": [
    "### What was the highest price the stock reached?"
   ]
  },
  {
   "cell_type": "code",
   "execution_count": 7,
   "metadata": {},
   "outputs": [
    {
     "name": "stdout",
     "output_type": "stream",
     "text": [
      "What was the highest price the stock reached?\n",
      "Apple was at its highest on 2018-10-03 at a price of $233.47\n"
     ]
    }
   ],
   "source": [
    "\n",
    "def max_price(stock_data):\n",
    "    \"\"\"\n",
    "    each row should contain stock data with the following format:\n",
    "    \n",
    "    Date, Open, High, Low, Close, Adj Close, and Volume\n",
    "    \n",
    "    returns (date, price)\n",
    "    \"\"\"\n",
    "    # initialze the starting values     \n",
    "    date = stock_data[0][0]\n",
    "    price = stock_data[0][2]\n",
    "\n",
    "    # remember that the high is index 2\n",
    "    for data in stock_data:\n",
    "        if data[2] > price:\n",
    "            date = data[0]\n",
    "            price = data[2]\n",
    "    \n",
    "    return date, price\n",
    "\n",
    "\n",
    "max_date, max_price = max_price(stock_data)\n",
    "\n",
    "q2 = 'What was the highest price the stock reached?'\n",
    "a2 = f'Apple was at its highest on {max_date} at a price of ${max_price}'\n",
    "\n",
    "print(q2)\n",
    "print(a2)"
   ]
  },
  {
   "cell_type": "markdown",
   "metadata": {},
   "source": [
    "### What was the lowest price the stock reached?"
   ]
  },
  {
   "cell_type": "code",
   "execution_count": 8,
   "metadata": {},
   "outputs": [
    {
     "name": "stdout",
     "output_type": "stream",
     "text": [
      "What was the lowest price the stock reached?\n",
      "Apple was at its lowest on 2019-01-03 at a price of $142.0\n"
     ]
    }
   ],
   "source": [
    "def min_price(stock_data):\n",
    "    \"\"\"\n",
    "    each row should contain stock data with the following format:\n",
    "    \n",
    "    Date, Open, High, Low, Close, Adj Close, and Volume\n",
    "    \n",
    "    returns (date, price)\n",
    "    \"\"\"\n",
    "    # initialize the starting values\n",
    "    date = stock_data[0][0]\n",
    "    price = stock_data[0][5]\n",
    "    \n",
    "    for data in stock_data:\n",
    "        if data[3] < price:\n",
    "            date = data[0]\n",
    "            price = data[3]\n",
    "    \n",
    "    return date, price\n",
    "\n",
    "min_date, min_price = min_price(stock_data)\n",
    "\n",
    "q3 = 'What was the lowest price the stock reached?'\n",
    "a3 = f'Apple was at its lowest on {min_date} at a price of ${min_price}'\n",
    "\n",
    "print(q3)\n",
    "print(a3)"
   ]
  },
  {
   "cell_type": "markdown",
   "metadata": {},
   "source": [
    "### what was the average stock price over this period"
   ]
  },
  {
   "cell_type": "code",
   "execution_count": 9,
   "metadata": {},
   "outputs": [
    {
     "name": "stdout",
     "output_type": "stream",
     "text": [
      "What was the average stock price over this period?\n",
      "The average price of Apple for the period between 2018-06-11 and 2019-06-07 was $189.66\n"
     ]
    }
   ],
   "source": [
    "def avg_stock_price(stock_data):\n",
    "    \"\"\"\n",
    "    each row should contain stock data with the following format:\n",
    "    \n",
    "    Date, Open, High, Low, Close, Adj Close, and Volume\n",
    "    \n",
    "    returns the average stock price based on the Adj Close\n",
    "    \"\"\"\n",
    "    # grabbing only the Adj Close price from the stock_data list     \n",
    "    only_prices = [data[5] for data in stock_data]\n",
    "    \n",
    "    price_sum = sum(only_prices)\n",
    "    avg_price = price_sum / len(only_prices)\n",
    "    return round(avg_price, 2)\n",
    "\n",
    "avg_price = avg_stock_price(stock_data)\n",
    "\n",
    "q4 = 'What was the average stock price over this period?'\n",
    "a4 = f'The average price of Apple for the period between {date0} and {date1} was ${avg_price}'\n",
    "\n",
    "print(q4)\n",
    "print(a4)"
   ]
  },
  {
   "cell_type": "markdown",
   "metadata": {},
   "source": [
    "### what trading day had the most volume, and did the stock rise or fall?"
   ]
  },
  {
   "cell_type": "code",
   "execution_count": 14,
   "metadata": {},
   "outputs": [
    {
     "name": "stdout",
     "output_type": "stream",
     "text": [
      "what trading day had the most volume, and did the stock rise or fall?\n",
      "2018-09-21 had the most volume and the stock went up by $3.12.\n"
     ]
    }
   ],
   "source": [
    "# The following code won't be the most efficient solution, but\n",
    "# There are a ton of differnt ways to solve any problem\n",
    "\n",
    "def day_with_most_volume(stock_data):\n",
    "    \"\"\"\n",
    "    each row should contain stock data with the following format:\n",
    "    \n",
    "    Date, Open, High, Low, Close, Adj Close, and Volume\n",
    "    \n",
    "    returns the date where the volume was the greatest\n",
    "    \"\"\"\n",
    "    stock_data_copy = stock_data.copy()\n",
    "    # we use key to tell python how to sort, and reverse=True to sort in descending order     \n",
    "    stock_data_copy.sort(key=lambda x: x[-1], reverse=True)\n",
    "    \n",
    "    # after sorting the list by Volume in descending order, the first item will be the largest     \n",
    "    return stock_data_copy[0][0]\n",
    "\n",
    "\n",
    "most_volume = day_with_most_volume(stock_data)\n",
    "\n",
    "def good_or_bad_day(date, stock_data):\n",
    "    \"\"\"\n",
    "    Given a date and a list of stock_data, where each item is in the format:\n",
    "    Date, Open, High, Low, Close, Adj Close, and Volume\n",
    "    \n",
    "    return a string stating the outcome of trading on that day\n",
    "    \"\"\"\n",
    "    \n",
    "    for data in stock_data:\n",
    "        if data[0] == date:\n",
    "            # Open - Close\n",
    "            outcome = round(data[1] - data[4], 2)\n",
    "            if outcome > 0:\n",
    "                return f'The stock went up by ${outcome}'\n",
    "            elif outcome < 0:\n",
    "                return f'The stock went down by ${outcome}'\n",
    "            else:\n",
    "                return f'The stock price stayed the same'\n",
    "\n",
    "            \n",
    "stock_outcome = good_or_bad_day(most_volume, stock_data)\n",
    "\n",
    "q5 = 'what trading day had the most volume, and did the stock rise or fall?'\n",
    "a5 = f'{most_volume} had the most volume and {stock_outcome.lower()}.'\n",
    "\n",
    "print(q5)\n",
    "print(a5)"
   ]
  },
  {
   "cell_type": "markdown",
   "metadata": {},
   "source": [
    "### how many days did the stock price end lower than where it started?"
   ]
  },
  {
   "cell_type": "code",
   "execution_count": 15,
   "metadata": {},
   "outputs": [
    {
     "name": "stdout",
     "output_type": "stream",
     "text": [
      "how many days did the stock price end lower than where it started?\n",
      "The stock price closed lower than it opened on 119 days\n"
     ]
    }
   ],
   "source": [
    "def open_high_close_low(stock_data):\n",
    "    \"\"\"\n",
    "    Given a list of stock data with the format:\n",
    "    Date, Open, High, Low, Close, Adj Close, and Volume\n",
    "    \n",
    "    return the number of days the stock price closed lower than where it started\n",
    "    \"\"\"\n",
    "    low_count = 0\n",
    "    for data in stock_data:\n",
    "        # Open > Close\n",
    "        if data[1] > data[4]:\n",
    "            low_count += 1\n",
    "    return low_count\n",
    "\n",
    "\n",
    "low_days = open_high_close_low(stock_data)\n",
    "\n",
    "q6 = 'how many days did the stock price end lower than where it started?'\n",
    "a6 = f'The stock price closed lower than it opened on {low_days} days'\n",
    "            \n",
    "print(q6)\n",
    "print(a6)"
   ]
  },
  {
   "cell_type": "markdown",
   "metadata": {},
   "source": [
    "## Writing to csv files\n",
    "\n",
    "Now that we've done all of our analysis it might be nice to store it somewhere instead of just printing it out to the screen. We'll store the results in a csv file named apple_analysis.csv\n",
    "\n",
    "writing to a csv is similar to reading from a csv. the only difference is that we open the file in 'w' (write) mode, and we use a [csv.writer class](https://docs.python.org/3/library/csv.html#writer-objects)"
   ]
  },
  {
   "cell_type": "code",
   "execution_count": 18,
   "metadata": {},
   "outputs": [],
   "source": [
    "questions = [q1, q2, q3, q4, q5, q6]\n",
    "answers = [a1, a2, a3, a4, a5, a6]\n",
    "\n",
    "with open('apple_analysis.csv', mode='w', newline='') as f:\n",
    "    writer = csv.writer(f)\n",
    "    # writing the headers\n",
    "    writer.writerow(['Questions', 'Answers'])\n",
    "    # write the values\n",
    "    for value in zip(questions, answers):\n",
    "        writer.writerow(value)\n",
    "        "
   ]
  },
  {
   "cell_type": "markdown",
   "metadata": {},
   "source": [
    "## Reading Excel Files\n",
    "\n",
    "reading excel files is also made fairly simple in Python. However, this functionality isn't built directoy into the Python Standard Library. we'll need to install a 3rd party package called [openpyxl](https://openpyxl.readthedocs.io/en/stable/). For a complete explanation of everything you can do with the library I **highly** recommed checking out the documentation.\n",
    "\n",
    "As long as Python is on your **PATH** you can install openpyxl via pip. On the command line enter the following command:\n",
    "\n",
    "    pip install openpyxl\n",
    "\n",
    "\n",
    "In order to demonstrate how to read from excel files, we'll use the \"happy_hour.xlsx\" file.\n",
    "[I put together this NYC happy hour dataset using the following link](https://ny.eater.com/maps/best-happy-hour-deals-nyc)\n"
   ]
  },
  {
   "cell_type": "code",
   "execution_count": 3,
   "metadata": {},
   "outputs": [
    {
     "name": "stdout",
     "output_type": "stream",
     "text": [
      "Data\n"
     ]
    }
   ],
   "source": [
    "# the load_workbook function will load an excel workbook\n",
    "from openpyxl import load_workbook\n",
    "\n",
    "wb = load_workbook('happy_hour.xlsx')\n",
    "\n",
    "# if there's only one sheet in a workbook you can get it using the .active attribute of the Workbook object\n",
    "ws = wb.active\n",
    "\n",
    "print(ws.title)"
   ]
  },
  {
   "cell_type": "markdown",
   "metadata": {},
   "source": [
    "Sure enough, if you open up the file in excel you'll see that the first sheet has the title **\"Data\"**"
   ]
  },
  {
   "cell_type": "markdown",
   "metadata": {},
   "source": [
    "### Accessing Data\n",
    "\n",
    "There are several differnt ways to access data from an openpyxl Worksheet object. We can treat the worksheet like a dictionary and access cells via their coordinate in the sheet. Each cell has a value attribute that we can access"
   ]
  },
  {
   "cell_type": "code",
   "execution_count": 6,
   "metadata": {},
   "outputs": [
    {
     "name": "stdout",
     "output_type": "stream",
     "text": [
      "Name\n",
      "Date\n",
      "Start\n"
     ]
    }
   ],
   "source": [
    "print(ws['A1'].value)\n",
    "print(ws['B1'].value)\n",
    "print(ws['C1'].value)"
   ]
  },
  {
   "cell_type": "code",
   "execution_count": 10,
   "metadata": {},
   "outputs": [
    {
     "name": "stdout",
     "output_type": "stream",
     "text": [
      "((<Cell 'Data'.A1>, <Cell 'Data'.B1>, <Cell 'Data'.C1>, <Cell 'Data'.D1>), (<Cell 'Data'.A2>, <Cell 'Data'.B2>, <Cell 'Data'.C2>, <Cell 'Data'.D2>))\n"
     ]
    }
   ],
   "source": [
    "# we can access a range of cells using their coordinates\n",
    "print(ws['A1:D2'])"
   ]
  },
  {
   "cell_type": "markdown",
   "metadata": {},
   "source": [
    "**Note that what we get returned is a tuple of tuples, where each tuple contains a differnt row of data for the range that we specified**"
   ]
  },
  {
   "cell_type": "code",
   "execution_count": 16,
   "metadata": {},
   "outputs": [
    {
     "name": "stdout",
     "output_type": "stream",
     "text": [
      "Name:  The Heights Bar & Grill\n",
      "Date:  Daily\n",
      "Start:  16:00:00\n",
      "End:  19:00:00\n"
     ]
    }
   ],
   "source": [
    "for header, value in zip(ws['A1:D2'][0], ws['A1:D2'][1]):\n",
    "    print(f'{header.value}:  {value.value}')\n",
    "        "
   ]
  },
  {
   "cell_type": "markdown",
   "metadata": {},
   "source": [
    "We can also access cells using the .cell method on worksheet objects"
   ]
  },
  {
   "cell_type": "code",
   "execution_count": 17,
   "metadata": {},
   "outputs": [
    {
     "ename": "ValueError",
     "evalue": "Row or column values must be at least 1",
     "output_type": "error",
     "traceback": [
      "\u001b[0;31m---------------------------------------------------------------------------\u001b[0m",
      "\u001b[0;31mValueError\u001b[0m                                Traceback (most recent call last)",
      "\u001b[0;32m<ipython-input-17-fef788708a90>\u001b[0m in \u001b[0;36m<module>\u001b[0;34m\u001b[0m\n\u001b[0;32m----> 1\u001b[0;31m \u001b[0mprint\u001b[0m\u001b[0;34m(\u001b[0m\u001b[0mws\u001b[0m\u001b[0;34m.\u001b[0m\u001b[0mcell\u001b[0m\u001b[0;34m(\u001b[0m\u001b[0mrow\u001b[0m\u001b[0;34m=\u001b[0m\u001b[0;36m0\u001b[0m\u001b[0;34m,\u001b[0m \u001b[0mcolumn\u001b[0m\u001b[0;34m=\u001b[0m\u001b[0;36m0\u001b[0m\u001b[0;34m)\u001b[0m\u001b[0;34m)\u001b[0m\u001b[0;34m\u001b[0m\u001b[0;34m\u001b[0m\u001b[0m\n\u001b[0m",
      "\u001b[0;32m~/Documents/Horizon_Media/Python-Course/venv/lib/python3.6/site-packages/openpyxl/worksheet/worksheet.py\u001b[0m in \u001b[0;36mcell\u001b[0;34m(self, row, column, value)\u001b[0m\n\u001b[1;32m    235\u001b[0m \u001b[0;34m\u001b[0m\u001b[0m\n\u001b[1;32m    236\u001b[0m         \u001b[0;32mif\u001b[0m \u001b[0mrow\u001b[0m \u001b[0;34m<\u001b[0m \u001b[0;36m1\u001b[0m \u001b[0;32mor\u001b[0m \u001b[0mcolumn\u001b[0m \u001b[0;34m<\u001b[0m \u001b[0;36m1\u001b[0m\u001b[0;34m:\u001b[0m\u001b[0;34m\u001b[0m\u001b[0;34m\u001b[0m\u001b[0m\n\u001b[0;32m--> 237\u001b[0;31m             \u001b[0;32mraise\u001b[0m \u001b[0mValueError\u001b[0m\u001b[0;34m(\u001b[0m\u001b[0;34m\"Row or column values must be at least 1\"\u001b[0m\u001b[0;34m)\u001b[0m\u001b[0;34m\u001b[0m\u001b[0;34m\u001b[0m\u001b[0m\n\u001b[0m\u001b[1;32m    238\u001b[0m \u001b[0;34m\u001b[0m\u001b[0m\n\u001b[1;32m    239\u001b[0m         \u001b[0mcell\u001b[0m \u001b[0;34m=\u001b[0m \u001b[0mself\u001b[0m\u001b[0;34m.\u001b[0m\u001b[0m_get_cell\u001b[0m\u001b[0;34m(\u001b[0m\u001b[0mrow\u001b[0m\u001b[0;34m,\u001b[0m \u001b[0mcolumn\u001b[0m\u001b[0;34m)\u001b[0m\u001b[0;34m\u001b[0m\u001b[0;34m\u001b[0m\u001b[0m\n",
      "\u001b[0;31mValueError\u001b[0m: Row or column values must be at least 1"
     ]
    }
   ],
   "source": [
    "# Although indexing Normally starts at 0, when working with this package indexing starts at 1\n",
    "print(ws.cell(row=0, column=0))"
   ]
  },
  {
   "cell_type": "code",
   "execution_count": 20,
   "metadata": {},
   "outputs": [
    {
     "name": "stdout",
     "output_type": "stream",
     "text": [
      "Name\n"
     ]
    }
   ],
   "source": [
    "# get the value of cell A1\n",
    "print(ws.cell(row=1, column=1).value)"
   ]
  },
  {
   "cell_type": "code",
   "execution_count": 23,
   "metadata": {},
   "outputs": [
    {
     "name": "stdout",
     "output_type": "stream",
     "text": [
      "0 Name\n",
      "1 The Heights Bar & Grill\n",
      "2 The Mermaid Inn\n",
      "3 Flora Bar\n",
      "4 Ousia\n",
      "5 Badshah Modern Indian\n",
      "6 Rice 'n' Beans\n",
      "7 Maya\n",
      "8 DiWine\n",
      "9 Reunion\n",
      "10 Clinton Hall\n",
      "11 Seamore's\n",
      "12 Porchlight\n",
      "13 Wokuni\n",
      "14 Leonelli Taberna\n",
      "15 Lamano\n",
      "16 St Tropez Wine Bar\n",
      "17 Pete's Tavern\n",
      "18 Huertas\n",
      "19 Pinch Chinese\n",
      "20 The Wayland\n",
      "21 Bonnie Vee\n",
      "22 Speedy Romeo\n",
      "23 Café Beit\n",
      "24 Sarabeth's Tribeca\n",
      "25 169 Bar\n",
      "26 Donna\n",
      "27 Duck Duck\n",
      "28 Fresh Salt\n",
      "29 Sugarcane\n",
      "30 Shorty's\n",
      "31 Nowadays\n",
      "32 Karasu\n",
      "33 Leyenda\n",
      "34 Bearded Lady\n",
      "35 Sycamore\n"
     ]
    }
   ],
   "source": [
    "# we can loop over a single column by just providing the column letter\n",
    "\n",
    "# looping over column A\n",
    "for i, cell in enumerate(ws['A']):\n",
    "    print(i, cell.value)"
   ]
  },
  {
   "cell_type": "code",
   "execution_count": 24,
   "metadata": {},
   "outputs": [
    {
     "name": "stdout",
     "output_type": "stream",
     "text": [
      "0 Name\n",
      "1 Date\n",
      "2 Start\n",
      "3 End\n",
      "4 Beers\n",
      "5 Coctails\n",
      "6 Wine\n",
      "7 Address\n"
     ]
    }
   ],
   "source": [
    "# Similarly, we can loop over the rows by providing an index\n",
    "\n",
    "# looping over row 1, aka the header row\n",
    "for i, cell in enumerate(ws[1]):\n",
    "    print(i, cell.value)"
   ]
  },
  {
   "cell_type": "markdown",
   "metadata": {},
   "source": [
    "Worksheet objects have two useful attributes for finding the max rows and max columns that they contain. This is useful if you want to loop over every single value"
   ]
  },
  {
   "cell_type": "code",
   "execution_count": 25,
   "metadata": {},
   "outputs": [
    {
     "name": "stdout",
     "output_type": "stream",
     "text": [
      "36\n",
      "8\n"
     ]
    }
   ],
   "source": [
    "print(ws.max_row)\n",
    "print(ws.max_column)"
   ]
  },
  {
   "cell_type": "code",
   "execution_count": 28,
   "metadata": {},
   "outputs": [
    {
     "name": "stdout",
     "output_type": "stream",
     "text": [
      "['Name', 'Date', 'Start', 'End', 'Beers', 'Coctails', 'Wine', 'Address']\n",
      "['The Heights Bar & Grill', 'Daily', datetime.time(16, 0), datetime.time(19, 0), 5, 6, 5, '2867 Broadway New York, NY 10025']\n",
      "['The Mermaid Inn', 'Daily', datetime.time(17, 0), datetime.time(19, 0), 6, 8.5, 8.5, '570 Amsterdam Ave New York, NY 10024']\n",
      "['Flora Bar', 'Tuesdau - Thursday', datetime.time(17, 30), datetime.time(19, 30), 5, 10, 8, '945 Madison Ave\\nNew York, NY 10021']\n",
      "['Ousia', 'Weekdays ', datetime.time(17, 0), datetime.time(19, 0), 6, 9, 9, '629 W 57th St\\nNew York, NY 10019']\n",
      "['Badshah Modern Indian', 'Daily', datetime.time(17, 0), datetime.time(19, 0), 5, '2 for 1', '2 for 1', '788 9th Ave\\nNew York, NY 10019']\n",
      "[\"Rice 'n' Beans\", 'Monday - Friday', datetime.time(11, 30), datetime.time(19, 0), 5, 5, 5, '744 9th Ave\\nNew York, NY 10019']\n",
      "['Maya', 'Monday - Friday', datetime.time(16, 0), 'Close', 6, 8, 8, '1191 1st Avenue\\nNew York, NY 10065']\n",
      "['DiWine', 'Sunday - Thursday', datetime.time(17, 0), datetime.time(20, 0), 5, 8, 8, '41-15 31st Ave\\nAstoria, NY 11103']\n",
      "['Reunion', 'Monday - Friday', datetime.time(17, 30), datetime.time(20, 0), 3, 6, '-', '357 W 44th St\\nNew York, NY 10036']\n",
      "['Clinton Hall', 'Weekdays ', datetime.time(15, 0), datetime.time(19, 0), 6, 7, 8, '230 E 51st St\\nNew York, NY 10022']\n",
      "[\"Seamore's\", 'Weekdays ', datetime.time(15, 0), datetime.time(17, 0), 4, 4, 4, '230 Park Ave\\nNew York, NY 10169']\n",
      "['Porchlight', 'Monday - Friday', datetime.time(16, 0), datetime.time(19, 0), 6, 13, '-', '271 11th Ave\\nNew York, NY 10001']\n",
      "['Wokuni', 'Daily', datetime.time(17, 0), datetime.time(19, 0), 5, 7, 7, '327 Lexington Ave\\nNew York, NY 10016']\n",
      "['Leonelli Taberna', 'Daily', datetime.time(17, 0), datetime.time(19, 0), 5, 8, 8, '7 E 27th St\\nNew York, NY 10016']\n",
      "['Lamano', 'Daily', datetime.time(16, 0), datetime.time(18, 30), 5, 8, 8, '265 W 20th St\\nNew York, NY 10011']\n",
      "['St Tropez Wine Bar', 'Weekdays ', datetime.time(16, 0), datetime.time(18, 30), '-', '-', '$15-$19', '304 West 4th Street\\nNew York, NY 10014']\n",
      "[\"Pete's Tavern\", 'Weekdays ', datetime.time(16, 0), datetime.time(19, 0), 6, '-', 7, '129 E 18th St\\nNew York, NY 10003']\n",
      "['Huertas', 'Daily', 'Open', datetime.time(19, 0), 5, 5, 5, '107 1st Avenue\\nNew York, NY 10003']\n",
      "['Pinch Chinese', 'Daily', datetime.time(17, 0), datetime.time(19, 0), 6, '-', 9, '177 Prince St\\nNew York, NY 10012']\n",
      "['The Wayland', 'Monday - Friday', datetime.time(16, 0), datetime.time(19, 0), 7, 8, 7, '700 E 9th St\\nNew York, NY 10009']\n",
      "['Bonnie Vee', 'Monday - Friday', datetime.time(17, 0), datetime.time(20, 0), 6, 12, '$2 off', '17 Stanton St\\nNew York, NY 10002']\n",
      "['Speedy Romeo', 'Monday', datetime.time(17, 0), datetime.time(22, 0), '$2 off', 8, '$2 off', '63 Clinton St\\nNew York, NY 10002']\n",
      "['Café Beit', 'Daily', datetime.time(15, 0), datetime.time(19, 0), '$1 off', '-', '$1 off', '158 Bedford Ave\\nBrooklyn, NY 11211']\n",
      "[\"Sarabeth's Tribeca\", 'Daily', datetime.time(16, 0), datetime.time(19, 0), 5, 7, 7, '339 Greenwich St\\nNew York, NY 10013']\n",
      "['169 Bar', 'Daily', datetime.time(11, 30), datetime.time(19, 30), 3, '$2 off', '$2 off', '169 E Broadway\\nNew York, NY 10002']\n",
      "['Donna', 'Monday - Friday', 'open', datetime.time(20, 0), '$2 off', '$2 off', '-', '27 Broadway\\nBrooklyn, NY 11249']\n",
      "['Duck Duck', 'Daily', datetime.time(16, 0), datetime.time(20, 0), '2 for 1', '-', '-', '161 Montrose Ave\\nBrooklyn, NY 11206']\n",
      "['Fresh Salt', 'Daily', datetime.time(16, 0), datetime.time(20, 0), 5, 6, 6, '146 Beekman St\\nNew York, NY 10038']\n",
      "['Sugarcane', 'Weekdays ', datetime.time(16, 0), datetime.time(19, 0), 5, 8, 7, '55 Water St Suite 1A\\nBrooklyn, NY 11201']\n",
      "[\"Shorty's\", 'Weekdays ', datetime.time(16, 0), datetime.time(19, 0), 5, 6, '-', '62 Pearl St\\nNew York, NY 10004']\n",
      "['Nowadays', 'Thursday - Friday', datetime.time(17, 0), datetime.time(20, 0), '2 for 1', '2 for 1', '2 for 1', '56-06 Cooper Ave\\nRidgewood, NY 11385']\n",
      "['Karasu', 'Weekdays ', datetime.time(17, 30), datetime.time(19, 0), 7, 7, 7, '166 Dekalb Ave\\nBrooklyn, NY 11217']\n",
      "['Leyenda', 'Monday - Thursday', datetime.time(17, 0), datetime.time(19, 0), 4, 8, 5, '221 Smith St\\nBrooklyn, NY 11201']\n",
      "['Bearded Lady', 'Monday - Friday', datetime.time(14, 0), datetime.time(19, 0), '$2 off', '$1 off', '-', '686A Washington Ave\\nBrooklyn, NY 11238']\n",
      "['Sycamore', 'Monday - Friday', 'Open', datetime.time(16, 0), '$ 1 off', 4, '$1 off', '1118 Cortelyou Rd\\nBrooklyn, NY 11218']\n"
     ]
    }
   ],
   "source": [
    "# lets print out each row of the worksheet\n",
    "\n",
    "for row in range(1, ws.max_row + 1):\n",
    "    print([cell.value for cell in ws[row]])"
   ]
  },
  {
   "cell_type": "markdown",
   "metadata": {},
   "source": [
    "**By taking a look at some of the output it should already be clear that the excel file contains a lot more useful data after its parsed than the csv does. That's because openpyxl will try to cast values to their apporpriate types. However, the dataset isn't perfect, and not all values could be cast to types that make sense. For instance, in the Beer, cocktail, and Wine column, there are some deals that just say $2 off instead of an actual dollar amount.**\n",
    "\n",
    "**We'll write code that ignores these off datapoints when carrying out our analysis**"
   ]
  },
  {
   "cell_type": "markdown",
   "metadata": {},
   "source": [
    "## When do bars offer thier happy hour specials?"
   ]
  },
  {
   "cell_type": "code",
   "execution_count": 30,
   "metadata": {},
   "outputs": [
    {
     "name": "stdout",
     "output_type": "stream",
     "text": [
      "{'Daily': 13, 'Tuesdau - Thursday': 1, 'Weekdays ': 8, 'Monday - Friday': 9, 'Sunday - Thursday': 1, 'Monday': 1, 'Thursday - Friday': 1, 'Monday - Thursday': 1}\n"
     ]
    }
   ],
   "source": [
    "# From looking at the data we know that Date information is stored in column B\n",
    "\n",
    "def when_is_happy_hour(column):\n",
    "    counts = {}\n",
    "    for cell in column:\n",
    "        if cell.value not in counts:\n",
    "            counts[cell.value] = 1\n",
    "        else:\n",
    "            counts[cell.value] += 1\n",
    "    \n",
    "    return counts\n",
    "\n",
    "# Take all the values from column 'B' excep the header row\n",
    "counts = when_is_happy_hour(ws['B'][1:])\n",
    "\n",
    "print(counts)"
   ]
  },
  {
   "cell_type": "markdown",
   "metadata": {},
   "source": [
    "From this quick analysis we can see that The majority of bars have Happy Hour daily, if you ignore the fact that 'Weekdays' and 'Monday-Friday' technically translate to the same thing. Anyway, the analysis shows that most bars offer happy hour alot"
   ]
  },
  {
   "cell_type": "markdown",
   "metadata": {},
   "source": [
    "### calculate the average length of happy hour accross all the bars in the dataset"
   ]
  },
  {
   "cell_type": "code",
   "execution_count": 39,
   "metadata": {},
   "outputs": [
    {
     "name": "stdout",
     "output_type": "stream",
     "text": [
      "Happy hours last on average 190 minutes\n"
     ]
    }
   ],
   "source": [
    "import datetime as dt\n",
    "\n",
    "def time_to_minutes(time):\n",
    "    return time.hour * 60 + time.minute\n",
    "\n",
    "# remember that the happy hour Start column is C and the End column is D\n",
    "def avg_happy_hour_len(start_col, end_col):\n",
    "    times = []\n",
    "    for start, end in zip(start_col, end_col):\n",
    "        # check that both the start and end value are time objects         \n",
    "        if isinstance(start.value, dt.time) and isinstance(end.value, dt.time):\n",
    "            minutes = time_to_minutes(end.value) - time_to_minutes(start.value)\n",
    "            times.append(minutes)\n",
    "    \n",
    "    # floor division to round down to the nearest minute     \n",
    "    return sum(times) // len(times)\n",
    "\n",
    "avg_hh = avg_happy_hour_len(ws['C'], ws['D'])\n",
    "\n",
    "print(f'Happy hours last on average {avg_hh} minutes')"
   ]
  },
  {
   "cell_type": "code",
   "execution_count": null,
   "metadata": {},
   "outputs": [],
   "source": []
  }
 ],
 "metadata": {
  "kernelspec": {
   "display_name": "Python 3",
   "language": "python",
   "name": "python3"
  },
  "language_info": {
   "codemirror_mode": {
    "name": "ipython",
    "version": 3
   },
   "file_extension": ".py",
   "mimetype": "text/x-python",
   "name": "python",
   "nbconvert_exporter": "python",
   "pygments_lexer": "ipython3",
   "version": "3.6.8"
  }
 },
 "nbformat": 4,
 "nbformat_minor": 2
}
