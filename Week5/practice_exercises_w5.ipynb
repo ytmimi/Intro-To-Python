{
 "cells": [
  {
   "cell_type": "markdown",
   "metadata": {},
   "source": [
    "**1 A) In class we used the csv.reader class to parse data from a csv file. I'd like you to look up how to use the [DictReader Class](https://docs.python.org/3/library/csv.html#csv.DictReader) and use that instead. Using the DictReader, read in the APPL.csv file**"
   ]
  },
  {
   "cell_type": "code",
   "execution_count": 1,
   "metadata": {},
   "outputs": [],
   "source": [
    "# write code read the csv here"
   ]
  },
  {
   "cell_type": "markdown",
   "metadata": {},
   "source": [
    "**1 B) What are some differences between the result when using the csv.reader and csv.DictReader classes?**"
   ]
  },
  {
   "cell_type": "markdown",
   "metadata": {},
   "source": [
    "*write your response here*"
   ]
  },
  {
   "cell_type": "markdown",
   "metadata": {},
   "source": [
    "**1 C) Rewrite the min_price function to use the stock data parsed from the DictReader class**\n",
    "\n",
    "**Hint: Because each row will be a dictionary, you'll need to access values by their keys**"
   ]
  },
  {
   "cell_type": "code",
   "execution_count": null,
   "metadata": {},
   "outputs": [],
   "source": []
  },
  {
   "cell_type": "markdown",
   "metadata": {},
   "source": [
    "**2) Rewrite the max_price function so that you don't use two placeholder variables to store the date and stock price information. The function should still take the list of stock price data as its only argument. Use the APPL.csv file to verify your results**\n",
    "\n",
    "**Hint: Sort the list using the High price data as the key**"
   ]
  },
  {
   "cell_type": "code",
   "execution_count": null,
   "metadata": {},
   "outputs": [],
   "source": [
    "# Write your code here"
   ]
  },
  {
   "cell_type": "markdown",
   "metadata": {},
   "source": [
    "**3 A) Calculate the average return of the stock price in February**\n",
    "\n",
    "**Hint: Filter the data for dates in February, and then calculate the return for each day**"
   ]
  },
  {
   "cell_type": "code",
   "execution_count": null,
   "metadata": {},
   "outputs": [],
   "source": [
    "# Wrtie your code here"
   ]
  },
  {
   "cell_type": "markdown",
   "metadata": {},
   "source": [
    "**3 B) Which month had the lowest average return?**\n",
    "\n",
    "**Hint: Calculate the average return for each month**"
   ]
  },
  {
   "cell_type": "code",
   "execution_count": 3,
   "metadata": {},
   "outputs": [],
   "source": [
    "# write your code here"
   ]
  },
  {
   "cell_type": "markdown",
   "metadata": {},
   "source": [
    "**4) In class we calculated that apple's stock closed lower than it opened on 119 days. Extend that example to calculate the average price loss apple experience on each of those days**\n",
    "\n",
    "**Hint: take the average of the absolute difference on each of those days. The built in [abs](https://docs.python.org/3.4/library/functions.html#abs) might be useful**"
   ]
  },
  {
   "cell_type": "code",
   "execution_count": 2,
   "metadata": {},
   "outputs": [],
   "source": [
    "# write your code here"
   ]
  },
  {
   "cell_type": "code",
   "execution_count": null,
   "metadata": {},
   "outputs": [],
   "source": []
  },
  {
   "cell_type": "code",
   "execution_count": null,
   "metadata": {},
   "outputs": [],
   "source": []
  },
  {
   "cell_type": "code",
   "execution_count": null,
   "metadata": {},
   "outputs": [],
   "source": []
  },
  {
   "cell_type": "code",
   "execution_count": null,
   "metadata": {},
   "outputs": [],
   "source": []
  },
  {
   "cell_type": "markdown",
   "metadata": {},
   "source": [
    "**Take a look at the following [video about matplotlib](https://www.youtube.com/watch?v=UO98lJQ3QGI&t=705s) (a graphing library in python). Create a line chart graphing the price of Apple from the AAPL.csv file.**"
   ]
  },
  {
   "cell_type": "markdown",
   "metadata": {},
   "source": [
    "**Create a bar chart graphing the count of locations in the happy_hour.xlsx file that have drink specials for $6 or less for each category (Beer, Cocktail, Wine)**"
   ]
  },
  {
   "cell_type": "code",
   "execution_count": null,
   "metadata": {},
   "outputs": [],
   "source": []
  }
 ],
 "metadata": {
  "kernelspec": {
   "display_name": "Python 3",
   "language": "python",
   "name": "python3"
  },
  "language_info": {
   "codemirror_mode": {
    "name": "ipython",
    "version": 3
   },
   "file_extension": ".py",
   "mimetype": "text/x-python",
   "name": "python",
   "nbconvert_exporter": "python",
   "pygments_lexer": "ipython3",
   "version": "3.6.8"
  }
 },
 "nbformat": 4,
 "nbformat_minor": 2
}
