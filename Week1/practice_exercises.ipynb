{
 "cells": [
  {
   "cell_type": "markdown",
   "metadata": {},
   "source": [
    "**1) What command do you use to run a cell in a Jupyter Notebook?**"
   ]
  },
  {
   "cell_type": "markdown",
   "metadata": {},
   "source": [
    "write your answer in this cell"
   ]
  },
  {
   "cell_type": "markdown",
   "metadata": {},
   "source": [
    "**2) What command do you use to create a new cell above the current cell**"
   ]
  },
  {
   "cell_type": "markdown",
   "metadata": {},
   "source": [
    "write your answer in this cell"
   ]
  },
  {
   "cell_type": "markdown",
   "metadata": {},
   "source": [
    "**3) How do you create comments in Python?**"
   ]
  },
  {
   "cell_type": "markdown",
   "metadata": {},
   "source": [
    "write your answer in this cell"
   ]
  },
  {
   "cell_type": "markdown",
   "metadata": {},
   "source": [
    "**4) Look back at the variables section of the in class exercises. Describe the rules for creating legal variable names. Give two examples of legal variable names, and one illegal variable name**"
   ]
  },
  {
   "cell_type": "markdown",
   "metadata": {},
   "source": [
    "write your answer in this cell"
   ]
  },
  {
   "cell_type": "markdown",
   "metadata": {},
   "source": [
    "**5) What are the 4 basic data types in Python?**"
   ]
  },
  {
   "cell_type": "markdown",
   "metadata": {},
   "source": [
    "write your answer in this cell"
   ]
  },
  {
   "cell_type": "markdown",
   "metadata": {},
   "source": [
    "**6) What function can you use to find the type of a given object?**"
   ]
  },
  {
   "cell_type": "markdown",
   "metadata": {},
   "source": [
    "write your answer in this cell"
   ]
  },
  {
   "cell_type": "markdown",
   "metadata": {},
   "source": [
    "**7) What is the type of the variable a below?**"
   ]
  },
  {
   "cell_type": "code",
   "execution_count": null,
   "metadata": {},
   "outputs": [],
   "source": [
    "# write code to solve this problem\n",
    "a = 5"
   ]
  },
  {
   "cell_type": "markdown",
   "metadata": {},
   "source": [
    "**8) What is the type of the variable b below?**"
   ]
  },
  {
   "cell_type": "code",
   "execution_count": null,
   "metadata": {},
   "outputs": [],
   "source": [
    "# write code to solve this problem\n",
    "b = \"what am I?\""
   ]
  },
  {
   "cell_type": "markdown",
   "metadata": {},
   "source": [
    "**9 A) list 5 mathematical operators and explain what they do.**"
   ]
  },
  {
   "cell_type": "code",
   "execution_count": null,
   "metadata": {},
   "outputs": [],
   "source": []
  },
  {
   "cell_type": "markdown",
   "metadata": {},
   "source": [
    "**9 B) Do a little math using the 5 operators that you chose. Use the print function to display each result.**\n",
    "\n",
    "*ex) print(5 + 5)*\n",
    "\n",
    "**BONUS: use string formating to make the result look nice**"
   ]
  },
  {
   "cell_type": "code",
   "execution_count": null,
   "metadata": {},
   "outputs": [],
   "source": [
    "# write code to solve this problem"
   ]
  },
  {
   "cell_type": "code",
   "execution_count": null,
   "metadata": {},
   "outputs": [],
   "source": []
  },
  {
   "cell_type": "markdown",
   "metadata": {},
   "source": [
    "**10) Given the following list of numbers find the min, max, and sum of the list**"
   ]
  },
  {
   "cell_type": "code",
   "execution_count": null,
   "metadata": {},
   "outputs": [],
   "source": [
    "nums = [1, 34, 8, 3, -3, 20, 99, -4, 77]\n",
    "# write code to solve this problem"
   ]
  },
  {
   "cell_type": "markdown",
   "metadata": {},
   "source": [
    "**11 A) Head to the Python [Standard Library documentation](https://docs.python.org/3/library/functions.html) and find a built in function we didn't discuss in the first class and describe how it's used**"
   ]
  },
  {
   "cell_type": "markdown",
   "metadata": {},
   "source": [
    "write your answer in this cell"
   ]
  },
  {
   "cell_type": "markdown",
   "metadata": {},
   "source": [
    "**11 B) write code using the new function that you learned**"
   ]
  },
  {
   "cell_type": "code",
   "execution_count": null,
   "metadata": {},
   "outputs": [],
   "source": [
    "# write code to solve this problem"
   ]
  },
  {
   "cell_type": "markdown",
   "metadata": {},
   "source": [
    "**12) Explain why string concatenation isn't ideal for string formatting?**"
   ]
  },
  {
   "cell_type": "markdown",
   "metadata": {},
   "source": [
    "write your answer in this cell"
   ]
  },
  {
   "cell_type": "markdown",
   "metadata": {},
   "source": [
    "**13) concatenate the following two strings**"
   ]
  },
  {
   "cell_type": "code",
   "execution_count": null,
   "metadata": {},
   "outputs": [],
   "source": [
    "string1 = 'Hey '\n",
    "string2 = 'there'\n",
    "# write code to solve this problem"
   ]
  },
  {
   "cell_type": "markdown",
   "metadata": {},
   "source": [
    "**14) Adjust the following f string so the variable \"word\" is repeated 7 times**"
   ]
  },
  {
   "cell_type": "code",
   "execution_count": null,
   "metadata": {},
   "outputs": [],
   "source": [
    "word = \"really \"\n",
    "# write code to solve this problem\n",
    "f'I {word}like learning Python' "
   ]
  },
  {
   "cell_type": "markdown",
   "metadata": {},
   "source": [
    "**15 A) What are the 3 arguments you can place between the [] when using slicing notation**"
   ]
  },
  {
   "cell_type": "markdown",
   "metadata": {},
   "source": [
    "write your answer in this cell"
   ]
  },
  {
   "cell_type": "markdown",
   "metadata": {},
   "source": [
    "**15 B) Use string slicing to get the 5th character of the following string**\n",
    "\n",
    "**HINT: remember that indexing starts at zero**"
   ]
  },
  {
   "cell_type": "code",
   "execution_count": null,
   "metadata": {},
   "outputs": [],
   "source": [
    "company = \"Horizon Media Search\"\n",
    "# write code to solve this problem"
   ]
  },
  {
   "cell_type": "markdown",
   "metadata": {},
   "source": [
    "**15 C) Use slicing notation to return the entire last word \"Search\"**"
   ]
  },
  {
   "cell_type": "code",
   "execution_count": null,
   "metadata": {},
   "outputs": [],
   "source": [
    "# write code to solve this problem"
   ]
  },
  {
   "cell_type": "markdown",
   "metadata": {},
   "source": [
    "**15 D) If you used positive slicing to return Search, trying returning search using negative numbers for the start and stop arguments**"
   ]
  },
  {
   "cell_type": "code",
   "execution_count": null,
   "metadata": {},
   "outputs": [],
   "source": [
    "# write code to solve this problem"
   ]
  },
  {
   "cell_type": "code",
   "execution_count": null,
   "metadata": {},
   "outputs": [],
   "source": []
  },
  {
   "cell_type": "markdown",
   "metadata": {},
   "source": [
    "**Create a string that's 15 characters long. confirm that the string is the correct size using the built in len function**"
   ]
  },
  {
   "cell_type": "code",
   "execution_count": null,
   "metadata": {},
   "outputs": [],
   "source": [
    "# write code to solve this problem"
   ]
  },
  {
   "cell_type": "markdown",
   "metadata": {},
   "source": [
    "**16 A) Given the following string, break it up into a list of individual words. Store the new list in a varriable**\n",
    "\n",
    "**HINT: look up how to split strings**"
   ]
  },
  {
   "cell_type": "code",
   "execution_count": null,
   "metadata": {},
   "outputs": [],
   "source": [
    "my_long_string = ''\n",
    "# write code to solve this problem"
   ]
  },
  {
   "cell_type": "markdown",
   "metadata": {},
   "source": [
    "**16 B) How could you take the list you just created and turn it back into a single string?**"
   ]
  },
  {
   "cell_type": "code",
   "execution_count": null,
   "metadata": {},
   "outputs": [],
   "source": [
    "# write code to solve this problem"
   ]
  },
  {
   "cell_type": "code",
   "execution_count": null,
   "metadata": {},
   "outputs": [],
   "source": []
  },
  {
   "cell_type": "markdown",
   "metadata": {},
   "source": [
    "**17 A) List 5 logical operators and explain what they do**"
   ]
  },
  {
   "cell_type": "markdown",
   "metadata": {},
   "source": [
    "write your answer in this cell"
   ]
  },
  {
   "cell_type": "markdown",
   "metadata": {},
   "source": [
    "**17 B) Use each of the 5 logical operators that you descirbed in part A in an expression that evaluates to True and print the result**\n",
    "\n",
    "**ex) print(5 > 3)**"
   ]
  },
  {
   "cell_type": "code",
   "execution_count": null,
   "metadata": {},
   "outputs": [],
   "source": [
    "# write code to solve this problem"
   ]
  },
  {
   "cell_type": "markdown",
   "metadata": {},
   "source": [
    "**17 C) Use each of the 5 logical operators that you described in part A in an expression that evaluates to False and print the result**\n",
    "\n",
    "**DON'T JUST DO THE OPPOSITE OF WHAT YOU DID IN PART B**"
   ]
  },
  {
   "cell_type": "code",
   "execution_count": null,
   "metadata": {},
   "outputs": [],
   "source": [
    "# write code to solve this proble"
   ]
  },
  {
   "cell_type": "markdown",
   "metadata": {},
   "source": [
    "**18) In this next set of problems I'm going to define a function. If you've made it this far, then you've already had plenty of experience working with some built in Python functions. You're goal is to figure out what the function does and call the function with the given argument to print the correct value**"
   ]
  },
  {
   "cell_type": "code",
   "execution_count": null,
   "metadata": {},
   "outputs": [],
   "source": [
    "def how_much_am_i_drinking(weekday, stress_level):\n",
    "    \"\"\"\n",
    "    weekday: (str) \n",
    "    stress_level: (int) An integer from 1-10\n",
    "    \"\"\"\n",
    "    possible_stress_levels = [1, 2, 3, 4, 5, 6, 7, 8, 9, 10]\n",
    "    if type(stress_level) != int :\n",
    "        raise ValueError('stress_level must be of type int')\n",
    "    \n",
    "    possible_days = ['Monday', 'Tuesday', 'Wednesday', 'Thursday', 'Friday', 'Saturday', 'Sunday']\n",
    "    if type(weekday) != str and weekday not in possible_days:\n",
    "        raise ValueError(f'weekday must be one of the following: {possible_days}')\n",
    "    \n",
    "    if weekday == 'Monday':\n",
    "        if stress_level < 7:\n",
    "            print('I should be responsible')\n",
    "        \n",
    "        else:\n",
    "            print('2 Beers')\n",
    "        \n",
    "    elif weekday == 'Tuesday':\n",
    "        if stress_level == 1:\n",
    "            print(f'{stress_level} marg on Tequila Tuesday')\n",
    "        else:\n",
    "            print(f'{stress_level} margs on Tequila Tuesday')\n",
    "    \n",
    "    elif weekday.startswith('S'):\n",
    "        print('It\\'s the weekend...', end='')\n",
    "        if stress_level <= 6:\n",
    "            print('Shots!')\n",
    "        else:\n",
    "            print('Double Shots!!')\n",
    "        \n",
    "    elif len(weekday) + stress_level >= 15:\n",
    "        print('Too many to count')\n",
    "    \n",
    "    else:\n",
    "        print('I think I\\'ll take it easy')"
   ]
  },
  {
   "cell_type": "markdown",
   "metadata": {},
   "source": [
    "**18 A) Adjust the vlaues of `weekday1` and `stress_level1` to print out**: \"I think I'll take it easy\""
   ]
  },
  {
   "cell_type": "code",
   "execution_count": null,
   "metadata": {},
   "outputs": [],
   "source": [
    "# write code to solve this problem\n",
    "weekday1 = None\n",
    "stress_level1 = None\n",
    "\n",
    "how_much_am_i_drinking(weekday1, stress_level1)"
   ]
  },
  {
   "cell_type": "markdown",
   "metadata": {},
   "source": [
    "**18 B) Adjust the vlaues of `weekday2` and `stress_level2` to print out**: \"9 margs on Tequila Tuesday\""
   ]
  },
  {
   "cell_type": "code",
   "execution_count": null,
   "metadata": {},
   "outputs": [],
   "source": [
    "# write code to solve this problem\n",
    "weekday2 = None\n",
    "stress_level2 = None\n",
    "\n",
    "how_much_am_i_drinking(weekday2 stress_level2)"
   ]
  },
  {
   "cell_type": "markdown",
   "metadata": {},
   "source": [
    "**18 C) Adjust the vlaues of `weekday3` and `stress_level3` to print out**: \"It's the weekend...Shots!!\""
   ]
  },
  {
   "cell_type": "code",
   "execution_count": null,
   "metadata": {},
   "outputs": [],
   "source": [
    "# write code to solve this problem\n",
    "weekday3 = None\n",
    "stress_level3 = None\n",
    "\n",
    "how_much_am_i_drinking(weekday3 stress_level3)"
   ]
  },
  {
   "cell_type": "markdown",
   "metadata": {},
   "source": [
    "**18 D) Adjust the vlaues of `weekday4` and `stress_level4` to print out**: \"2 Beers\""
   ]
  },
  {
   "cell_type": "code",
   "execution_count": null,
   "metadata": {},
   "outputs": [],
   "source": [
    "# write code to solve this problem\n",
    "weekday4 = None\n",
    "stress_level4 = None\n",
    "\n",
    "how_much_am_i_drinking(weekday3 stress_level3)"
   ]
  },
  {
   "cell_type": "markdown",
   "metadata": {},
   "source": [
    "## I'f you're feeling up to it, add a few more cells to the bottom of this notebook and try and print out the remaining combinations"
   ]
  },
  {
   "cell_type": "code",
   "execution_count": null,
   "metadata": {},
   "outputs": [],
   "source": []
  }
 ],
 "metadata": {
  "kernelspec": {
   "display_name": "Python 3",
   "language": "python",
   "name": "python3"
  },
  "language_info": {
   "codemirror_mode": {
    "name": "ipython",
    "version": 3
   },
   "file_extension": ".py",
   "mimetype": "text/x-python",
   "name": "python",
   "nbconvert_exporter": "python",
   "pygments_lexer": "ipython3",
   "version": "3.6.8"
  }
 },
 "nbformat": 4,
 "nbformat_minor": 2
}
