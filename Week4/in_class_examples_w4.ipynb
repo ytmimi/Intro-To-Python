{
 "cells": [
  {
   "cell_type": "markdown",
   "metadata": {},
   "source": [
    "# Recap Last Week\n",
    "\n",
    "We covered:\n",
    "* Comprehensions\n",
    "* Functions\n",
    "* Reading and Writing to (text) files\n",
    "* Error Handling"
   ]
  },
  {
   "cell_type": "markdown",
   "metadata": {},
   "source": [
    "# This Week\n",
    "\n",
    "what we will cover:\n",
    "\n",
    "* How to import python modules\n",
    "* Useful modules in the Python Standard library\n",
    "* Python Classes"
   ]
  },
  {
   "cell_type": "markdown",
   "metadata": {},
   "source": [
    "## How to import python modules\n",
    "\n",
    "There are several different ways to import modules / packages in Python.\n",
    "\n",
    "To demonstrate, we'll use Python's built in math module"
   ]
  },
  {
   "cell_type": "markdown",
   "metadata": {},
   "source": [
    "You can use the **import** keyword followed by the name of a python module to make it availabe in the current program. Any Python Functions or Classes defined within the imported module are available by using the modules name "
   ]
  },
  {
   "cell_type": "code",
   "execution_count": null,
   "metadata": {},
   "outputs": [],
   "source": [
    "import math\n",
    "\n",
    "math.sqrt(4)"
   ]
  },
  {
   "cell_type": "markdown",
   "metadata": {},
   "source": [
    "You can use the **import** and **as** keywords to alias the name of a Python module. Anything defined within the file is available by referencing the knewly assigned alias"
   ]
  },
  {
   "cell_type": "code",
   "execution_count": null,
   "metadata": {},
   "outputs": [],
   "source": [
    "import math as m\n",
    "\n",
    "m.sqrt(4)"
   ]
  },
  {
   "cell_type": "markdown",
   "metadata": {},
   "source": [
    " You can use the **from** and **import** keywords to import specific names from a module"
   ]
  },
  {
   "cell_type": "code",
   "execution_count": null,
   "metadata": {},
   "outputs": [],
   "source": [
    "from math import sqrt\n",
    "\n",
    "sqrt(25)"
   ]
  },
  {
   "cell_type": "markdown",
   "metadata": {},
   "source": [
    "You can also import everything from a package using the **\\*** (wildcard). However, **I would highly recommend that you avoid doing this as it's generally bad practice**. Your code will be much more clear when you're quickly able to identify where your imports are coming from."
   ]
  },
  {
   "cell_type": "code",
   "execution_count": null,
   "metadata": {},
   "outputs": [],
   "source": [
    "from math import *\n",
    "\n",
    "radians(30)"
   ]
  },
  {
   "cell_type": "markdown",
   "metadata": {},
   "source": [
    "## Useful modules in the Python Standard Library\n",
    "\n",
    "There are a ton of convenient packages writen in the Python Standard Library that will help you solve most of the problems you're working on. Getting to know what tools are available out of the box is a great way to level up your Python efficiency. Here are a list of some of the libraries I think you'll get the most out of learning about first\n",
    "\n",
    "* pathlib - High level abstraction on File system paths\n",
    "* datetime - handling dates, times, and calculations\n",
    "* csv - csv file reading and writing\n",
    "* collections - adds new datastructures besides lists, dicts, tuples, and sets for handling collections of objects\n",
    "* re - regular expression patter matching"
   ]
  },
  {
   "cell_type": "markdown",
   "metadata": {},
   "source": [
    "## Working with path objects helps you easily get around your filesystem, open files for reading and writing, and much more."
   ]
  },
  {
   "cell_type": "code",
   "execution_count": null,
   "metadata": {},
   "outputs": [],
   "source": [
    "import pathlib"
   ]
  },
  {
   "cell_type": "code",
   "execution_count": null,
   "metadata": {},
   "outputs": [],
   "source": [
    "# '.' refers to the current directory\n",
    "path = pathlib.Path('.')\n",
    "type(path)\n",
    "print(path)"
   ]
  },
  {
   "cell_type": "code",
   "execution_count": null,
   "metadata": {},
   "outputs": [],
   "source": [
    "# expand the path to be absolute.\n",
    "path.absolute()"
   ]
  },
  {
   "cell_type": "markdown",
   "metadata": {},
   "source": [
    "Easily join paths together in a system agnostic way. Windows Paths and Unix-like Paths (linux + Mac) use different conventions for seperating each item in a path string. Using Pathlib helps you avoid worrying about these inconsistencies"
   ]
  },
  {
   "cell_type": "code",
   "execution_count": null,
   "metadata": {},
   "outputs": [],
   "source": [
    "file = path / 'output.txt'\n",
    "file.absolute()\n",
    "print(file)"
   ]
  },
  {
   "cell_type": "code",
   "execution_count": null,
   "metadata": {},
   "outputs": [],
   "source": [
    "# inspect if a file exists or not\n",
    "file.exists()"
   ]
  },
  {
   "cell_type": "code",
   "execution_count": null,
   "metadata": {},
   "outputs": [],
   "source": [
    "# inspect if a path points to a file or a directory\n",
    "print(file.is_dir())\n",
    "print(file.is_file())\n",
    "\n",
    "# inspect if a path is absolute\n",
    "print(file.is_absolute())"
   ]
  },
  {
   "cell_type": "code",
   "execution_count": null,
   "metadata": {},
   "outputs": [],
   "source": [
    "# easily write to text files\n",
    "file.write_text('hello world!')\n",
    "\n",
    "# checking if the file exists now returns True\n",
    "file.exists()"
   ]
  },
  {
   "cell_type": "code",
   "execution_count": null,
   "metadata": {},
   "outputs": [],
   "source": [
    "# easilty read from files\n",
    "file.read_text('utf-8')"
   ]
  },
  {
   "cell_type": "code",
   "execution_count": null,
   "metadata": {},
   "outputs": [],
   "source": [
    "# path objects can also be passed into the open function\n",
    "\n",
    "with open(file, mode='a') as f:\n",
    "    f.write('A new line')\n",
    "    \n",
    "file.read_text('utf-8')"
   ]
  },
  {
   "cell_type": "markdown",
   "metadata": {},
   "source": [
    "**A helpful hint when working with new objects. Use the dir builtin function to return a list of all attributes and methods**\n",
    "\n",
    "    ex) dir(some_object)"
   ]
  },
  {
   "cell_type": "code",
   "execution_count": null,
   "metadata": {},
   "outputs": [],
   "source": [
    "dir(file)"
   ]
  },
  {
   "cell_type": "markdown",
   "metadata": {},
   "source": [
    "## Working with dates and times in Python is made easy with the datetime module"
   ]
  },
  {
   "cell_type": "code",
   "execution_count": null,
   "metadata": {},
   "outputs": [],
   "source": [
    "# it's common convention to import datetime as dt\n",
    "import datetime as dt"
   ]
  },
  {
   "cell_type": "code",
   "execution_count": null,
   "metadata": {},
   "outputs": [],
   "source": [
    "# we can create a date object by providing a year, month and day\n",
    "some_date = dt.date(1995, 2, 2)\n",
    "print(some_date)\n",
    "another_date = dt.date(year=2019, month=2, day=2)\n",
    "print(another_date)"
   ]
  },
  {
   "cell_type": "code",
   "execution_count": null,
   "metadata": {},
   "outputs": [],
   "source": [
    "# you can easilty get the current date based on your system time\n",
    "today = dt.date.today()\n",
    "print(today)\n",
    "print(repr(today))\n",
    "print(type(today))"
   ]
  },
  {
   "cell_type": "code",
   "execution_count": null,
   "metadata": {},
   "outputs": [],
   "source": [
    "# accessing the different attributes of the date object\n",
    "print(today.year)\n",
    "print(today.month)\n",
    "print(today.day)"
   ]
  },
  {
   "cell_type": "markdown",
   "metadata": {},
   "source": [
    "user the strftime -- string format time -- method to change how the string gets printed. Here's a cheatsheet containing other [format codes](http://strftime.org/)"
   ]
  },
  {
   "cell_type": "code",
   "execution_count": null,
   "metadata": {},
   "outputs": [],
   "source": [
    "today.strftime('%m-----%d-----%Y')"
   ]
  },
  {
   "cell_type": "code",
   "execution_count": null,
   "metadata": {},
   "outputs": [],
   "source": [
    "# Check out what you can do with date objects\n",
    "dir(today)"
   ]
  },
  {
   "cell_type": "code",
   "execution_count": null,
   "metadata": {},
   "outputs": [],
   "source": [
    "# date time objects are just like date objects except they contain timestamps as well\n",
    "now = dt.datetime.now()\n",
    "print(now)"
   ]
  },
  {
   "cell_type": "code",
   "execution_count": null,
   "metadata": {},
   "outputs": [],
   "source": [
    "# you can perform mathematical operations on time objects using timedelta objects\n",
    "result = today - dt.timedelta(days=7)\n",
    "print(today)\n",
    "print(result)\n",
    "print(type(result))\n",
    "print(repr(result))\n"
   ]
  },
  {
   "cell_type": "code",
   "execution_count": null,
   "metadata": {},
   "outputs": [],
   "source": [
    "def hours_from_days(some_timedelta):\n",
    "    return some_timedelta.days * 24\n",
    "\n",
    "\n",
    "print(today - result)\n",
    "\n",
    "hours_from_days(today - result)"
   ]
  },
  {
   "cell_type": "markdown",
   "metadata": {},
   "source": [
    "# Classes"
   ]
  },
  {
   "cell_type": "markdown",
   "metadata": {},
   "source": [
    "## Defining a class\n",
    "\n",
    "You can think of a class as a blueprint. It defines the **attribures** and **methods** that a Python object has. It creates some basic structure that each instance of the class has in common. Thinking about a class as a blueprint is a good anology. Think about an archetect drafting the floorplan for a building. It's likely that each differnt floors of the sam building will have the same layout. That floor plan isn't the physical space that you can live in, but instead describes where all the rooms will be, and how the large the space is. Each room / floor can be thought of as an instance of that floor plan. They follow the design specified in the floor plan, but are unique in the way that they are furnished.\n",
    "\n",
    "Another anaology you might use is a recepie for a cake. Although the recepie describes and defines all the things that are in the cake, we can all agree that it isn't actually the cake. You can think of baking the cake as instantiating the cake, and the final cake that comes out as the final cake object or instance.\n",
    "\n",
    "\n",
    "You define a class using the **class** keyword followed by the name of the class. Generally the name should be in **Pascal Case**, which means the first letter of each word is capitalized. **If** your class inherits from another class you'll add the name of the parent class in parenthases. Like other things in Python, you'll also end the class definition with **:**  \n",
    "    # a class that doesn't inherit from another class\n",
    "    class SomeClass:\n",
    "        pass\n",
    "       \n",
    "    \n",
    "    # a class that inherits from SomeClass\n",
    "    class AnotherClass(SomeClass):\n",
    "        pass"
   ]
  },
  {
   "cell_type": "code",
   "execution_count": null,
   "metadata": {},
   "outputs": [],
   "source": [
    "# The simplist class is an empty class\n",
    "class Person:\n",
    "    pass\n"
   ]
  },
  {
   "cell_type": "markdown",
   "metadata": {},
   "source": [
    "## Instantiating a class\n",
    "\n",
    "Instantiating a class just means creating a unique member of that class. We've already instantiated datetime and pathlib objects earlier in this lecture. Instantiating a class is similar to calling a function in the sense that all we need to do is give the class definition everything it needs to know in order to create a particular version of the object it represents.\n",
    "\n"
   ]
  },
  {
   "cell_type": "code",
   "execution_count": null,
   "metadata": {},
   "outputs": [],
   "source": [
    "# We instantiate a person with zero arguments because none were defined\n",
    "person1 = Person()\n",
    "print(type(person1))\n",
    "\n",
    "# Here are some default methods that a blank class has\n",
    "print(dir(person1))"
   ]
  },
  {
   "cell_type": "markdown",
   "metadata": {},
   "source": [
    "If your class allows it, it's possible to arbitrarily assign new attributes and methods on the fly"
   ]
  },
  {
   "cell_type": "code",
   "execution_count": null,
   "metadata": {},
   "outputs": [],
   "source": [
    "person1.first_name = \"Yacin\"\n",
    "\n",
    "print(person1.first_name)"
   ]
  },
  {
   "cell_type": "markdown",
   "metadata": {},
   "source": [
    "Typically it's not a good idea to arbitrarily assign attributes after an object has been instantiated becuase it means that you two objects of the same type will have different behavior, and this can easily lead to errors in your code. Take the following example"
   ]
  },
  {
   "cell_type": "code",
   "execution_count": null,
   "metadata": {},
   "outputs": [],
   "source": [
    "bob = Person()\n",
    "bob.first_name = 'Bob'\n",
    "\n",
    "tom = Person()\n",
    "tom.first_name = 'Tom'\n",
    "tom.last_name = 'Smith'\n",
    "\n",
    "\n",
    "print(tom.first_name, )\n",
    "print(tom.last_name)\n",
    "\n",
    "print(bob.first_name)\n",
    "print(bob.last_name)"
   ]
  },
  {
   "cell_type": "markdown",
   "metadata": {},
   "source": [
    "As you see trying to access an attribute on an instance / object that doesn't exists raises an error, and this is the type of problem that you can run into if you arbitrarily add new attributes to an object"
   ]
  },
  {
   "cell_type": "markdown",
   "metadata": {},
   "source": [
    "## Instantiating with attributes\n",
    "\n",
    "instead of assigning attributes on the fly, it's better to create each object with all the attributes that it needs. You define these attributes on a special method called **\\_\\_init\\_\\_**.\n",
    "\n",
    "**IMPORTANT: ALL CLASS METHODS TAKE THE INSTANCE AS THE FIRST ARGUMENT, AND IN PYTHON IT IS TYPICALLY REFERED TO AS SELF**"
   ]
  },
  {
   "cell_type": "code",
   "execution_count": null,
   "metadata": {},
   "outputs": [],
   "source": [
    "# here we redefine the Person class and give it an __init__ method\n",
    "class Person:\n",
    "    def __init__(self, first_name, age, height, weight):\n",
    "        self.name = first_name\n",
    "        self.age = age\n",
    "        self.height = height\n",
    "        self.weight = weight\n",
    "\n",
    "# we define two different Person objects that have unique characteristics\n",
    "person2 = Person('Yacin', 24, '5-10', 195)\n",
    "person3 = Person('Amin', 24, '5-10', 175)\n",
    "\n",
    "print(person2.name)\n",
    "print(person3.name)\n",
    "print(person3.weight)"
   ]
  },
  {
   "cell_type": "markdown",
   "metadata": {},
   "source": [
    "The **\\_\\_init\\_\\_** method describes all the values that an object needs to be instantiated.Similarly to calling a function, Failing to provide each required argument will cause an error to be thrown. "
   ]
  },
  {
   "cell_type": "code",
   "execution_count": null,
   "metadata": {},
   "outputs": [],
   "source": [
    "# leaving out the weight argument\n",
    "\n",
    "bad_person = Person('Donald', 71, '6-3')\n",
    "bad_person.weight"
   ]
  },
  {
   "cell_type": "markdown",
   "metadata": {},
   "source": [
    "## self\n",
    "\n",
    "As mentioned before, all normal methods implicitly take the instance as the first argument. Having access to the current instance through **\"self\"** means that we can access all the unique values set on that instance. This allows us to work with a common interface for each object of a given class, but return unique results based on the attributes of the specific object. \n",
    "\n",
    "\n",
    "**IMPORTANT: self is just a common convention. you can technically call that varibale whatever you want, but other people reading your code will hate you for it**"
   ]
  },
  {
   "cell_type": "code",
   "execution_count": null,
   "metadata": {},
   "outputs": [],
   "source": [
    "class Person:\n",
    "    def __init__(self, first_name, age, height, weight):\n",
    "        self.name = first_name\n",
    "        self.age = age\n",
    "        self.height = height\n",
    "        self.weight = weight\n",
    "    \n",
    "    def describe_myself(self):\n",
    "        return f'Hi, my name is {self.name} and I\\'m {self.age} years old.'\n",
    "\n",
    "\n",
    "yacin = Person('Yacin', 24, '5-10', 195)\n",
    "amin = Person('Amin', 24, '5-10', 175)\n",
    "\n",
    "tom = Person('Tom', 45, '6-0', 200)\n",
    "\n",
    "print(yacin.describe_myself())\n",
    "print(amin.describe_myself())\n",
    "print(tom.describe_myself())"
   ]
  },
  {
   "cell_type": "markdown",
   "metadata": {},
   "source": [
    "## Methods vs Functions\n",
    "\n",
    "Both methods and functions are callables in Python. What that means is that they can be called on to execute code. The difference is that a function is not defined within a class, whereas a method is defined on a class and can access instance attributes and methods internally."
   ]
  },
  {
   "cell_type": "code",
   "execution_count": null,
   "metadata": {},
   "outputs": [],
   "source": [
    "def two_times_age(animal):\n",
    "    if not isinstance(animal, Animal):\n",
    "        raise ValueError('Must be of type Animal')\n",
    "    return animal.age * 2\n",
    "\n",
    "\n",
    "class Animal:\n",
    "    def __init__(self, name, age, species):\n",
    "        self.name = name\n",
    "        self.age = age\n",
    "        self.species = species\n",
    "    \n",
    "    def twice_as_old(self):\n",
    "        return self.age * 2\n",
    "\n",
    "\n",
    "dog = Animal('puppy', 1, 'dog')\n",
    "cat = Animal('kitten', 2, 'cat')\n",
    "\n",
    "# Here we call a method off an object, and the instance is passed explicitly\n",
    "print(dog.twice_as_old())\n",
    "\n",
    "# Here we call a function and explicitly pass the instance\n",
    "print(two_times_age(cat))\n",
    "\n",
    "# print(two_times_age(yacin))\n",
    "\n",
    "print(dog)"
   ]
  },
  {
   "cell_type": "markdown",
   "metadata": {},
   "source": [
    "## Extending Python's Object Model\n",
    "\n",
    "remember back to the **Instantiating a Class** section of the notes where we used **dir** on the empty **Person** class. There were all the names that had double underscores. These are commonly refered to as dunder methods (double underscore). Most of these dunder methods correspond to some top level functionality in Python. For example **\\_\\_str\\_\\_** is what gets called when you try to print an object to the screen. It might be helpful to know that **\\_\\_repr\\_\\_** is used as a fallback if **\\_\\_str\\_\\_** isn't defined. Of coarse that means that **\\_\\_repr\\_\\_** would need to be defined."
   ]
  },
  {
   "cell_type": "code",
   "execution_count": null,
   "metadata": {},
   "outputs": [],
   "source": [
    "# lets dine two classes, one with a __str__ and another without it\n",
    "\n",
    "class Fruit:\n",
    "    def __init__(self, name):\n",
    "        self.name = name\n",
    "        \n",
    "\n",
    "class Line:\n",
    "    def __init__(self, x1, y1, x2, y2):\n",
    "        self.x1 = x1 \n",
    "        self.x2 = x2\n",
    "        self.y1 = y1\n",
    "        self.y2 = y2\n",
    "    \n",
    "    def __str__(self):\n",
    "        return f'({self.x1}, {self.y1}), ({self.x2}, {self.y2})'\n",
    "\n",
    "    \n",
    "apple = Fruit('apple')\n",
    "\n",
    "line = Line(0,0, 22, 7)\n",
    "\n",
    "print(f'no __str__: {apple}')\n",
    "print(f'has __str__: {line}')"
   ]
  },
  {
   "cell_type": "markdown",
   "metadata": {},
   "source": [
    "As you can see, when you don't define an **\\_\\_str\\_\\_** on an object, all you get is the memory location where the object is stored. However, when you do define an **\\_\\_str\\_\\_** you can return an appropriate representation of that object"
   ]
  },
  {
   "cell_type": "markdown",
   "metadata": {},
   "source": [
    "## Inheritance\n",
    "\n",
    "Inheritance is when one class gets attributes and methods from a parent class. This means that whatever methods are defined on the parent class will also be available to the child class. If both the child and the parent class define a method with the same name, then the child method will alwasy be called."
   ]
  },
  {
   "cell_type": "code",
   "execution_count": null,
   "metadata": {},
   "outputs": [],
   "source": [
    "# we inherit from the Animal class defined above\n",
    "class Dog(Animal):\n",
    "    def __init__(self, name, age, fur_color):\n",
    "        super().__init__(name, age, 'dog')\n",
    "        self.fur_color = fur_color\n",
    "    \n",
    "    def __str__(self):\n",
    "        return self.name\n",
    "    \n",
    "    def noise(self, is_excited):\n",
    "        if is_excited:\n",
    "            return 'Woof Woof'.upper()\n",
    "        else:\n",
    "            return 'Woof Woof Woof'.lower()\n",
    "    \n",
    "        \n",
    "dog1 = Dog('Max', 1, 'brown')\n",
    "dog2 = Dog('Tj', 3, 'white')\n",
    "\n",
    "# If it wasn't clear, methods can also take as many parameters as you define\n",
    "print(f'{dog1}: {dog1.noise(True)}')\n",
    "\n",
    "# Note that twice_as_old is not defined on this class, yet it still has access to the method becuause it is defined on the \n",
    "# parent class\n",
    "print(f'{dog1}: {dog1.twice_as_old()}')\n",
    "\n",
    "\n",
    "print(f'{dog2}: {dog1.noise(False)}')\n",
    "print(f'{dog2}: {dog1.twice_as_old()}')"
   ]
  },
  {
   "cell_type": "markdown",
   "metadata": {},
   "source": [
    "## Time permitting we'll cover some more built in python modules that you can use"
   ]
  },
  {
   "cell_type": "code",
   "execution_count": null,
   "metadata": {},
   "outputs": [],
   "source": []
  },
  {
   "cell_type": "markdown",
   "metadata": {},
   "source": [
    "# Additional Resources\n",
    "\n",
    "* [More on Python Modules and Packages](https://realpython.com/python-modules-packages/)\n",
    "* [Python Standard Library](https://docs.python.org/3/library/). Learn more about the Python packages we discussed in class.\n",
    "* [Python Class Video](https://www.youtube.com/watch?v=apACNr7DC_s). Minus the robotic voice, it's a pretty good video on classes\n",
    "* [Dunder Methods](https://dbader.org/blog/python-dunder-methods)"
   ]
  },
  {
   "cell_type": "code",
   "execution_count": null,
   "metadata": {},
   "outputs": [],
   "source": []
  }
 ],
 "metadata": {
  "kernelspec": {
   "display_name": "Python 3",
   "language": "python",
   "name": "python3"
  },
  "language_info": {
   "codemirror_mode": {
    "name": "ipython",
    "version": 3
   },
   "file_extension": ".py",
   "mimetype": "text/x-python",
   "name": "python",
   "nbconvert_exporter": "python",
   "pygments_lexer": "ipython3",
   "version": "3.6.8"
  }
 },
 "nbformat": 4,
 "nbformat_minor": 2
}
