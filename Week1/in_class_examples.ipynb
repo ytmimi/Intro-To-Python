{
 "cells": [
  {
   "cell_type": "markdown",
   "metadata": {},
   "source": [
    "# Comments\n",
    "Comments in Python are simple.\n",
    "Single line comments use a # and multi line comments use ''' '''."
   ]
  },
  {
   "cell_type": "code",
   "execution_count": null,
   "metadata": {},
   "outputs": [],
   "source": [
    "# sigle or double quotes work just fine\n",
    "\"\"\"\n",
    "Multi\n",
    "Line\n",
    "comment\n",
    "\"\"\"\n",
    "\n",
    "# Single line comment\n",
    "\n"
   ]
  },
  {
   "cell_type": "markdown",
   "metadata": {},
   "source": [
    "# Variables\n",
    "\n",
    "The excerpt from the following [article](https://realpython.com/python-variables/) does a good job of explaining some of the restrictions when it comes to choosing variable names:\n",
    "\n",
    "    \"Officially, variable names in Python can be any length and can consist of uppercase and lowercase letters (A-Z, a-z), \n",
    "    digits (0-9), and the underscore character (_). An additional restriction is that, although a variable name can contain \n",
    "    digits, the first character of a variable name cannot be a digit.\"\n",
    "\n",
    "The equal sign ( = ) is the assignment opperator in Python.\n",
    "a = 8 means that we're assigning the value 8 to the variable \"a\"\n",
    "Python is a dynamically typed language, which means we never have to declare the \"type\" of our variables"
   ]
  },
  {
   "cell_type": "code",
   "execution_count": null,
   "metadata": {},
   "outputs": [],
   "source": [
    "a = 8"
   ]
  },
  {
   "cell_type": "code",
   "execution_count": null,
   "metadata": {},
   "outputs": [],
   "source": [
    "print(a)"
   ]
  },
  {
   "cell_type": "markdown",
   "metadata": {},
   "source": [
    "# Data Types\n",
    "There are 4 basic data types in Python\n",
    "* Integers (int)\n",
    "* Floating-Point Numbers (float)\n",
    "* Strings (str)\n",
    "* Booleans (bool)"
   ]
  },
  {
   "cell_type": "markdown",
   "metadata": {},
   "source": [
    "You can check the type of an object with the built in type function"
   ]
  },
  {
   "cell_type": "code",
   "execution_count": null,
   "metadata": {},
   "outputs": [],
   "source": [
    "type(45)"
   ]
  },
  {
   "cell_type": "code",
   "execution_count": null,
   "metadata": {},
   "outputs": [],
   "source": [
    "type(22.7)"
   ]
  },
  {
   "cell_type": "code",
   "execution_count": null,
   "metadata": {},
   "outputs": [],
   "source": [
    "type('Python is awesome')"
   ]
  },
  {
   "cell_type": "code",
   "execution_count": null,
   "metadata": {},
   "outputs": [],
   "source": [
    "type(True)"
   ]
  },
  {
   "cell_type": "markdown",
   "metadata": {},
   "source": [
    "## Numbers (Ints and Floats)\n",
    "The main difference between floats and ints is that integers are whole numbers and floats have decimals"
   ]
  },
  {
   "cell_type": "markdown",
   "metadata": {},
   "source": [
    "### Mathematical Operators\n",
    "* add (+)\n",
    "* subtract (-)\n",
    "* multiply (*)\n",
    "* divide (/)\n",
    "* floor division (//)\n",
    "* modul (%)\n",
    "* power (**)"
   ]
  },
  {
   "cell_type": "code",
   "execution_count": null,
   "metadata": {},
   "outputs": [],
   "source": [
    "# + adds two numbers together\n",
    "5 + 5"
   ]
  },
  {
   "cell_type": "code",
   "execution_count": null,
   "metadata": {},
   "outputs": [],
   "source": [
    "# - is used for subtraction\n",
    "5 - 6"
   ]
  },
  {
   "cell_type": "code",
   "execution_count": null,
   "metadata": {},
   "outputs": [],
   "source": [
    "# * is used to mutiply two numbers together\n",
    "8 * 9"
   ]
  },
  {
   "cell_type": "code",
   "execution_count": null,
   "metadata": {},
   "outputs": [],
   "source": [
    "# / is used for division. In python 3 this will always return a Float even if the numbers strat with are both integers\n",
    "16 / 4"
   ]
  },
  {
   "cell_type": "code",
   "execution_count": null,
   "metadata": {},
   "outputs": [],
   "source": [
    "# // is used for floor division and will throw away any remainder"
   ]
  },
  {
   "cell_type": "code",
   "execution_count": null,
   "metadata": {},
   "outputs": [],
   "source": [
    "9 / 5"
   ]
  },
  {
   "cell_type": "code",
   "execution_count": null,
   "metadata": {},
   "outputs": [],
   "source": [
    "9 // 5"
   ]
  },
  {
   "cell_type": "code",
   "execution_count": null,
   "metadata": {},
   "outputs": [],
   "source": [
    "# % is used to return the remainder of after dividing (is useful for determining whether a number is even or odd)"
   ]
  },
  {
   "cell_type": "code",
   "execution_count": null,
   "metadata": {},
   "outputs": [],
   "source": [
    "5 % 2"
   ]
  },
  {
   "cell_type": "code",
   "execution_count": null,
   "metadata": {},
   "outputs": [],
   "source": [
    "# ** is used to raise numbers to a certain power\n",
    "2 ** 3"
   ]
  },
  {
   "cell_type": "markdown",
   "metadata": {},
   "source": [
    "It might not be immideately obvious, but each of these mathematical operations returned a value. For example 16 / 4 returned 4. If you wanted to you could store the result in a variable"
   ]
  },
  {
   "cell_type": "code",
   "execution_count": null,
   "metadata": {},
   "outputs": [],
   "source": [
    "b = 8 + 7"
   ]
  },
  {
   "cell_type": "code",
   "execution_count": null,
   "metadata": {},
   "outputs": [],
   "source": [
    "b"
   ]
  },
  {
   "cell_type": "markdown",
   "metadata": {},
   "source": [
    "### [Standard Library Functions](https://docs.python.org/3/library/functions.html)\n",
    "One of the things that makes Python so great is the Standard Library. This is a set of Packages and functions that you get for free once you install Python. Python is sometimes referred to as having batteries included and it's largely due to the awesome (and useful) tools in the Standard Library.\n",
    "\n",
    "Some useful function for mathematical operations and comparisons include:\n",
    "* min \n",
    "* max\n",
    "* sum\n",
    "* round"
   ]
  },
  {
   "cell_type": "code",
   "execution_count": null,
   "metadata": {},
   "outputs": [],
   "source": [
    "# as you would expect, min returns the smallest number in a collection\n",
    "min(4, 6, 99, 32, -7, 2)"
   ]
  },
  {
   "cell_type": "code",
   "execution_count": null,
   "metadata": {},
   "outputs": [],
   "source": [
    "# similarly, max returns the largest number in a collection\n",
    "max(5, 6, 99, 32, -7, 2)"
   ]
  },
  {
   "cell_type": "code",
   "execution_count": null,
   "metadata": {},
   "outputs": [],
   "source": [
    "# sum will return the sum of numbers in a collection, here we sum a list of numbers\n",
    "sum([5, 6, 99, 32, -7, 2])"
   ]
  },
  {
   "cell_type": "code",
   "execution_count": null,
   "metadata": {},
   "outputs": [],
   "source": [
    "# round will round a decimal number to a specified amount of digits\n",
    "round(4.59421, 2)"
   ]
  },
  {
   "cell_type": "markdown",
   "metadata": {},
   "source": [
    "## Strings\n",
    "Strings are another basic data type in Python and can either be created using single or double quotes\n",
    "\n",
    "for example, 'this is a string' and \"this is also a string\"\n",
    "\n",
    "it doesn't matter whether you use single or double quotes, but for styling it's a good idea to stay consistent"
   ]
  },
  {
   "cell_type": "code",
   "execution_count": null,
   "metadata": {},
   "outputs": [],
   "source": [
    "'this is a string'"
   ]
  },
  {
   "cell_type": "code",
   "execution_count": null,
   "metadata": {},
   "outputs": [],
   "source": [
    "\"This is also a string\""
   ]
  },
  {
   "cell_type": "markdown",
   "metadata": {},
   "source": [
    "### Strings and Operators\n",
    "surprisingly, strings also use the + and * operator"
   ]
  },
  {
   "cell_type": "code",
   "execution_count": null,
   "metadata": {},
   "outputs": [],
   "source": [
    "# using the + operator will concatenate two strings\n",
    "'hello' + ' world!'"
   ]
  },
  {
   "cell_type": "code",
   "execution_count": null,
   "metadata": {},
   "outputs": [],
   "source": [
    "# variables that are strings can also be used when concatenating strings\n",
    "flower = 'rose'\n",
    "'the '+ flower +' is red' "
   ]
  },
  {
   "cell_type": "markdown",
   "metadata": {},
   "source": [
    "**Note that using concatenation to format strings isn't advised because the syntax is clunky.You have to manually add spaces between the things you want to combine, and it only becomes harder to reason about once you start adding many variables. Don't worry, there is a better way**"
   ]
  },
  {
   "cell_type": "code",
   "execution_count": null,
   "metadata": {},
   "outputs": [],
   "source": [
    "# trying to concatenate something that isn't a string with a string will result in an error\n",
    "\n",
    "'I am '+ 24 + ' years old!'"
   ]
  },
  {
   "cell_type": "code",
   "execution_count": null,
   "metadata": {},
   "outputs": [],
   "source": [
    "# you'll have to cast the object to a string for concatenation to work\n",
    "# Again, this is another reason why string concatenation isn't great for formating strings. It's error prone.\n",
    "\n",
    "'I am ' + str(24) + ' year old'"
   ]
  },
  {
   "cell_type": "code",
   "execution_count": null,
   "metadata": {},
   "outputs": [],
   "source": [
    "# using the * operator the string will be repeated\n",
    "\n",
    "'%' * 50"
   ]
  },
  {
   "cell_type": "markdown",
   "metadata": {},
   "source": [
    "### String Slicing\n",
    "\n",
    "String slicing if a useful feature  that helps us get single characters from a string, or entire chuncks of a string.\n",
    "It's important to note that indexing starts at zero\n",
    "\n",
    "Slicing syntax uses brackst [] and takes 3 colon seperated arguments [start:stop:step] where start is the first character of the slice, stop is where slicing stops but is not included in the slice, and step is the frequency of the slice\n",
    "\n",
    "excluding stop and step arguments will return a single character at the index position specified"
   ]
  },
  {
   "cell_type": "code",
   "execution_count": null,
   "metadata": {},
   "outputs": [],
   "source": [
    "my_string = \"Some really long and really random string\""
   ]
  },
  {
   "cell_type": "code",
   "execution_count": null,
   "metadata": {},
   "outputs": [],
   "source": [
    "# Again remember that indexing starts at zero, so slicing the string on the first (zeroth index) will return \"S\"\n",
    "my_string[0]"
   ]
  },
  {
   "cell_type": "code",
   "execution_count": null,
   "metadata": {},
   "outputs": [],
   "source": [
    "# Adding the stop argument will return a slice up to, but not including, the stop argument\n",
    "my_string[5:10]"
   ]
  },
  {
   "cell_type": "code",
   "execution_count": null,
   "metadata": {},
   "outputs": [],
   "source": [
    "# adding the step argument will determin the frequency of the characters that are returned, for example 3 will return every 3rd character\n",
    "my_string[0:24:3]"
   ]
  },
  {
   "cell_type": "code",
   "execution_count": null,
   "metadata": {},
   "outputs": [],
   "source": [
    "# if stop is left blank the slice will continue to the end of the string\n",
    "my_string[16:]"
   ]
  },
  {
   "cell_type": "code",
   "execution_count": null,
   "metadata": {},
   "outputs": [],
   "source": [
    "# stop can also be left blank while providing a step frequency\n",
    "my_string[16::2]"
   ]
  },
  {
   "cell_type": "code",
   "execution_count": null,
   "metadata": {},
   "outputs": [],
   "source": [
    "# You can also leave the start argument blank and it will continue to the stop\n",
    "my_string[:10]"
   ]
  },
  {
   "cell_type": "code",
   "execution_count": null,
   "metadata": {},
   "outputs": [],
   "source": [
    "# Another really convenient feature of slicing is that you can perform negative slicing to return values from the end of the string\n",
    "my_string[-1]"
   ]
  },
  {
   "cell_type": "code",
   "execution_count": null,
   "metadata": {},
   "outputs": [],
   "source": [
    "# you can also take slices using negative indexing\n",
    "my_string[-12:-3]"
   ]
  },
  {
   "cell_type": "code",
   "execution_count": null,
   "metadata": {},
   "outputs": [],
   "source": [
    "# you can also step using a negaitve number to reverse the string\n",
    "my_string[::-1]"
   ]
  },
  {
   "cell_type": "markdown",
   "metadata": {},
   "source": [
    "### String Formatting\n",
    "\n",
    "Way better alternatives to string concatenation"
   ]
  },
  {
   "cell_type": "markdown",
   "metadata": {},
   "source": [
    "string objects have a built in `format` method. placeholders can be placed using {} and a list of objects can be provided to the fromat method"
   ]
  },
  {
   "cell_type": "code",
   "execution_count": null,
   "metadata": {},
   "outputs": [],
   "source": [
    "weekday = 'Monday'\n",
    "\n",
    "'{} is the worst'.format(weekday)"
   ]
  },
  {
   "cell_type": "markdown",
   "metadata": {},
   "source": [
    "As of Python 3.6, \"f\" strings were introduced. you create them by prepending f to the front of a string. Similarly to the format method you can add placeholders with {}, but you place the object directly into the placeholder"
   ]
  },
  {
   "cell_type": "code",
   "execution_count": null,
   "metadata": {},
   "outputs": [],
   "source": [
    "f'{weekday} is the worst'"
   ]
  },
  {
   "cell_type": "markdown",
   "metadata": {},
   "source": [
    "expressions can also be evaluated in \"f\" strings"
   ]
  },
  {
   "cell_type": "code",
   "execution_count": null,
   "metadata": {},
   "outputs": [],
   "source": [
    "f'32 + 4 = {32 + 4}'"
   ]
  },
  {
   "cell_type": "markdown",
   "metadata": {},
   "source": [
    "### String Methods\n",
    "\n",
    "We've already seen that strings have a format method that can be called on them. There are other methods you can call on strings.\n",
    "\n",
    "* replace\n",
    "* endswith\n",
    "* startswith\n",
    "* join\n",
    "* lower\n",
    "* upper\n",
    "* ...etc"
   ]
  },
  {
   "cell_type": "code",
   "execution_count": null,
   "metadata": {},
   "outputs": [],
   "source": [
    "# replace is used to replace a set of characters in a string\n",
    "best_day = 'Thursday'\n",
    "best_day.replace('Thurs', 'Fri')"
   ]
  },
  {
   "cell_type": "code",
   "execution_count": null,
   "metadata": {},
   "outputs": [],
   "source": [
    "# endswith returns True or False whether a string ends with the specified characters\n",
    "url = 'yahoo.com'\n",
    "url.endswith('.com')"
   ]
  },
  {
   "cell_type": "code",
   "execution_count": null,
   "metadata": {},
   "outputs": [],
   "source": [
    "# similarly starts with returns True or False if a string starts with some specified character\n",
    "man = 'Mr. Smith'\n",
    "man.startswith('Mrs.')"
   ]
  },
  {
   "cell_type": "code",
   "execution_count": null,
   "metadata": {},
   "outputs": [],
   "source": [
    "# join takes a list of strings as an argument and joins them together on the given characters\n",
    "colors = ['red', 'blue', 'green', 'yellow']\n",
    "' -- '.join(colors)"
   ]
  },
  {
   "cell_type": "code",
   "execution_count": null,
   "metadata": {},
   "outputs": [],
   "source": [
    "# lower returns the same string all in lower case. Good for case insensitive checks\n",
    "upper_case_words = 'JUST A BUNCH OF UPPER CASE WORDS'\n",
    "upper_case_words.lower()"
   ]
  },
  {
   "cell_type": "code",
   "execution_count": null,
   "metadata": {},
   "outputs": [],
   "source": [
    "# upper returns the same string all in upper case. Also, good for case insensitve checks\n",
    "lower_case_words = 'all lower case'\n",
    "lower_case_words.upper()"
   ]
  },
  {
   "cell_type": "markdown",
   "metadata": {},
   "source": [
    "### Some usefull built in functions that you can use with strings\n",
    "\n",
    "* print\n",
    "* len"
   ]
  },
  {
   "cell_type": "code",
   "execution_count": null,
   "metadata": {},
   "outputs": [],
   "source": [
    "# print will print the string to the console. By default the Jupyter Notebook will display the value of the last value in the cell\n",
    "print('Hey there')"
   ]
  },
  {
   "cell_type": "code",
   "execution_count": null,
   "metadata": {},
   "outputs": [],
   "source": [
    "# len will return the length of the string, it actually works with other objects as well, but we'll get into that later\n",
    "len('some reallllllllllyyyyyyyyyyyyyy loooooooonnnnnnnnggggggg  sssssttttrrrrriiiiiinnnnngggg')"
   ]
  },
  {
   "cell_type": "markdown",
   "metadata": {},
   "source": [
    "## Booleans\n",
    "A boolean is either True or False"
   ]
  },
  {
   "cell_type": "markdown",
   "metadata": {},
   "source": [
    "### Logical (comparison) Operators\n",
    "\n",
    "* equal ==\n",
    "* not equal !=\n",
    "* greater than >\n",
    "* greater than or equal >=\n",
    "* less than <\n",
    "* less than or equal <=\n",
    "\n",
    "**We'll cover these later**\n",
    "* is -- checks if two objects are the same\n",
    "* in -- checks if an object is in a collection of objects "
   ]
  },
  {
   "cell_type": "code",
   "execution_count": null,
   "metadata": {},
   "outputs": [],
   "source": [
    "# to check if 2 objects are equal\n",
    "2 == 4"
   ]
  },
  {
   "cell_type": "code",
   "execution_count": null,
   "metadata": {},
   "outputs": [],
   "source": [
    "# to check if 2 objects are not equal\n",
    "'one' != 'two'"
   ]
  },
  {
   "cell_type": "code",
   "execution_count": null,
   "metadata": {},
   "outputs": [],
   "source": [
    "# Strings compares the first character in alphabetical order\n",
    "'400' > '7'"
   ]
  },
  {
   "cell_type": "code",
   "execution_count": null,
   "metadata": {},
   "outputs": [],
   "source": [
    "400 > 7"
   ]
  },
  {
   "cell_type": "code",
   "execution_count": null,
   "metadata": {},
   "outputs": [],
   "source": [
    "45 >= 44"
   ]
  },
  {
   "cell_type": "code",
   "execution_count": null,
   "metadata": {},
   "outputs": [],
   "source": [
    "# Some operators don't work when trying to compare objects of different types\n",
    "a = 7\n",
    "b = '23'\n",
    "a >= b"
   ]
  },
  {
   "cell_type": "code",
   "execution_count": null,
   "metadata": {},
   "outputs": [],
   "source": [
    "# But you can often check equality\n",
    "a == b"
   ]
  },
  {
   "cell_type": "code",
   "execution_count": null,
   "metadata": {},
   "outputs": [],
   "source": []
  },
  {
   "cell_type": "markdown",
   "metadata": {},
   "source": [
    "### if else, elif\n",
    "You can use comparison operators with if else and elif keywords to control the flow of your program and execute differnt code when different conditions are met"
   ]
  },
  {
   "cell_type": "code",
   "execution_count": null,
   "metadata": {},
   "outputs": [],
   "source": [
    "# The code in the if block if the check evaluates to True\n",
    "if True:\n",
    "    print('It must be true')"
   ]
  },
  {
   "cell_type": "code",
   "execution_count": null,
   "metadata": {},
   "outputs": [],
   "source": [
    "# When including an else block the code will only run if the if check evaluates to False\n",
    "if len('34') > 7:\n",
    "    print('What a long number')\n",
    "else:\n",
    "    print('eh')"
   ]
  },
  {
   "cell_type": "code",
   "execution_count": null,
   "metadata": {},
   "outputs": [],
   "source": [
    "# you can extend the number of checks that are performed before reaching the else block by adding elif (else if)\n",
    "email = 'something@horizonmedia.com'\n",
    "if email.endswith('gmail.com'):\n",
    "    print('GOOGLE')\n",
    "elif email[4:9] == 'thing':\n",
    "    print('something')\n",
    "else:\n",
    "    print('nothing')"
   ]
  },
  {
   "cell_type": "code",
   "execution_count": null,
   "metadata": {},
   "outputs": [],
   "source": [
    "# you can add as many elif checks that you want\n",
    "if 1 + 5 > 10:\n",
    "    print('one')\n",
    "elif bool(0):\n",
    "    print('two')\n",
    "elif True:\n",
    "    print('three')\n",
    "else:\n",
    "    print('four')"
   ]
  },
  {
   "cell_type": "markdown",
   "metadata": {},
   "source": [
    "It's important to note that if the \"if\" check evaluates to True, no other elif statements will be checked\n",
    "Similarly, the first elif to evaluate to True will prevent any following elif statements from being checked"
   ]
  },
  {
   "cell_type": "markdown",
   "metadata": {},
   "source": [
    "# Data Structures\n",
    "\n",
    "There are 4 main data types in Python\n",
    "* List\n",
    "* Dictionary\n",
    "* Set\n",
    "* Tuple"
   ]
  },
  {
   "cell_type": "markdown",
   "metadata": {},
   "source": [
    "### Lists\n",
    "one of the most commonly used data structures in Python. Lists can contain any data type. One thing to note about lists is that they are ordered. There are many ways to create a list, but the most common are using []"
   ]
  },
  {
   "cell_type": "markdown",
   "metadata": {},
   "source": [
    "### Creating a list"
   ]
  },
  {
   "cell_type": "code",
   "execution_count": null,
   "metadata": {},
   "outputs": [],
   "source": [
    "# using []\n",
    "week_days = ['mon', 'tue', 'wed', 'thur', 'fri', 'sat', 'sun']\n",
    "week_days"
   ]
  },
  {
   "cell_type": "code",
   "execution_count": null,
   "metadata": {},
   "outputs": [],
   "source": [
    "# strings can also contain elements with different data types\n",
    "mixed = [1, 3.5, True, 'end']\n",
    "mixed"
   ]
  },
  {
   "cell_type": "code",
   "execution_count": null,
   "metadata": {},
   "outputs": [],
   "source": [
    "# other data structures can also be contained inside of a list. A list within a list...listseption\n",
    "matrix = [\n",
    "    [1, 2, 3],\n",
    "    [4, 5, 6],\n",
    "    [7, 8, 9]\n",
    "]"
   ]
  },
  {
   "cell_type": "markdown",
   "metadata": {},
   "source": [
    "### List Slicing"
   ]
  },
  {
   "cell_type": "code",
   "execution_count": null,
   "metadata": {},
   "outputs": [],
   "source": [
    "# Lists also support slicing notation\n",
    "week_days[0]"
   ]
  },
  {
   "cell_type": "code",
   "execution_count": null,
   "metadata": {},
   "outputs": [],
   "source": [
    "week_days[4::]"
   ]
  },
  {
   "cell_type": "code",
   "execution_count": null,
   "metadata": {},
   "outputs": [],
   "source": [
    "# slicing also works with nested lists.\n",
    "matrix[0]\n",
    "# Note that the first entry in matrix is a list [1, 2, 3]"
   ]
  },
  {
   "cell_type": "code",
   "execution_count": null,
   "metadata": {},
   "outputs": [],
   "source": [
    "# you can slice as deep as the data strucure will allow\n",
    "matrix[1][2]\n",
    "# so matrix[1] returns [4, 5, 6], and then we get the 2nd index from that list (6). remember that indexing starts at 0"
   ]
  },
  {
   "cell_type": "markdown",
   "metadata": {},
   "source": [
    "### Some List Methods"
   ]
  },
  {
   "cell_type": "code",
   "execution_count": null,
   "metadata": {},
   "outputs": [],
   "source": [
    "# you can add items to a list using the append method\n",
    "week_days.append('8')\n",
    "week_days"
   ]
  },
  {
   "cell_type": "code",
   "execution_count": null,
   "metadata": {},
   "outputs": [],
   "source": [
    "# you can remove and return an item from a list with pop\n",
    "last = week_days.pop()\n",
    "last"
   ]
  },
  {
   "cell_type": "code",
   "execution_count": null,
   "metadata": {},
   "outputs": [],
   "source": [
    "# to find the index of an element in a list you can use index\n",
    "week_days.index('tue')"
   ]
  },
  {
   "cell_type": "code",
   "execution_count": null,
   "metadata": {},
   "outputs": [],
   "source": [
    "# you can remove and return specific index by supplying the index as an argument to the pop method\n",
    "tues = week_days.pop(week_days.index('tue'))\n",
    "tues"
   ]
  },
  {
   "cell_type": "code",
   "execution_count": null,
   "metadata": {},
   "outputs": [],
   "source": [
    "# as you can see 'tue' is no longer in the week_days list\n",
    "week_days"
   ]
  },
  {
   "cell_type": "code",
   "execution_count": null,
   "metadata": {},
   "outputs": [],
   "source": [
    "# you can insert an item into a specific place using the insert method\n",
    "week_days.insert(1, 'tue')\n",
    "week_days"
   ]
  },
  {
   "cell_type": "markdown",
   "metadata": {},
   "source": [
    "## Dictionaries\n",
    "Another really common data structure in Python is a dictionary (dict). Dictionaries represent mappings of key value pairs. Although in later versions of python the order that keys are inserted is maintained, dictionaries are an inherintly unordered data structure. Dictionareis are constrcuted using {key1:value1, key2:value2, ...}"
   ]
  },
  {
   "cell_type": "code",
   "execution_count": null,
   "metadata": {},
   "outputs": [],
   "source": []
  }
 ],
 "metadata": {
  "kernelspec": {
   "display_name": "Python 3",
   "language": "python",
   "name": "python3"
  },
  "language_info": {
   "codemirror_mode": {
    "name": "ipython",
    "version": 3
   },
   "file_extension": ".py",
   "mimetype": "text/x-python",
   "name": "python",
   "nbconvert_exporter": "python",
   "pygments_lexer": "ipython3",
   "version": "3.7.2"
  }
 },
 "nbformat": 4,
 "nbformat_minor": 2
}
